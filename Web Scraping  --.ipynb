{
 "cells": [
  {
   "cell_type": "markdown",
   "metadata": {},
   "source": [
    "#  All you also learn at youtube playlist  \n",
    "## Basic  --"
   ]
  },
  {
   "cell_type": "code",
   "execution_count": 1,
   "metadata": {},
   "outputs": [],
   "source": [
    "import requests\n",
    "from bs4 import BeautifulSoup"
   ]
  },
  {
   "cell_type": "code",
   "execution_count": 2,
   "metadata": {},
   "outputs": [],
   "source": [
    "url = 'https://www.wikipedia.org/'\n",
    "req = requests.get(url)"
   ]
  },
  {
   "cell_type": "code",
   "execution_count": 3,
   "metadata": {},
   "outputs": [
    {
     "data": {
      "text/plain": [
       "'<!DOCTYPE html>\\n<html lang=\"mul\" class=\"no-js\">\\n<head>\\n<meta charset=\"utf-8\">\\n<title>Wikipedia</title>\\n<meta name=\"description\" content=\"Wikipedia is a free online encyclopedia, created and edited by volunteers around the world and hosted by the Wikimedia Foundation.\">\\n<script>\\ndocument.documentElement.className = document.documentElement.className.replace( /(^|\\\\s)no-js(\\\\s|$)/, \"$1js-enabled$2\" );\\n</script>\\n<meta name=\"viewport\" content=\"initial-scale=1,user-scalable=yes\">\\n<link rel=\"apple-touch-icon\" href=\"/static/apple-touch/wikipedia.png\">\\n<link rel=\"shortcut icon\" href=\"/static/favicon/wikipedia.ico\">\\n<link rel=\"license\" href=\"//creativecommons.org/licenses/by-sa/3.0/\">\\n<style>\\n.sprite{background-image:url(portal/wikipedia.org/assets/img/sprite-46c49284.png);background-image:linear-gradient(transparent,transparent),url(portal/wikipedia.org/assets/img/sprite-46c49284.svg);background-repeat:no-repeat;display:inline-block;vertical-align:middle}.svg-Commons-logo_sister{background-position:0 0;width:47px;height:47px}.svg-MediaWiki-logo_sister{background-position:0 -47px;width:42px;height:42px}.svg-Meta-Wiki-logo_sister{background-position:0 -89px;width:37px;height:37px}.svg-Wikibooks-logo_sister{background-position:0 -126px;width:37px;height:37px}.svg-Wikidata-logo_sister{background-position:0 -163px;width:49px;height:49px}.svg-Wikimedia-logo_black{background-position:0 -212px;width:42px;height:42px}.svg-Wikipedia_wordmark{background-position:0 -254px;width:176px;height:32px}.svg-Wikiquote-logo_sister{background-position:0 -286px;width:42px;height:42px}.svg-Wikisource-logo_sister{background-position:0 -328px;width:39px;height:39px}.svg-Wikispecies-logo_sister{background-position:0 -367px;width:42px;height:42px}.svg-Wikiversity-logo_sister{background-position:0 -409px;width:43px;height:37px}.svg-Wikivoyage-logo_sister{background-position:0 -446px;width:36px;height:36px}.svg-Wiktionary-logo_sister{background-position:0 -482px;width:37px;height:37px}.svg-arrow-down{background-position:0 -519px;width:12px;height:8px}.svg-arrow-down-blue{background-position:0 -527px;width:14px;height:14px}.svg-badge_google_play_store{background-position:0 -541px;width:124px;height:38px}.svg-badge_ios_app_store{background-position:0 -579px;width:110px;height:38px}.svg-language-icon{background-position:0 -617px;width:22px;height:22px}.svg-noimage{background-position:0 -639px;width:58px;height:58px}.svg-search-icon{background-position:0 -697px;width:22px;height:22px}.svg-wikipedia_app_tile{background-position:0 -719px;width:42px;height:42px}\\n</style>\\n<style>\\nhtml{font-family:sans-serif;-ms-text-size-adjust:100%;-webkit-text-size-adjust:100%;font-size:62.5%}body{margin:0}article,aside,details,figcaption,figure,footer,header,hgroup,main,menu,nav,section,summary{display:block}audio,canvas,progress,video{display:inline-block;vertical-align:baseline}audio:not([controls]){display:none;height:0}[hidden],template{display:none}a{background-color:transparent}a:active,a:hover{outline:0}abbr[title]{border-bottom:1px dotted}b,strong{font-weight:700}dfn{font-style:italic}h1{font-size:32px;font-size:3.2rem;margin:12px 0;margin:1.2rem 0}mark{background:#fc3;color:#000}small{font-size:13px;font-size:1.3rem}sub,sup{font-size:75%;line-height:0;position:relative;vertical-align:baseline}sup{top:-.5em}sub{bottom:-.25em}svg:not(:root){overflow:hidden}figure{margin:16px 40px;margin:1.6rem 4rem}hr{box-sizing:content-box}pre{overflow:auto}code,kbd,pre,samp{font-family:monospace,monospace;font-size:14px;font-size:1.4rem}button,input,optgroup,select,textarea{color:inherit;font:inherit;margin:0}button{overflow:visible}button,select{text-transform:none}button,html input[type=button],input[type=reset],input[type=submit]{-webkit-appearance:button;cursor:pointer}button[disabled],html input[disabled]{cursor:default}button::-moz-focus-inner,input::-moz-focus-inner{border:0;padding:0}input{line-height:normal}input[type=checkbox],input[type=radio]{box-sizing:border-box;padding:0}input[type=number]::-webkit-inner-spin-button,input[type=number]::-webkit-outer-spin-button{height:auto}input[type=search]{-webkit-appearance:none;box-sizing:content-box}input[type=search]::-webkit-search-cancel-button,input[type=search]::-webkit-search-decoration{-webkit-appearance:none}input[type=search]:focus{outline-offset:-2px}fieldset{border:1px solid #a2a9b1;margin:0 2px;margin:0 .2rem;padding:6px 10px 12px;padding:.6rem 1rem 1.2rem}legend{border:0;padding:0}textarea{overflow:auto}optgroup{font-weight:700}table{border-collapse:collapse;border-spacing:0}td,th{padding:0}.hidden,[hidden]{display:none!important}.screen-reader-text{display:block;position:absolute!important;clip:rect(1px,1px,1px,1px);width:1px;height:1px;margin:-1px;border:0;padding:0;overflow:hidden}body{background-color:#fff;font-family:-apple-system,BlinkMacSystemFont,Segoe UI,Roboto,Lato,Helvetica,Arial,sans-serif;font-size:14px;font-size:1.4rem;line-height:1.5;margin:4px 0 16px;margin:.4rem 0 1.6rem}a{-ms-touch-action:manipulation;touch-action:manipulation}a,a:active,a:focus{unicode-bidi:embed;outline:0;color:#36c;text-decoration:none}a:focus{outline:1px solid #36c}a:hover{text-decoration:underline}img{vertical-align:middle}hr,img{border:0}hr{clear:both;height:0;border-bottom:1px solid #c8ccd1;margin:2.6px 13px;margin:.26rem 1.3rem}.pure-button{display:inline-block;zoom:1;line-height:normal;white-space:nowrap;text-align:center;cursor:pointer;-webkit-user-drag:none;-webkit-user-select:none;-moz-user-select:none;-ms-user-select:none;user-select:none;box-sizing:border-box;background-color:#f8f9fa;color:#202122;position:relative;min-height:19.2px;min-height:1.92rem;min-width:16px;min-width:1.6rem;margin:1.6px 0;margin:.16rem 0;border:1px solid #a2a9b1;border-radius:2px;padding:8px 16px;padding:.8rem 1.6rem;font-family:inherit;font-size:inherit;font-weight:700;text-decoration:none;vertical-align:top;transition:background .1s ease,color .1s ease,border-color .1s ease,box-shadow .1s ease}.pure-button::-moz-focus-inner{padding:0;border:0}.pure-button-hover,.pure-button:hover{background-color:#fff;border-color:#a2a9b1;color:#404244}.pure-button-active,.pure-button:active{background-color:#c8ccd1;border-color:#72777d;color:#000}.pure-button:focus{outline:0;border-color:#36c;box-shadow:inset 0 0 0 1px #36c}.pure-button-primary-progressive{background-color:#36c;border-color:#36c;color:#fff}.pure-button-primary-progressive:hover{background:#447ff5;border-color:#447ff5}.pure-button-primary-progressive:active{background-color:#2a4b8d;border-color:#2a4b8d;box-shadow:none;color:#fff}.pure-button-primary-progressive:focus{box-shadow:inset 0 0 0 1px #36c,inset 0 0 0 2px #fff;border-color:#36c}.pure-form input[type=search]{background-color:#fff;display:inline-block;box-sizing:border-box;border:1px solid #a2a9b1;border-radius:2px;padding:8px;padding:.8rem;box-shadow:inset 0 0 0 1px #fff;vertical-align:middle}.pure-form input:focus:invalid{color:#b32424;border-color:#d33}.pure-form fieldset{margin:0;padding:5.6px 0 12px;padding:.56rem 0 1.2rem;border:0}@media only screen and (max-width:480px){.pure-form input[type=search]{display:block}}.central-textlogo-wrapper{display:inline-block;vertical-align:bottom}.central-textlogo{position:relative;margin:40px auto 5px;margin:4rem auto .5rem;width:270px;font-family:Linux Libertine,Hoefler Text,Georgia,Times New Roman,Times,serif;font-size:30px;font-size:3rem;font-weight:400;line-height:33px;line-height:3.3rem;text-align:center;-ms-font-feature-settings:\"ss05\";font-feature-settings:\"ss05\"}.localized-slogan{display:block;font-family:Linux Libertine,Georgia,Times,serif;font-size:15px;font-size:1.5rem;font-weight:400}.central-textlogo__image{color:transparent;display:inline-block;overflow:hidden;text-indent:-10000px}.central-featured-logo{position:absolute;top:158px;left:35px}@media (max-width:480px){.central-textlogo{position:relative;height:70px;width:auto;margin:0;margin-top:20px;margin-top:2rem;text-align:center;line-height:25px;line-height:2.5rem;text-indent:-10px;text-indent:-1rem}.central-textlogo-wrapper{position:relative;top:12px;text-indent:2px;text-indent:.2rem}.svg-Wikipedia_wordmark{width:150px;height:25px;background-position:0 -218px;background-size:100%}.localized-slogan{font-size:14px;font-size:1.4rem}.central-featured-logo{position:relative;display:inline-block;width:57px;height:auto;left:0;top:0}}@media (max-width:240px){.central-textlogo__image{height:auto}}.central-featured{position:relative;height:325px;height:32.5rem;width:546px;width:54.6rem;max-width:100%;margin:0 auto;text-align:center;vertical-align:middle}.central-featured-lang{position:absolute;width:156px;width:15.6rem}.central-featured-lang .link-box{display:block;padding:0;text-decoration:none;white-space:normal}.central-featured-lang .link-box:hover strong{text-decoration:underline}.central-featured-lang strong{display:block;font-size:16px;font-size:1.6rem}.central-featured-lang small{color:#54595d;display:inline-block;font-size:13px;font-size:1.3rem;line-height:1.6}.central-featured-lang em{font-style:italic}.central-featured-lang .emNonItalicLang{font-style:normal}.lang1{top:0;right:60%}.lang2{top:0;left:60%}.lang3{top:20%;right:70%}.lang4{top:20%;left:70%}.lang5{top:40%;right:72%}.lang6{top:40%;left:72%}.lang7{top:60%;right:70%}.lang8{top:60%;left:70%}.lang9{top:80%;right:60%}.lang10{top:80%;left:60%}@media (max-width:480px){.central-featured{width:auto;height:auto;margin-top:70px;margin-top:7rem;font-size:13px;font-size:1.3rem;text-align:left}.central-featured:after{content:\" \";display:block;visibility:hidden;clear:both;height:0;font-size:0}.central-featured-lang{display:block;float:left;position:relative;top:auto;left:auto;right:auto;box-sizing:border-box;height:64px;height:6.4rem;width:33%;margin:0 0 16px;padding:0 16px;padding:0 1.6rem;font-size:14px;font-size:1.4rem;text-align:center}.central-featured-lang strong{font-size:14px;font-size:1.4rem;margin-bottom:4px}.central-featured-lang small{line-height:1.4}}@media (max-width:375px){.central-featured-lang{font-size:13px;font-size:1.3rem}}@media (max-width:240px){.central-featured-lang{width:100%}}.search-container{float:none;max-width:95%;width:540px;margin:4px auto 19.5px;margin:.4rem auto 1.95rem;text-align:center;vertical-align:middle}.search-container fieldset{word-spacing:-4px}.search-container button{min-height:44px;min-height:4.4rem;margin:0;border-radius:0 2px 2px 0;padding:8px 16px;padding:.8rem 1.6rem;font-size:16px;font-size:1.6rem;z-index:2}.search-container button .svg-search-icon{text-indent:-9999px}.search-container input[type=search]::-webkit-search-results-button,.search-container input[type=search]::-webkit-search-results-decoration{-webkit-appearance:none}.search-container input::-webkit-calendar-picker-indicator{display:none}.search-container .sprite.svg-arrow-down{position:absolute;top:8px;top:.8rem;right:6px;right:.6rem}#searchInput{-webkit-appearance:none;width:100%;height:44px;height:4.4rem;border-width:1px 0 1px 1px;border-radius:2px 0 0 2px;padding:8px 96px 8px 12px;padding:.8rem 9.6rem .8rem 1.2rem;font-size:16px;font-size:1.6rem;line-height:1.6;transition:background .1s ease,border-color .1s ease,box-shadow .1s ease}#searchInput:hover{border-color:#72777d}#searchInput:focus{border-color:#36c;box-shadow:inset 0 0 0 1px #36c;outline:0}.search-container .search-input{display:inline-block;position:relative;width:73%;vertical-align:top}@media only screen and (max-width:480px){.search-container .pure-form fieldset{margin-left:10px;margin-left:1rem;margin-right:66px;margin-right:6.6rem}.search-container .search-input{width:100%;margin-right:-66px;margin-right:-6.6rem}.search-container .pure-form button{float:right;right:-56px;right:-5.6rem}}.suggestions-dropdown{background-color:#fff;display:inline-block;position:absolute;left:0;z-index:2;margin:0;padding:0;border:1px solid #a2a9b1;border-top:0;box-shadow:0 2px 2px 0 rgba(0,0,0,.25);list-style-type:none;word-spacing:normal}.suggestion-link,.suggestions-dropdown{box-sizing:border-box;width:100%;text-align:left}.suggestion-link{display:block;position:relative;min-height:70px;min-height:7rem;padding:10px 10px 10px 85px;padding:1rem 1rem 1rem 8.5rem;border-bottom:1px solid #eaecf0;color:inherit;text-decoration:none;text-align:initial;white-space:normal}.suggestion-link.active{background-color:#eaf3ff}a.suggestion-link:hover{text-decoration:none}a.suggestion-link:active,a.suggestion-link:focus{outline:0;white-space:normal}.suggestion-thumbnail{background-color:#eaecf0;background-image:url(portal/wikipedia.org/assets/img/noimage.png);background-image:linear-gradient(transparent,transparent),url(\"data:image/svg+xml;charset=utf-8,%3Csvg xmlns=\\'http://www.w3.org/2000/svg\\' viewBox=\\'0 0 56 56\\'%3E%3Cpath fill=\\'%23eee\\' d=\\'M0 0h56v56H0z\\'/%3E%3Cpath fill=\\'%23999\\' d=\\'M36.4 13.5H17.8v24.9c0 1.4.9 2.3 2.3 2.3h18.7v-25c.1-1.4-1-2.2-2.4-2.2zM30.2 17h5.1v6.4h-5.1V17zm-8.8 0h6v1.8h-6V17zm0 4.6h6v1.8h-6v-1.8zm0 15.5v-1.8h13.8v1.8H21.4zm13.8-4.5H21.4v-1.8h13.8v1.8zm0-4.7H21.4v-1.8h13.8v1.8z\\'/%3E%3C/svg%3E\");background-image:linear-gradient(transparent,transparent),url(portal/wikipedia.org/assets/img/noimage.svg) !ie;background-image:-o-linear-gradient(transparent,transparent),url(portal/wikipedia.org/assets/img/noimage.png);background-position:50%;background-repeat:no-repeat;background-size:100% auto;background-size:cover;height:100%;width:70px;width:7rem;position:absolute;top:0;left:0}.suggestion-title{margin:0 0 7.8px;margin:0 0 .78rem;color:#54595d;font-size:16px;font-size:1.6rem;line-height:18.72px;line-height:1.872rem}.suggestion-link.active .suggestion-title{color:#36c}.suggestion-highlight{font-style:normal;text-decoration:underline}.suggestion-description{color:#72777d;margin:0;font-size:13px;font-size:1.3rem;line-height:14.299px;line-height:1.43rem}.styled-select{display:none;position:absolute;top:10px;top:1rem;bottom:12px;bottom:1.2rem;right:12px;right:1.2rem;max-width:95px;max-width:9.5rem;height:24px;height:2.4rem;border-radius:2px}.styled-select:hover{background-color:#f8f9fa}.styled-select .hide-arrow{right:32px;right:3.2rem;max-width:68px;max-width:6.8rem;height:24px;height:2.4rem;overflow:hidden;text-align:right}.styled-select select{background:transparent;display:inline;overflow:hidden;height:24px;height:2.4rem;min-width:110px;min-width:11rem;max-width:110px;max-width:11rem;width:110px;width:11rem;outline:0;box-sizing:border-box;border:0;line-height:24px;line-height:2.4rem;-webkit-appearance:none;-moz-appearance:window;text-indent:.01px;text-overflow:\"\";opacity:0;-moz-appearance:none;appearance:none;cursor:pointer}.styled-select.no-js{width:95px;width:9.5rem}.styled-select.no-js select{opacity:1;margin:0;padding:0 24px 0 8px;padding:0 2.4rem 0 .8rem;color:#54595d}.styled-select.no-js .hide-arrow{width:68px;width:6.8rem}.search-container .styled-select.no-js .js-langpicker-label{display:none}.styled-select.js-enabled .hide-arrow{padding:0 24px 0 8px;padding:0 2.4rem 0 .8rem}.styled-select.js-enabled select{background:transparent;position:absolute;top:0;left:0;height:100%;z-index:1;width:100%;border:0;margin:0;padding:0 24px;padding:0 2.4rem;color:transparent;color:hsla(0,0%,100%,0)}.styled-select.js-enabled select option{color:#54595d}.styled-select.js-enabled select:hover{background-color:transparent}.styled-select-active-helper{display:none}.styled-select.js-enabled select:focus+.styled-select-active-helper{display:block;position:absolute;top:0;left:0;z-index:0;width:100%;height:100%;outline:1px solid #36c}.search-container .js-langpicker-label{display:inline-block;margin:0;color:#54595d;font-size:13px;font-size:1.3rem;line-height:24px;line-height:2.4rem;text-transform:uppercase}.styled-select select:hover{background-color:#f8f9fa}.styled-select select::-ms-expand{display:none}.styled-select select:focus{outline:0;box-shadow:none}@-moz-document url-prefix(){.styled-select select{width:110%}}.other-projects{display:inline-block;width:65%}.other-project{float:left;position:relative;width:33%;height:90px;height:9rem}.other-project-link{display:inline-block;min-height:50px;width:100%;white-space:nowrap}a.other-project-link{text-decoration:none}.other-project-icon{display:inline-block;width:50px;text-align:center}.svg-Wikinews-logo_sister{background-image:url(portal/wikipedia.org/assets/img/Wikinews-logo_sister.png);background-position:0 0;background-size:47px 26px;width:47px;height:26px}@media (-webkit-min-device-pixel-ratio:1.25),(min-resolution:120dpi){.svg-Wikinews-logo_sister{background-image:url(portal/wikipedia.org/assets/img/Wikinews-logo_sister@2x.png)}}.other-project-text,.other-project .sprite-project-logos{display:inline-block}.other-project-text{max-width:65%;font-size:14px;font-size:1.4rem;vertical-align:middle;white-space:normal}.other-project-tagline,.other-project-title{display:block}.other-project-tagline{color:#54595d;font-size:13px;font-size:1.3rem}@media screen and (max-width:768px){.other-projects{width:100%}.other-project{width:33%}}@media screen and (max-width:480px){.other-project{width:50%}.other-project-tagline{-webkit-hyphens:auto;-ms-hyphens:auto;hyphens:auto}}@media screen and (max-width:320px){.other-project-text{margin-right:5px;font-size:13px;font-size:1.3rem}}.lang-list-container{background-color:#f8f9fa;overflow:hidden;position:relative;box-sizing:border-box;max-height:0;width:80%;margin:-16px auto 48px;margin:-1.6rem auto 4.8rem;transition:max-height .5s ease-out,visibility .5s ease-in 1s}.js-enabled .lang-list-container{visibility:hidden}.lang-list-active .lang-list-container,.no-js .lang-list-container{visibility:visible;max-height:10000px;transition:max-height 1s ease-in .2s,visibility 1000s ease-in 0ms}.no-js .lang-list-button{display:none}.lang-list-button-wrapper{text-align:center}.lang-list-button{background-color:#f8f9fa;display:inline;position:relative;z-index:1;margin:0 auto;padding:6px 12px;padding:.6rem 1.2rem;outline:16px solid #fff;outline:1.6rem solid #fff;border:1px solid #a2a9b1;border-radius:2px;color:#36c;font-size:14px;font-size:1.4rem;font-weight:700;line-height:1;transition:outline-width .1s ease-in .5s}.lang-list-button:hover{background-color:#fff;border-color:#a2a9b1}.lang-list-button:focus{border-color:#36c;box-shadow:inset 0 0 0 1px #36c}.lang-list-active .lang-list-button{background-color:#fff;outline:1px solid #fff;border-color:#72777d;transition-delay:0s}.lang-list-button-text{padding:0 6.4px;padding:0 .64rem;vertical-align:middle}.lang-list-button i{display:inline-block;vertical-align:middle}.no-js .lang-list-border,.no-js .lang-list-button{display:none}.lang-list-border{background-color:#c8ccd1;display:block;position:relative;max-width:460px;width:80%;margin:-16px auto 16px;margin:-1.6rem auto 1.6rem;height:1px;transition:max-width .2s ease-out 400s}.lang-list-active .lang-list-border{max-width:85%;transition-delay:0s}.no-js .lang-list-content{padding:0}.lang-list-content{position:relative;box-sizing:border-box;width:100%;padding:16px 16px 0;padding:1.6rem 1.6rem 0}.svg-arrow-down-blue{transition:transform .2s ease-out}.lang-list-active .svg-arrow-down-blue{transform:rotate(180deg)}.langlist{width:auto;margin:16px 0;margin:1.6rem 0;text-align:left}.langlist-others{font-weight:700}.hlist ul{margin:0;padding:0}.hlist li,.hlist ul ul{display:inline}.hlist li:before{content:\" Â· \";font-weight:700}.hlist li:first-child:before{content:none}.hlist li>ul:before{content:\"\\\\00a0(\"}.hlist li>ul:after{content:\") \"}.langlist>ul{column-width:11.2rem}.langlist>ul>li{display:block;line-height:1.7;break-inside:avoid}.no-js .langlist>ul{text-align:center;list-style-type:circle}.no-js .langlist>ul>li{display:inline-block;padding:0 8px;padding:0 .8rem}.langlist>ul>li:before{content:none}.langlist>ul>li a{white-space:normal}.langlist-others>ul{text-align:center;column-count:1}.langlist-others>ul li{display:inline}.langlist-others>ul li:before{content:\" Â· \"}.langlist-others>ul li:first-child:before{content:none}@media (max-width:480px){.langlist{font-size:inherit}.langlist a{word-wrap:break-word;white-space:normal}.lang-list-container{width:auto;margin-left:8px;margin-left:.8rem;margin-right:8px;margin-right:.8rem}.bookshelf{overflow:visible}}.bookshelf{display:block;border-top:1px solid #c8ccd1;box-shadow:0 -1px 0 #fff;text-align:center;white-space:nowrap}.bookshelf .text{background-color:#f8f9fa;position:relative;top:-11.2px;top:-1.12rem;font-weight:400;padding:0 8px;padding:0 .8rem}.bookshelf-container{display:block;overflow:visible;width:100%;height:1px;margin:24px 0 16px;margin:2.4rem 0 1.6rem;font-size:13px;font-size:1.3rem;font-weight:700;line-height:1.5}@media (max-width:480px){.bookshelf{width:auto;left:auto}.bookshelf-container{text-align:left;width:auto}}.app-badges .footer-sidebar-content{background-color:#f8f9fa}.app-badges .footer-sidebar-text{padding-top:8px;padding-top:.8rem;padding-bottom:8px;padding-bottom:.8rem}.app-badges .sprite.footer-sidebar-icon{top:8px;top:.8rem}.app-badges ul{margin:0;padding:0;list-style-type:none}.app-badge{display:inline-block}@media screen and (max-width:768px){.app-badges .footer-sidebar-content{text-align:center}.app-badges .sprite.footer-sidebar-icon{display:inline-block;position:relative;margin:0;top:-3px;left:0;vertical-align:middle;transform:scale(.7)}}.footer{overflow:hidden;max-width:100%;margin:0 auto;padding:41.6px 12.8px 12.8px;padding:4.16rem 1.28rem 1.28rem;font-size:13px;font-size:1.3rem}.footer:after,.footer:before{content:\" \";display:table}.footer:after{clear:both}.footer-sidebar{width:35%;float:left;clear:left;margin-bottom:32px;margin-bottom:3.2rem;vertical-align:top}.footer-sidebar-content{position:relative;max-width:350px;margin:0 auto}.sprite.footer-sidebar-icon{position:absolute;top:0;left:8px;left:.8rem}.footer-sidebar-text{position:relative;margin:0;padding-left:60px;padding-left:6rem;padding-right:20px;padding-right:2rem;color:#54595d}.site-license{margin:0;color:#54595d;text-align:center}.site-license small:after{content:\"\\\\2022\";display:inline-block;font-size:13px;font-size:1.3rem;line-height:inherit;margin-left:8px;margin-left:.8rem;margin-right:5px;margin-right:.5rem}.site-license small:last-child:after{display:none}@media screen and (max-width:768px){.footer{display:-ms-flexbox;display:flex;-ms-flex-direction:column;flex-direction:column;padding-top:12.8px;padding-top:1.28rem}.footer .footer-sidebar{-ms-flex-order:1;order:1}.footer .other-projects{-ms-flex-order:2;order:2}.footer .app-badges{-ms-flex-order:3;order:3}.footer-sidebar{width:100%}.sprite.footer-sidebar-icon{display:block;position:relative;left:0;margin:0 auto 12.8px;margin:0 auto 1.28rem}.footer-sidebar-content{max-width:none}.footer-sidebar-text{margin:0;padding:0;text-align:center}}@media screen and (max-width:480px){.footer{padding:9.6px 6.4px 12.8px;padding:.96rem .64rem 1.28rem}}@media (max-width:480px){.search-container{margin-top:0;height:78px;height:7.8rem;position:absolute;top:96px;top:9.6rem;left:0;right:0;max-width:100%;width:auto;padding:0;text-align:left}.search-container label{display:none}.search-form #searchInput{max-width:40%;vertical-align:middle}.search-form .formBtn{max-width:25%;vertical-align:middle}form fieldset{margin:0;border-left:0;border-right:0}hr{margin-top:6.5px;margin-top:.65rem}}@media (-webkit-min-device-pixel-ratio:2),(min--moz-device-pixel-ratio:2),(min-resolution:2dppx),(min-resolution:192dpi){hr{border-bottom-width:.5px}}@supports (-webkit-marquee-style:slide){hr{border-bottom-width:1px}}.js-enabled .central-featured,.js-enabled .jsl10n{visibility:hidden}.jsl10n-visible .central-featured,.jsl10n-visible .jsl10n{visibility:visible}.otherprojects-icon{*zoom:1;*display:inline}.suggestion-item{*width:auto}.search-container button{*display:inline}#searchInput{*padding:8px 0 0 8px;*width:90%;*height:34px}#search-input{*display:inline}.langlist ul{*text-align:center}.langlist ul li{*display:inline!important;*padding-left:5px;*padding-right:5px}@media print{body{background-color:transparent}a{color:#000!important;background:none!important;padding:0!important}a:link,a:visited{color:#520;background:transparent}img{border:0}}\\n</style>\\n<link rel=\"preload\" as=\"image\" href=\"portal/wikipedia.org/assets/img/sprite-46c49284.svg\">\\n<link rel=\"preconnect\" href=\"//upload.wikimedia.org\">\\n</head>\\n<body id=\"www-wikipedia-org\">\\n<div class=\"central-textlogo\" style=\"font-size: 1em;\">\\n<img class=\"central-featured-logo\" src=\"portal/wikipedia.org/assets/img/Wikipedia-logo-v2.png\" srcset=\"portal/wikipedia.org/assets/img/Wikipedia-logo-v2@1.5x.png 1.5x, portal/wikipedia.org/assets/img/Wikipedia-logo-v2@2x.png 2x\" width=\"200\" height=\"183\" alt=\"Wikipedia\">\\n<h1 class=\"central-textlogo-wrapper\">\\n<span class=\"central-textlogo__image sprite svg-Wikipedia_wordmark\">\\nWikipedia\\n</span>\\n<strong class=\"jsl10n localized-slogan\" data-jsl10n=\"slogan\">The Free Encyclopedia</strong>\\n</h1>\\n</div>\\n<!-- container div for the central logo and the links to the most viewed language editions -->\\n<div class=\"central-featured\" data-el-section=\"primary links\">\\n<!-- Rankings from http://stats.wikimedia.org/EN/Sitemap.htm -->\\n<!-- Article counts from http://meta.wikimedia.org/wiki/List_of_Wikipedias/Table -->\\n<!-- #1. en.wikipedia.org - 1 626 855 000 views/day -->\\n<div class=\"central-featured-lang lang1\" lang=\"en\" dir=\"ltr\">\\n<a id=\"js-link-box-en\" href=\"//en.wikipedia.org/\" title=\"English â\\x80\\x94 Wikipedia â\\x80\\x94 The Free Encyclopedia\" class=\"link-box\" data-slogan=\"The Free Encyclopedia\">\\n<strong>English</strong>\\n<small><bdi dir=\"ltr\">6&nbsp;137&nbsp;000+</bdi> <span>articles</span></small>\\n</a>\\n</div>\\n<!-- #2. ja.wikipedia.org - 262 652 000 views/day -->\\n<div class=\"central-featured-lang lang2\" lang=\"ja\" dir=\"ltr\">\\n<a id=\"js-link-box-ja\" href=\"//ja.wikipedia.org/\" title=\"Nihongo â\\x80\\x94 ã\\x82¦ã\\x82£ã\\x82\\xadã\\x83\\x9aã\\x83\\x87ã\\x82£ã\\x82¢ â\\x80\\x94 ã\\x83\\x95ã\\x83ªã\\x83¼ç\\x99¾ç§\\x91äº\\x8bå\\x85¸\" class=\"link-box\" data-slogan=\"ã\\x83\\x95ã\\x83ªã\\x83¼ç\\x99¾ç§\\x91äº\\x8bå\\x85¸\">\\n<strong>æ\\x97¥æ\\x9c¬èª\\x9e</strong>\\n<small><bdi dir=\"ltr\">1&nbsp;222&nbsp;000+</bdi> <span>è¨\\x98äº\\x8b</span></small>\\n</a>\\n</div>\\n<!-- #3. es.wikipedia.org - 222 454 000 views/day -->\\n<div class=\"central-featured-lang lang3\" lang=\"es\" dir=\"ltr\">\\n<a id=\"js-link-box-es\" href=\"//es.wikipedia.org/\" title=\"EspaÃ±ol â\\x80\\x94 Wikipedia â\\x80\\x94 La enciclopedia libre\" class=\"link-box\" data-slogan=\"La enciclopedia libre\">\\n<strong>EspaÃ±ol</strong>\\n<small><bdi dir=\"ltr\">1&nbsp;617&nbsp;000+</bdi> <span>artÃ\\xadculos</span></small>\\n</a>\\n</div>\\n<!-- #4. de.wikipedia.org - 188 829 000 views/day -->\\n<div class=\"central-featured-lang lang4\" lang=\"de\" dir=\"ltr\">\\n<a id=\"js-link-box-de\" href=\"//de.wikipedia.org/\" title=\"Deutsch â\\x80\\x94 Wikipedia â\\x80\\x94 Die freie EnzyklopÃ¤die\" class=\"link-box\" data-slogan=\"Die freie EnzyklopÃ¤die\">\\n<strong>Deutsch</strong>\\n<small><bdi dir=\"ltr\">2&nbsp;467&nbsp;000+</bdi> <span>Artikel</span></small>\\n</a>\\n</div>\\n<!-- #5. ru.wikipedia.org - 144 447 000 views/day -->\\n<div class=\"central-featured-lang lang5\" lang=\"ru\" dir=\"ltr\">\\n<a id=\"js-link-box-ru\" href=\"//ru.wikipedia.org/\" title=\"Russkiy â\\x80\\x94 Ð\\x92Ð¸ÐºÐ¸Ð¿ÐµÐ´Ð¸Ñ\\x8f â\\x80\\x94 Ð¡Ð²Ð¾Ð±Ð¾Ð´Ð½Ð°Ñ\\x8f Ñ\\x8dÐ½Ñ\\x86Ð¸ÐºÐ»Ð¾Ð¿ÐµÐ´Ð¸Ñ\\x8f\" class=\"link-box\" data-slogan=\"Ð¡Ð²Ð¾Ð±Ð¾Ð´Ð½Ð°Ñ\\x8f Ñ\\x8dÐ½Ñ\\x86Ð¸ÐºÐ»Ð¾Ð¿ÐµÐ´Ð¸Ñ\\x8f\">\\n<strong>Ð\\xa0Ñ\\x83Ñ\\x81Ñ\\x81ÐºÐ¸Ð¹</strong>\\n<small><bdi dir=\"ltr\">1&nbsp;651&nbsp;000+</bdi> <span>Ñ\\x81Ñ\\x82Ð°Ñ\\x82ÐµÐ¹</span></small>\\n</a>\\n</div>\\n<!-- #6. fr.wikipedia.org - 139 127 000 views/day -->\\n<div class=\"central-featured-lang lang6\" lang=\"fr\" dir=\"ltr\">\\n<a id=\"js-link-box-fr\" href=\"//fr.wikipedia.org/\" title=\"FranÃ§ais â\\x80\\x94 WikipÃ©dia â\\x80\\x94 Lâ\\x80\\x99encyclopÃ©die libre\" class=\"link-box\" data-slogan=\"Lâ\\x80\\x99encyclopÃ©die libre\">\\n<strong>FranÃ§ais</strong>\\n<small><bdi dir=\"ltr\">2&nbsp;241&nbsp;000+</bdi> <span>articles</span></small>\\n</a>\\n</div>\\n<!-- #7. it.wikipedia.org - 102 968 000 views/day -->\\n<div class=\"central-featured-lang lang7\" lang=\"it\" dir=\"ltr\">\\n<a id=\"js-link-box-it\" href=\"//it.wikipedia.org/\" title=\"Italiano â\\x80\\x94 Wikipedia â\\x80\\x94 L&#x27;enciclopedia libera\" class=\"link-box\" data-slogan=\"L&#x27;enciclopedia libera\">\\n<strong>Italiano</strong>\\n<small><bdi dir=\"ltr\">1&nbsp;627&nbsp;000+</bdi> <span>voci</span></small>\\n</a>\\n</div>\\n<!-- #8. zh.wikipedia.org - 90 356 000 views/day -->\\n<div class=\"central-featured-lang lang8\" lang=\"zh\" dir=\"ltr\">\\n<a id=\"js-link-box-zh\" href=\"//zh.wikipedia.org/\" title=\"ZhÅ\\x8dngwÃ©n â\\x80\\x94 ç¶\\xadå\\x9fºç\\x99¾ç§\\x91 â\\x80\\x94 è\\x87ªç\\x94±ç\\x9a\\x84ç\\x99¾ç§\\x91å\\x85¨æ\\x9b¸\" class=\"link-box\" data-converttitle-hans=\"ZhÅ\\x8dngwÃ©n â\\x80\\x94 ç»´å\\x9fºç\\x99¾ç§\\x91 â\\x80\\x94 è\\x87ªç\\x94±ç\\x9a\\x84ç\\x99¾ç§\\x91å\\x85¨ä¹¦\" data-slogan=\"è\\x87ªç\\x94±ç\\x9a\\x84ç\\x99¾ç§\\x91å\\x85¨æ\\x9b¸\">\\n<strong>ä¸\\xadæ\\x96\\x87</strong>\\n<small><bdi dir=\"ltr\">1&nbsp;136&nbsp;000+</bdi> <span data-convert-hans=\"æ\\x9d¡ç\\x9b®\" id=\"zh_art\">æ¢\\x9dç\\x9b®</span></small>\\n</a>\\n</div>\\n<!-- #9. pt.wikipedia.org - 74 627 000 views/day -->\\n<div class=\"central-featured-lang lang9\" lang=\"pt\" dir=\"ltr\">\\n<a id=\"js-link-box-pt\" href=\"//pt.wikipedia.org/\" title=\"PortuguÃªs â\\x80\\x94 WikipÃ©dia â\\x80\\x94 A enciclopÃ©dia livre\" class=\"link-box\" data-slogan=\"A enciclopÃ©dia livre\">\\n<strong>PortuguÃªs</strong>\\n<small><bdi dir=\"ltr\">1&nbsp;041&nbsp;000+</bdi> <span>artigos</span></small>\\n</a>\\n</div>\\n<!-- #10. pl.wikipedia.org - 47 584 000 views/day -->\\n<div class=\"central-featured-lang lang10\" lang=\"pl\" dir=\"ltr\">\\n<a id=\"js-link-box-pl\" href=\"//pl.wikipedia.org/\" title=\"Polski â\\x80\\x94 Wikipedia â\\x80\\x94 Wolna encyklopedia\" class=\"link-box\" data-slogan=\"Wolna encyklopedia\">\\n<strong>Polski</strong>\\n<small><bdi dir=\"ltr\">1&nbsp;423&nbsp;000+</bdi> <span>haseÅ\\x82</span></small>\\n</a>\\n</div>\\n</div>\\n<!-- Search form -->\\n<div class=\"search-container\">\\n<form class=\"pure-form\" id=\"search-form\" action=\"//www.wikipedia.org/search-redirect.php\" data-el-section=\"search\">\\n<fieldset>\\n<!-- search-redirect.php is project-independent, requires a family -->\\n<input type=\"hidden\" name=\"family\" value=\"wikipedia\">\\n<input type=\"hidden\" id=\"hiddenLanguageInput\" name=\"language\" value=\"en\">\\n<div class=\"search-input\" id=\"search-input\">\\n<label for=\"searchInput\" class=\"screen-reader-text\" data-jsl10n=\"search-input-label\">Search Wikipedia</label>\\n<input id=\"searchInput\" name=\"search\" type=\"search\" size=\"20\" autofocus=\"autofocus\" accesskey=\"F\" dir=\"auto\" autocomplete=\"off\">\\n<div class=\"styled-select no-js\">\\n<div class=\"hide-arrow\">\\n<select id=\"searchLanguage\" name=\"language\">\\n<!-- 100,000+ content pages, sorted by romanization -->\\n<option value=\"ar\" lang=\"ar\">Ø§Ù\\x84Ø¹Ø±Ø¨Ù\\x8aØ©</option><!-- Al-Ê¿ArabÄ«yah -->\\n<option value=\"ast\" lang=\"ast\">Asturianu</option>\\n<option value=\"az\" lang=\"az\">AzÉ\\x99rbaycanca</option>\\n<option value=\"bg\" lang=\"bg\">Ð\\x91Ñ\\x8aÐ»Ð³Ð°Ñ\\x80Ñ\\x81ÐºÐ¸</option><!-- BÇ\\x8elgarski -->\\n<option value=\"nan\" lang=\"nan\">BÃ¢n-lÃ¢m-gÃº / HÅ\\x8d-lÃ³-oÄ\\x93</option>\\n<option value=\"be\" lang=\"be\">Ð\\x91ÐµÐ»Ð°Ñ\\x80Ñ\\x83Ñ\\x81ÐºÐ°Ñ\\x8f</option><!-- Belaruskaya -->\\n<option value=\"ca\" lang=\"ca\">CatalÃ\\xa0</option>\\n<option value=\"cs\" lang=\"cs\">Ä\\x8ceÅ¡tina</option><!-- Ä\\x8deÅ¡tina -->\\n<option value=\"cy\" lang=\"cy\">Cymraeg</option><!-- Cymraeg -->\\n<option value=\"da\" lang=\"da\">Dansk</option>\\n<option value=\"de\" lang=\"de\">Deutsch</option>\\n<option value=\"et\" lang=\"et\">Eesti</option>\\n<option value=\"el\" lang=\"el\">Î\\x95Î»Î»Î·Î½Î¹ÎºÎ¬</option><!-- EllÄ«nikÃ¡ -->\\n<option value=\"en\" lang=\"en\" selected=selected>English</option><!-- English -->\\n<option value=\"es\" lang=\"es\">EspaÃ±ol</option>\\n<option value=\"eo\" lang=\"eo\">Esperanto</option>\\n<option value=\"eu\" lang=\"eu\">Euskara</option>\\n<option value=\"fa\" lang=\"fa\">Ù\\x81Ø§Ø±Ø³Û\\x8c</option><!-- FÄ\\x81rsi -->\\n<option value=\"fr\" lang=\"fr\">FranÃ§ais</option>\\n<option value=\"gl\" lang=\"gl\">Galego</option>\\n<option value=\"hy\" lang=\"hy\">Õ\\x80Õ¡ÕµÕ¥Ö\\x80Õ¥Õ¶</option><!-- Hayeren -->\\n<option value=\"hi\" lang=\"hi\">à¤¹à¤¿à¤¨à¥\\x8dà¤¦à¥\\x80</option><!-- HindÄ« -->\\n<option value=\"hr\" lang=\"hr\">Hrvatski</option>\\n<option value=\"id\" lang=\"id\">Bahasa Indonesia</option>\\n<option value=\"it\" lang=\"it\">Italiano</option>\\n<option value=\"he\" lang=\"he\">×¢×\\x91×¨×\\x99×ª</option><!-- Ê¿Ivrit -->\\n<option value=\"ka\" lang=\"ka\">á\\x83¥á\\x83\\x90á\\x83\\xa0á\\x83\\x97á\\x83£á\\x83\\x9aá\\x83\\x98</option><!-- Kartuli -->\\n<option value=\"la\" lang=\"la\">Latina</option>\\n<option value=\"lv\" lang=\"lv\">LatvieÅ¡u</option>\\n<option value=\"lt\" lang=\"lt\">LietuviÅ³</option>\\n<option value=\"hu\" lang=\"hu\">Magyar</option>\\n<option value=\"mk\" lang=\"mk\">Ð\\x9cÐ°ÐºÐµÐ´Ð¾Ð½Ñ\\x81ÐºÐ¸</option><!-- Makedonski -->\\n<option value=\"arz\" lang=\"arz\">Ù\\x85ØµØ±Ù\\x89</option><!-- Maá¹£rÄ« -->\\n<option value=\"ms\" lang=\"ms\">Bahasa Melayu</option>\\n<option value=\"min\" lang=\"min\">Bahaso Minangkabau</option>\\n<option value=\"nl\" lang=\"nl\">Nederlands</option>\\n<option value=\"ja\" lang=\"ja\">æ\\x97¥æ\\x9c¬èª\\x9e</option><!-- Nihongo -->\\n<option value=\"no\" lang=\"nb\">Norsk (bokmÃ¥l)</option>\\n<option value=\"nn\" lang=\"nn\">Norsk (nynorsk)</option>\\n<option value=\"ce\" lang=\"ce\">Ð\\x9dÐ¾Ñ\\x85Ñ\\x87Ð¸Ð¹Ð½</option><!-- NoxÃ§iyn -->\\n<option value=\"uz\" lang=\"uz\">OÊ»zbekcha / Ð\\x8eÐ·Ð±ÐµÐºÑ\\x87Ð°</option>\\n<option value=\"pl\" lang=\"pl\">Polski</option>\\n<option value=\"pt\" lang=\"pt\">PortuguÃªs</option>\\n<option value=\"kk\" lang=\"kk\">Ò\\x9aÐ°Ð·Ð°Ò\\x9bÑ\\x88Ð° / QazaqÅ\\x9fa / Ù\\x82Ø§Ø²Ø§Ù\\x82Ø´Ø§</option>\\n<option value=\"ro\" lang=\"ro\">RomÃ¢nÄ\\x83</option>\\n<option value=\"ru\" lang=\"ru\">Ð\\xa0Ñ\\x83Ñ\\x81Ñ\\x81ÐºÐ¸Ð¹</option><!-- Russkiy -->\\n<option value=\"simple\" lang=\"en\">Simple English</option>\\n<option value=\"ceb\" lang=\"ceb\">Sinugboanong Binisaya</option>\\n<option value=\"sk\" lang=\"sk\">SlovenÄ\\x8dina</option>\\n<option value=\"sl\" lang=\"sl\">SlovenÅ¡Ä\\x8dina</option>\\n<option value=\"sr\" lang=\"sr\">Ð¡Ñ\\x80Ð¿Ñ\\x81ÐºÐ¸ / Srpski</option>\\n<option value=\"sh\" lang=\"sh\">Srpskohrvatski / Ð¡Ñ\\x80Ð¿Ñ\\x81ÐºÐ¾Ñ\\x85Ñ\\x80Ð²Ð°Ñ\\x82Ñ\\x81ÐºÐ¸</option>\\n<option value=\"fi\" lang=\"fi\">Suomi</option><!-- suomi -->\\n<option value=\"sv\" lang=\"sv\">Svenska</option>\\n<option value=\"ta\" lang=\"ta\">à®¤à®®à®¿à®´à¯\\x8d</option><!-- Tamiá¸» -->\\n<option value=\"tt\" lang=\"tt\">Ð¢Ð°Ñ\\x82Ð°Ñ\\x80Ñ\\x87Ð° / TatarÃ§a</option>\\n<option value=\"th\" lang=\"th\">à¸\\xa0à¸²à¸©à¸²à¹\\x84à¸\\x97à¸¢</option><!-- Phasa Thai -->\\n<option value=\"tg\" lang=\"tg\">Ð¢Ð¾Ò·Ð¸ÐºÓ£</option><!-- TojikÄ« -->\\n<option value=\"azb\" lang=\"azb\">ØªÛ\\x86Ø±Ú©Ø¬Ù\\x87</option><!-- TÃ¼rkce -->\\n<option value=\"tr\" lang=\"tr\">TÃ¼rkÃ§e</option><!-- TÃ¼rkÃ§e -->\\n<option value=\"uk\" lang=\"uk\">Ð£ÐºÑ\\x80Ð°Ñ\\x97Ð½Ñ\\x81Ñ\\x8cÐºÐ°</option><!-- Ukrayinsâ\\x80\\x99ka -->\\n<option value=\"ur\" lang=\"ur\">Ø§Ø±Ø¯Ù\\x88</option><!-- Urdu -->\\n<option value=\"vi\" lang=\"vi\">Tiáº¿ng Viá»\\x87t</option>\\n<option value=\"vo\" lang=\"vo\">VolapÃ¼k</option>\\n<option value=\"war\" lang=\"war\">Winaray</option>\\n<option value=\"zh\" lang=\"zh\">ä¸\\xadæ\\x96\\x87</option><!-- ZhÅ\\x8dngwÃ©n -->\\n<option value=\"ko\" lang=\"ko\">í\\x95\\x9cêµ\\xadì\\x96´</option><!-- Hangugeo -->\\n</select>\\n<div class=\"styled-select-active-helper\"></div>\\n</div>\\n<i class=\"sprite svg-arrow-down\"></i>\\n</div>\\n</div>\\n<button class=\"pure-button pure-button-primary-progressive\" type=\"submit\">\\n<i class=\"sprite svg-search-icon\" data-jsl10n=\"search-input-button\">Search</i>\\n</button>\\n<input type=\"hidden\" value=\"Go\" name=\"go\">\\n</fieldset>\\n</form>\\n</div>\\n<div class=\"lang-list-button-wrapper\">\\n<button id=\"js-lang-list-button\" class=\"lang-list-button\">\\n<i class=\"sprite svg-language-icon\"></i>\\n<span class=\"lang-list-button-text jsl10n\" data-jsl10n=\"language-button-text\">Read Wikipedia in your language </span>\\n<i class=\"sprite svg-arrow-down-blue\"></i>\\n</button>\\n</div>\\n<div class=\"lang-list-border\"></div>\\n<div class=\"lang-list-container\">\\n<div id=\"js-lang-lists\" class=\"lang-list-content\">\\n<!-- Bookshelves -->\\n<h2 class=\"bookshelf-container\">\\n<span class=\"bookshelf\">\\n<span class=\"text\">\\n<bdi dir=\"ltr\">\\n1&nbsp;000&nbsp;000+\\n</bdi>\\n<span class=\"jsl10n\" data-jsl10n=\"entries\">\\narticles\\n</span>\\n</span>\\n</span>\\n</h2>\\n<!-- 1,000,000+ content pages -->\\n<div class=\"langlist langlist-large hlist\" data-el-section=\"secondary links\">\\n<ul>\\n<li><a href=\"//ar.wikipedia.org/\" lang=\"ar\" title=\"Al-Ê¿ArabÄ«yah\"><bdi dir=\"rtl\">Ø§Ù\\x84Ø¹Ø±Ø¨Ù\\x8aØ©</bdi></a></li>\\n<li><a href=\"//de.wikipedia.org/\" lang=\"de\">Deutsch</a></li>\\n<li><a href=\"//en.wikipedia.org/\" lang=\"en\" title=\"English\">English</a></li>\\n<li><a href=\"//es.wikipedia.org/\" lang=\"es\">EspaÃ±ol</a></li>\\n<li><a href=\"//fr.wikipedia.org/\" lang=\"fr\">FranÃ§ais</a></li>\\n<li><a href=\"//it.wikipedia.org/\" lang=\"it\">Italiano</a></li>\\n<li><a href=\"//arz.wikipedia.org/\" lang=\"arz\" title=\"Maá¹£rÄ«\"><bdi dir=\"rtl\">Ù\\x85ØµØ±Ù\\x89</bdi></a></li>\\n<li><a href=\"//nl.wikipedia.org/\" lang=\"nl\">Nederlands</a></li>\\n<li><a href=\"//ja.wikipedia.org/\" lang=\"ja\" title=\"Nihongo\">æ\\x97¥æ\\x9c¬èª\\x9e</a></li>\\n<li><a href=\"//pl.wikipedia.org/\" lang=\"pl\">Polski</a></li>\\n<li><a href=\"//pt.wikipedia.org/\" lang=\"pt\">PortuguÃªs</a></li>\\n<li><a href=\"//ru.wikipedia.org/\" lang=\"ru\" title=\"Russkiy\">Ð\\xa0Ñ\\x83Ñ\\x81Ñ\\x81ÐºÐ¸Ð¹</a></li>\\n<li><a href=\"//ceb.wikipedia.org/\" lang=\"ceb\">Sinugboanong Binisaya</a></li>\\n<li><a href=\"//sv.wikipedia.org/\" lang=\"sv\">Svenska</a></li>\\n<li><a href=\"//uk.wikipedia.org/\" lang=\"uk\" title=\"Ukrayinsâ\\x80\\x99ka\">Ð£ÐºÑ\\x80Ð°Ñ\\x97Ð½Ñ\\x81Ñ\\x8cÐºÐ°</a></li>\\n<li><a href=\"//vi.wikipedia.org/\" lang=\"vi\">Tiáº¿ng Viá»\\x87t</a></li>\\n<li><a href=\"//war.wikipedia.org/\" lang=\"war\">Winaray</a></li>\\n<li><a href=\"//zh.wikipedia.org/\" lang=\"zh\" title=\"ZhÅ\\x8dngwÃ©n\">ä¸\\xadæ\\x96\\x87</a></li>\\n</ul>\\n</div>\\n<!-- Bookshelves -->\\n<h2 class=\"bookshelf-container\">\\n<span class=\"bookshelf\">\\n<span class=\"text\">\\n<bdi dir=\"ltr\">\\n100&nbsp;000+\\n</bdi>\\n<span class=\"jsl10n\" data-jsl10n=\"entries\">\\narticles\\n</span>\\n</span>\\n</span>\\n</h2>\\n<!-- 100,000+ content pages -->\\n<div class=\"langlist langlist-large hlist\" data-el-section=\"secondary links\">\\n<ul>\\n<li><a href=\"//ast.wikipedia.org/\" lang=\"ast\">Asturianu</a></li>\\n<li><a href=\"//az.wikipedia.org/\" lang=\"az\">AzÉ\\x99rbaycanca</a></li>\\n<li><a href=\"//bg.wikipedia.org/\" lang=\"bg\" title=\"BÇ\\x8elgarski\">Ð\\x91Ñ\\x8aÐ»Ð³Ð°Ñ\\x80Ñ\\x81ÐºÐ¸</a></li>\\n<li><a href=\"//zh-min-nan.wikipedia.org/\" lang=\"nan\">BÃ¢n-lÃ¢m-gÃº / HÅ\\x8d-lÃ³-oÄ\\x93</a></li>\\n<li><a href=\"//be.wikipedia.org/\" lang=\"be\" title=\"Belaruskaya\">Ð\\x91ÐµÐ»Ð°Ñ\\x80Ñ\\x83Ñ\\x81ÐºÐ°Ñ\\x8f</a></li>\\n<li><a href=\"//ca.wikipedia.org/\" lang=\"ca\">CatalÃ\\xa0</a></li>\\n<li><a href=\"//cs.wikipedia.org/\" lang=\"cs\" title=\"Ä\\x8deÅ¡tina\">Ä\\x8ceÅ¡tina</a></li>\\n<li><a href=\"//cy.wikipedia.org/\" lang=\"cy\" title=\"Cymraeg\">Cymraeg</a></li>\\n<li><a href=\"//da.wikipedia.org/\" lang=\"da\">Dansk</a></li>\\n<li><a href=\"//et.wikipedia.org/\" lang=\"et\">Eesti</a></li>\\n<li><a href=\"//el.wikipedia.org/\" lang=\"el\" title=\"EllÄ«nikÃ¡\">Î\\x95Î»Î»Î·Î½Î¹ÎºÎ¬</a></li>\\n<li><a href=\"//eo.wikipedia.org/\" lang=\"eo\">Esperanto</a></li>\\n<li><a href=\"//eu.wikipedia.org/\" lang=\"eu\">Euskara</a></li>\\n<li><a href=\"//fa.wikipedia.org/\" lang=\"fa\" title=\"FÄ\\x81rsi\"><bdi dir=\"rtl\">Ù\\x81Ø§Ø±Ø³Û\\x8c</bdi></a></li>\\n<li><a href=\"//gl.wikipedia.org/\" lang=\"gl\">Galego</a></li>\\n<li><a href=\"//hy.wikipedia.org/\" lang=\"hy\" title=\"Hayeren\">Õ\\x80Õ¡ÕµÕ¥Ö\\x80Õ¥Õ¶</a></li>\\n<li><a href=\"//hi.wikipedia.org/\" lang=\"hi\" title=\"HindÄ«\">à¤¹à¤¿à¤¨à¥\\x8dà¤¦à¥\\x80</a></li>\\n<li><a href=\"//hr.wikipedia.org/\" lang=\"hr\">Hrvatski</a></li>\\n<li><a href=\"//id.wikipedia.org/\" lang=\"id\">Bahasa Indonesia</a></li>\\n<li><a href=\"//he.wikipedia.org/\" lang=\"he\" title=\"Ê¿Ivrit\"><bdi dir=\"rtl\">×¢×\\x91×¨×\\x99×ª</bdi></a></li>\\n<li><a href=\"//ka.wikipedia.org/\" lang=\"ka\" title=\"Kartuli\">á\\x83¥á\\x83\\x90á\\x83\\xa0á\\x83\\x97á\\x83£á\\x83\\x9aá\\x83\\x98</a></li>\\n<li><a href=\"//la.wikipedia.org/\" lang=\"la\">Latina</a></li>\\n<li><a href=\"//lv.wikipedia.org/\" lang=\"lv\">LatvieÅ¡u</a></li>\\n<li><a href=\"//lt.wikipedia.org/\" lang=\"lt\">LietuviÅ³</a></li>\\n<li><a href=\"//hu.wikipedia.org/\" lang=\"hu\">Magyar</a></li>\\n<li><a href=\"//mk.wikipedia.org/\" lang=\"mk\" title=\"Makedonski\">Ð\\x9cÐ°ÐºÐµÐ´Ð¾Ð½Ñ\\x81ÐºÐ¸</a></li>\\n<li><a href=\"//ms.wikipedia.org/\" lang=\"ms\">Bahasa Melayu</a></li>\\n<li><a href=\"//min.wikipedia.org/\" lang=\"min\">Bahaso Minangkabau</a></li>\\n<li lang=\"no\">Norsk<ul><li><a href=\"//no.wikipedia.org/\" lang=\"nb\">bokmÃ¥l</a></li><li><a href=\"//nn.wikipedia.org/\" lang=\"nn\">nynorsk</a></li></ul></li>\\n<li><a href=\"//ce.wikipedia.org/\" lang=\"ce\" title=\"NoxÃ§iyn\">Ð\\x9dÐ¾Ñ\\x85Ñ\\x87Ð¸Ð¹Ð½</a></li>\\n<li><a href=\"//uz.wikipedia.org/\" lang=\"uz\">OÊ»zbekcha / Ð\\x8eÐ·Ð±ÐµÐºÑ\\x87Ð°</a></li>\\n<li><a href=\"//kk.wikipedia.org/\" lang=\"kk\"><span lang=\"kk-Cyrl\">Ò\\x9aÐ°Ð·Ð°Ò\\x9bÑ\\x88Ð°</span> / <span lang=\"kk-Latn\">QazaqÅ\\x9fa</span> / <bdi lang=\"kk-Arab\" dir=\"rtl\">Ù\\x82Ø§Ø²Ø§Ù\\x82Ø´Ø§</bdi></a></li>\\n<li><a href=\"//ro.wikipedia.org/\" lang=\"ro\">RomÃ¢nÄ\\x83</a></li>\\n<li><a href=\"//simple.wikipedia.org/\" lang=\"en\">Simple English</a></li>\\n<li><a href=\"//sk.wikipedia.org/\" lang=\"sk\">SlovenÄ\\x8dina</a></li>\\n<li><a href=\"//sl.wikipedia.org/\" lang=\"sl\">SlovenÅ¡Ä\\x8dina</a></li>\\n<li><a href=\"//sr.wikipedia.org/\" lang=\"sr\">Ð¡Ñ\\x80Ð¿Ñ\\x81ÐºÐ¸ / Srpski</a></li>\\n<li><a href=\"//sh.wikipedia.org/\" lang=\"sh\">Srpskohrvatski / Ð¡Ñ\\x80Ð¿Ñ\\x81ÐºÐ¾Ñ\\x85Ñ\\x80Ð²Ð°Ñ\\x82Ñ\\x81ÐºÐ¸</a></li>\\n<li><a href=\"//fi.wikipedia.org/\" lang=\"fi\" title=\"suomi\">Suomi</a></li>\\n<li><a href=\"//ta.wikipedia.org/\" lang=\"ta\" title=\"Tamiá¸»\">à®¤à®®à®¿à®´à¯\\x8d</a></li>\\n<li><a href=\"//tt.wikipedia.org/\" lang=\"tt\">Ð¢Ð°Ñ\\x82Ð°Ñ\\x80Ñ\\x87Ð° / TatarÃ§a</a></li>\\n<li><a href=\"//th.wikipedia.org/\" lang=\"th\" title=\"Phasa Thai\">à¸\\xa0à¸²à¸©à¸²à¹\\x84à¸\\x97à¸¢</a></li>\\n<li><a href=\"//tg.wikipedia.org/\" lang=\"tg\" title=\"TojikÄ«\">Ð¢Ð¾Ò·Ð¸ÐºÓ£</a></li>\\n<li><a href=\"//azb.wikipedia.org/\" lang=\"azb\" title=\"TÃ¼rkce\"><bdi dir=\"rtl\">ØªÛ\\x86Ø±Ú©Ø¬Ù\\x87</bdi></a></li>\\n<li><a href=\"//tr.wikipedia.org/\" lang=\"tr\" title=\"TÃ¼rkÃ§e\">TÃ¼rkÃ§e</a></li>\\n<li><a href=\"//ur.wikipedia.org/\" lang=\"ur\" title=\"Urdu\"><bdi dir=\"rtl\">Ø§Ø±Ø¯Ù\\x88</bdi></a></li>\\n<li><a href=\"//vo.wikipedia.org/\" lang=\"vo\">VolapÃ¼k</a></li>\\n<li><a href=\"//ko.wikipedia.org/\" lang=\"ko\" title=\"Hangugeo\">í\\x95\\x9cêµ\\xadì\\x96´</a></li>\\n</ul>\\n</div>\\n<!-- Bookshelves -->\\n<h2 class=\"bookshelf-container\">\\n<span class=\"bookshelf\">\\n<span class=\"text\">\\n<bdi dir=\"ltr\">\\n10&nbsp;000+\\n</bdi>\\n<span class=\"jsl10n\" data-jsl10n=\"entries\">\\narticles\\n</span>\\n</span>\\n</span>\\n</h2>\\n<!-- 10,000+ content pages -->\\n<div class=\"langlist hlist\" data-el-section=\"secondary links\">\\n<ul>\\n<li><a href=\"//ace.wikipedia.org/\" lang=\"ace\">Bahsa AcÃ¨h</a></li>\\n<li><a href=\"//af.wikipedia.org/\" lang=\"af\">Afrikaans</a></li>\\n<li><a href=\"//als.wikipedia.org/\" lang=\"gsw\">Alemannisch</a></li>\\n<li><a href=\"//am.wikipedia.org/\" lang=\"am\" title=\"Ä\\x80mariÃ±Ã±Ä\\x81\">á\\x8a\\xa0á\\x88\\x9bá\\x88\\xadá\\x8a\\x9b</a></li>\\n<li><a href=\"//an.wikipedia.org/\" lang=\"an\">AragonÃ©s</a></li>\\n<li><a href=\"//bn.wikipedia.org/\" lang=\"bn\" title=\"Bangla\">à¦¬à¦¾à¦\\x82à¦²à¦¾</a></li>\\n<li><a href=\"//map-bms.wikipedia.org/\" lang=\"map-x-bms\">Basa Banyumasan</a></li>\\n<li><a href=\"//ba.wikipedia.org/\" lang=\"ba\" title=\"BaÅ\\x9fqortsa\">Ð\\x91Ð°Ñ\\x88Ò¡Ð¾Ñ\\x80Ñ\\x82Ñ\\x81Ð°</a></li>\\n<li><a href=\"//be-tarask.wikipedia.org/\" lang=\"be\" title=\"Belaruskaya (TaraÅ¡kievica)\">Ð\\x91ÐµÐ»Ð°Ñ\\x80Ñ\\x83Ñ\\x81ÐºÐ°Ñ\\x8f (Ð¢Ð°Ñ\\x80Ð°Ñ\\x88ÐºÐµÐ²Ñ\\x96Ñ\\x86Ð°)</a></li>\\n<li><a href=\"//bcl.wikipedia.org/\" lang=\"bcl\">Bikol Central</a></li>\\n<li><a href=\"//bpy.wikipedia.org/\" lang=\"bpy\" title=\"Bishnupriya Manipuri\">à¦¬à¦¿à¦·à§\\x8dà¦£à§\\x81à¦ªà§\\x8dà¦°à¦¿à¦¯à¦¼à¦¾ à¦®à¦£à¦¿à¦ªà§\\x81à¦°à§\\x80</a></li>\\n<li><a href=\"//bar.wikipedia.org/\" lang=\"bar\">Boarisch</a></li>\\n<li><a href=\"//bs.wikipedia.org/\" lang=\"bs\">Bosanski</a></li>\\n<li><a href=\"//br.wikipedia.org/\" lang=\"br\">Brezhoneg</a></li>\\n<li><a href=\"//cv.wikipedia.org/\" lang=\"cv\" title=\"Ä\\x8cÄ\\x83vaÅ¡la\">Ð§Ó\\x91Ð²Ð°Ñ\\x88Ð»Ð°</a></li>\\n<li><a href=\"//nv.wikipedia.org/\" lang=\"nv\">DinÃ© Bizaad</a></li>\\n<li><a href=\"//eml.wikipedia.org/\" lang=\"roa-x-eml\">EmigliÃ\\xa0nâ\\x80\\x93RumagnÃ²l</a></li>\\n<li><a href=\"//fo.wikipedia.org/\" lang=\"fo\">FÃ¸royskt</a></li>\\n<li><a href=\"//fy.wikipedia.org/\" lang=\"fy\">Frysk</a></li>\\n<li><a href=\"//ga.wikipedia.org/\" lang=\"ga\">Gaeilge</a></li>\\n<li><a href=\"//gd.wikipedia.org/\" lang=\"gd\">GÃ\\xa0idhlig</a></li>\\n<li><a href=\"//gu.wikipedia.org/\" lang=\"gu\" title=\"Gujarati\">àª\\x97à«\\x81àª\\x9càª°àª¾àª¤à«\\x80</a></li>\\n<li><a href=\"//hsb.wikipedia.org/\" lang=\"hsb\">Hornjoserbsce</a></li>\\n<li><a href=\"//io.wikipedia.org/\" lang=\"io\">Ido</a></li>\\n<li><a href=\"//ilo.wikipedia.org/\" lang=\"ilo\">Ilokano</a></li>\\n<li><a href=\"//ia.wikipedia.org/\" lang=\"ia\">Interlingua</a></li>\\n<li><a href=\"//os.wikipedia.org/\" lang=\"os\" title=\"Iron Ã\\x86vzag\">Ð\\x98Ñ\\x80Ð¾Ð½ Ã¦Ð²Ð·Ð°Ð³</a></li>\\n<li><a href=\"//is.wikipedia.org/\" lang=\"is\">Ã\\x8dslenska</a></li>\\n<li><a href=\"//jv.wikipedia.org/\" lang=\"jv\" title=\"Jawa\">Jawa</a></li>\\n<li><a href=\"//kn.wikipedia.org/\" lang=\"kn\" title=\"Kannada\">à²\\x95à²¨à³\\x8dà²¨à²¡</a></li>\\n<li><a href=\"//ht.wikipedia.org/\" lang=\"ht\">KreyÃ²l Ayisyen</a></li>\\n<li><a href=\"//ku.wikipedia.org/\" lang=\"ku\"><span lang=\"ku-Latn\">KurdÃ®</span> / <bdi lang=\"ku-Arab\" dir=\"rtl\">Ù\\x83Ù\\x88Ø±Ø¯Û\\x8c</bdi></a></li>\\n<li><a href=\"//ckb.wikipedia.org/\" lang=\"ckb\" title=\"KurdÃ®y NawendÃ®\"><bdi dir=\"rtl\">Ú©Ù\\x88Ø±Ø¯Û\\x8cÛ\\x8c Ù\\x86Ø§Ù\\x88Û\\x95Ù\\x86Ø¯Û\\x8c</bdi></a></li>\\n<li><a href=\"//ky.wikipedia.org/\" lang=\"ky\" title=\"KyrgyzÄ\\x8da\">Ð\\x9aÑ\\x8bÑ\\x80Ð³Ñ\\x8bÐ·Ñ\\x87Ð°</a></li>\\n<li><a href=\"//mrj.wikipedia.org/\" lang=\"mjr\" title=\"Kyryk Mary\">Ð\\x9aÑ\\x8bÑ\\x80Ñ\\x8bÐº Ð\\x9cÐ°Ñ\\x80Ñ\\x8b</a></li>\\n<li><a href=\"//lb.wikipedia.org/\" lang=\"lb\">LÃ«tzebuergesch</a></li>\\n<li><a href=\"//li.wikipedia.org/\" lang=\"li\">Limburgs</a></li>\\n<li><a href=\"//lmo.wikipedia.org/\" lang=\"lmo\">Lumbaart</a></li>\\n<li><a href=\"//mai.wikipedia.org/\" lang=\"mai\" title=\"MaithilÄ«\">à¤®à¥\\x88à¤¥à¤¿à¤²à¥\\x80</a></li>\\n<li><a href=\"//mg.wikipedia.org/\" lang=\"mg\">Malagasy</a></li>\\n<li><a href=\"//ml.wikipedia.org/\" lang=\"ml\" title=\"Malayalam\">à´®à´²à´¯à´¾à´³à´\\x82</a></li>\\n<li><a href=\"//zh-classical.wikipedia.org/\" lang=\"lzh\" title=\"Man4jin4 / WÃ©nyÃ¡n\">æ\\x96\\x87è¨\\x80</a></li>\\n<li><a href=\"//mr.wikipedia.org/\" lang=\"mr\" title=\"Marathi\">à¤®à¤°à¤¾à¤\\xa0à¥\\x80</a></li>\\n<li><a href=\"//xmf.wikipedia.org/\" lang=\"xmf\" title=\"Margaluri\">á\\x83\\x9bá\\x83\\x90á\\x83\\xa0á\\x83\\x92á\\x83\\x90á\\x83\\x9aá\\x83£á\\x83\\xa0á\\x83\\x98</a></li>\\n<li><a href=\"//mzn.wikipedia.org/\" lang=\"mzn\" title=\"MÃ¤zeruni\"><bdi dir=\"rtl\">Ù\\x85Ø§Ø²Ù\\x90Ø±Ù\\x88Ù\\x86Û\\x8c</bdi></a></li>\\n<li><a href=\"//cdo.wikipedia.org/\" lang=\"cdo\" title=\"Ming-deng-ngu\">MÃ¬ng-dÄ\\x95Ì¤ng-ngá¹³Ì\\x84 / é\\x96©æ\\x9d±èª\\x9e</a></li>\\n<li><a href=\"//mn.wikipedia.org/\" lang=\"mn\" title=\"Mongol\">Ð\\x9cÐ¾Ð½Ð³Ð¾Ð»</a></li>\\n<li><a href=\"//my.wikipedia.org/\" lang=\"my\" title=\"Myanmarsar\">á\\x80\\x99á\\x80¼á\\x80\\x94á\\x80ºá\\x80\\x99á\\x80¬á\\x80\\x98á\\x80¬á\\x80\\x9eá\\x80¬</a></li>\\n<li><a href=\"//new.wikipedia.org/\" lang=\"new\" title=\"Nepal Bhasa\">à¤¨à¥\\x87à¤ªà¤¾à¤² à¤\\xadà¤¾à¤·à¤¾</a></li>\\n<li><a href=\"//ne.wikipedia.org/\" lang=\"ne\" title=\"NepÄ\\x81lÄ«\">à¤¨à¥\\x87à¤ªà¤¾à¤²à¥\\x80</a></li>\\n<li><a href=\"//nap.wikipedia.org/\" lang=\"nap\">Nnapulitano</a></li>\\n<li><a href=\"//frr.wikipedia.org/\" lang=\"frr\">Nordfriisk</a></li>\\n<li><a href=\"//oc.wikipedia.org/\" lang=\"oc\">Occitan</a></li>\\n<li><a href=\"//mhr.wikipedia.org/\" lang=\"mhr\" title=\"Olyk Marij\">Ð\\x9cÐ°Ñ\\x80Ð¸Ð¹</a></li>\\n<li><a href=\"//or.wikipedia.org/\" lang=\"or\" title=\"Oá¹\\x9biÄ\\x81\">à¬\\x93à¬¡à¬¿à¬¼à¬\\x86</a></li>\\n<li><a href=\"//pa.wikipedia.org/\" lang=\"pa\" title=\"PaÃ±jÄ\\x81bÄ« (GurmukhÄ«)\">à¨ªà©°à¨\\x9cà¨¾à¨¬à©\\x80 (à¨\\x97à©\\x81à¨°à¨®à©\\x81à¨\\x96à©\\x80)</a></li>\\n<li><a href=\"//pnb.wikipedia.org/\" lang=\"pnb\" title=\"PaÃ±jÄ\\x81bÄ« (ShÄ\\x81hmukhÄ«)\"><bdi dir=\"rtl\">Ù¾Ù\\x86Ø¬Ø§Ø¨Û\\x8c (Ø´Ø§Û\\x81 Ù\\x85Ú©Ú¾Û\\x8c)</bdi></a></li>\\n<li><a href=\"//ps.wikipedia.org/\" lang=\"ps\" title=\"PaÊ\\x82to\"><bdi dir=\"rtl\">Ù¾Ú\\x9aØªÙ\\x88</bdi></a></li>\\n<li><a href=\"//pms.wikipedia.org/\" lang=\"pms\">PiemontÃ¨is</a></li>\\n<li><a href=\"//nds.wikipedia.org/\" lang=\"nds\">PlattdÃ¼Ã¼tsch</a></li>\\n<li><a href=\"//qu.wikipedia.org/\" lang=\"qu\">Runa Simi</a></li>\\n<li><a href=\"//sa.wikipedia.org/\" lang=\"sa\" title=\"Saá¹\\x83ská¹\\x9btam\">à¤¸à¤\\x82à¤¸à¥\\x8dà¤\\x95à¥\\x83à¤¤à¤®à¥\\x8d</a></li>\\n<li><a href=\"//sah.wikipedia.org/\" lang=\"sah\" title=\"Saxa Tyla\">Ð¡Ð°Ñ\\x85Ð° Ð¢Ñ\\x8bÐ»Ð°</a></li>\\n<li><a href=\"//sco.wikipedia.org/\" lang=\"sco\">Scots</a></li>\\n<li><a href=\"//sq.wikipedia.org/\" lang=\"sq\">Shqip</a></li>\\n<li><a href=\"//scn.wikipedia.org/\" lang=\"scn\">Sicilianu</a></li>\\n<li><a href=\"//si.wikipedia.org/\" lang=\"si\" title=\"Siá¹\\x83hala\">à·\\x83à·\\x92à¶\\x82à·\\x84à¶½</a></li>\\n<li><a href=\"//sd.wikipedia.org/\" lang=\"sd\" title=\"SindhÄ«\"><bdi dir=\"rtl\">Ø³Ù\\x86Ú\\x8cÙ\\x8a</bdi></a></li>\\n<li><a href=\"//szl.wikipedia.org/\" lang=\"szl\">Å\\x9alÅ¯nski</a></li>\\n<li><a href=\"//su.wikipedia.org/\" lang=\"su\">Basa Sunda</a></li>\\n<li><a href=\"//sw.wikipedia.org/\" lang=\"sw\">Kiswahili</a></li>\\n<li><a href=\"//tl.wikipedia.org/\" lang=\"tl\">Tagalog</a></li>\\n<li><a href=\"//te.wikipedia.org/\" lang=\"te\" title=\"Telugu\">à°¤à±\\x86à°²à±\\x81à°\\x97à±\\x81</a></li>\\n<li><a href=\"//bug.wikipedia.org/\" lang=\"bug\">á¨\\x85á¨\\x94 á¨\\x95á¨\\x99á¨\\x81á¨\\x97 / Basa Ugi</a></li>\\n<li><a href=\"//vec.wikipedia.org/\" lang=\"vec\">VÃ¨neto</a></li>\\n<li><a href=\"//wa.wikipedia.org/\" lang=\"wa\">Walon</a></li>\\n<li><a href=\"//wuu.wikipedia.org/\" lang=\"wuu\" title=\"WÃº YÇ\\x94\" data-convert-hans=\"å\\x90´è¯\\xad\" id=\"wuu_wiki\">å\\x90³èª\\x9e</a></li>\\n<li><a href=\"//yi.wikipedia.org/\" lang=\"yi\" title=\"YidiÅ¡\"><bdi dir=\"rtl\">×\\x99×\\x99Ö´×\\x93×\\x99×©</bdi></a></li>\\n<li><a href=\"//yo.wikipedia.org/\" lang=\"yo\">YorÃ¹bÃ¡</a></li>\\n<li><a href=\"//zh-yue.wikipedia.org/\" lang=\"yue\" title=\"Yuht YÃºh / Jyut6 jyu5\" data-convert-hans=\"ç²¤è¯\\xad\" id=\"zh-yue_wiki\">ç²µèª\\x9e</a></li>\\n<li><a href=\"//diq.wikipedia.org/\" lang=\"diq\" title=\"Zazaki\">Zazaki</a></li>\\n<li><a href=\"//bat-smg.wikipedia.org/\" lang=\"sgs\">Å½emaitÄ\\x97Å¡ka</a></li>\\n</ul>\\n</div>\\n<!-- Bookshelves -->\\n<h2 class=\"bookshelf-container\">\\n<span class=\"bookshelf\">\\n<span class=\"text\">\\n<bdi dir=\"ltr\">\\n1&nbsp;000+\\n</bdi>\\n<span class=\"jsl10n\" data-jsl10n=\"entries\">\\narticles\\n</span>\\n</span>\\n</span>\\n</h2>\\n<!-- 1,000+ content pages -->\\n<div class=\"langlist hlist\" data-el-section=\"secondary links\">\\n<ul>\\n<li><a href=\"//kbd.wikipedia.org/\" lang=\"kbd\" title=\"Adighabze\">Ð\\x90Ð´Ñ\\x8bÐ³Ñ\\x8dÐ±Ð·Ñ\\x8d</a></li>\\n<li><a href=\"//ang.wikipedia.org/\" lang=\"ang\">Ã\\x86nglisc</a></li>\\n<li><a href=\"//ab.wikipedia.org/\" lang=\"ab\" title=\"Aá¹\\x97sua\">Ð\\x90Ò§Ñ\\x81Ñ\\x83Ð°</a></li>\\n<li><a href=\"//hyw.wikipedia.org/\" lang=\"hyw\" title=\"Arevmdahayeren\">Ô±Ö\\x80Õ¥Ö\\x82Õ´Õ¿Õ¡Õ°Õ¡ÕµÕ¥Ö\\x80Õ§Õ¶</a></li>\\n<li><a href=\"//roa-rup.wikipedia.org/\" lang=\"roa-rup\">ArmÃ£neashce</a></li>\\n<li><a href=\"//frp.wikipedia.org/\" lang=\"frp\">Arpitan</a></li>\\n<li><a href=\"//ig.wikipedia.org/\" lang=\"ig\">asá»¥sá»¥ bekee maá»\\x8dbá»¥ asá»¥sá»¥ oyibo</a></li>\\n<li><a href=\"//arc.wikipedia.org/\" lang=\"arc\" title=\"Ä\\x80tÃ»rÄ\\x81yÃ¢\"><bdi dir=\"rtl\">Ü\\x90Ü¬Ü\\x98ÜªÜ\\x9dÜ\\x90</bdi></a></li>\\n<li><a href=\"//gn.wikipedia.org/\" lang=\"gn\">AvaÃ±eâ\\x80\\x99áº½</a></li>\\n<li><a href=\"//av.wikipedia.org/\" lang=\"av\" title=\"Avar\">Ð\\x90Ð²Ð°Ñ\\x80</a></li>\\n<li><a href=\"//ay.wikipedia.org/\" lang=\"ay\">Aymar</a></li>\\n<li><a href=\"//bjn.wikipedia.org/\" lang=\"bjn\">Bahasa Banjar</a></li>\\n<li><a href=\"//bh.wikipedia.org/\" lang=\"bh\" title=\"BhÅ\\x8djapurÄ«\">à¤\\xadà¥\\x8bà¤\\x9cà¤ªà¥\\x81à¤°à¥\\x80</a></li>\\n<li><a href=\"//bi.wikipedia.org/\" lang=\"bi\">Bislama</a></li>\\n<li><a href=\"//bo.wikipedia.org/\" lang=\"bo\" title=\"Bod Skad\">à½\\x96à½¼à½\\x91à¼\\x8bà½¡à½²à½\\x82</a></li>\\n<li><a href=\"//bxr.wikipedia.org/\" lang=\"bxr\" title=\"Buryad\">Ð\\x91Ñ\\x83Ñ\\x80Ñ\\x8fÐ°Ð´</a></li>\\n<li><a href=\"//cbk-zam.wikipedia.org/\" lang=\"cbk-x-zam\">Chavacano de Zamboanga</a></li>\\n<li><a href=\"//co.wikipedia.org/\" lang=\"co\">Corsu</a></li>\\n<li><a href=\"//za.wikipedia.org/\" lang=\"za\">Vahcuengh / è©±å\\x83®</a></li>\\n<li><a href=\"//se.wikipedia.org/\" lang=\"se\">DavvisÃ¡megiella</a></li>\\n<li><a href=\"//pdc.wikipedia.org/\" lang=\"pdc\">Deitsch</a></li>\\n<li><a href=\"//dsb.wikipedia.org/\" lang=\"dsb\">Dolnoserbski</a></li>\\n<li><a href=\"//myv.wikipedia.org/\" lang=\"myv\" title=\"Erzjanj\">Ð\\xadÑ\\x80Ð·Ñ\\x8fÐ½Ñ\\x8c</a></li>\\n<li><a href=\"//ext.wikipedia.org/\" lang=\"ext\">EstremeÃ±u</a></li>\\n<li><a href=\"//hif.wikipedia.org/\" lang=\"hif\">Fiji Hindi</a></li>\\n<li><a href=\"//fur.wikipedia.org/\" lang=\"fur\">Furlan</a></li>\\n<li><a href=\"//gv.wikipedia.org/\" lang=\"gv\">Gaelg</a></li>\\n<li><a href=\"//gag.wikipedia.org/\" lang=\"gag\">Gagauz</a></li>\\n<li><a href=\"//ki.wikipedia.org/\" lang=\"ki\">GÄ©kÅ©yÅ©</a></li>\\n<li><a href=\"//glk.wikipedia.org/\" lang=\"glk\" title=\"GilÉ\\x99ki\"><bdi dir=\"rtl\">Ú¯Û\\x8cÙ\\x84Ú©Û\\x8c</bdi></a></li>\\n<li><a href=\"//gan.wikipedia.org/\" lang=\"gan\" title=\"Gon ua\" data-convert-hans=\"èµ£è¯\\xad\" id=\"gan_wiki\">è´\\x9bèª\\x9e</a></li>\\n<li><a href=\"//hak.wikipedia.org/\" lang=\"hak\">Hak-kÃ¢-ngÃ® / å®¢å®¶èª\\x9e</a></li>\\n<li><a href=\"//xal.wikipedia.org/\" lang=\"xal\" title=\"HalÊ¹mg\">Ð¥Ð°Ð»Ñ\\x8cÐ¼Ð³</a></li>\\n<li><a href=\"//ha.wikipedia.org/\" lang=\"ha\"><span lang=\"ha-Latn\">Hausa</span> / <bdi lang=\"ha-Arab\" dir=\"rtl\">Ù\\x87Ù\\x8eÙ\\x88Ù\\x8fØ³Ù\\x8eØ§</bdi></a></li>\\n<li><a href=\"//haw.wikipedia.org/\" lang=\"haw\">Ê»Å\\x8clelo HawaiÊ»i</a></li>\\n<li><a href=\"//ie.wikipedia.org/\" lang=\"ie\">Interlingue</a></li>\\n<li><a href=\"//pam.wikipedia.org/\" lang=\"pam\">Kapampangan</a></li>\\n<li><a href=\"//csb.wikipedia.org/\" lang=\"csb\">KaszÃ«bsczi</a></li>\\n<li><a href=\"//kw.wikipedia.org/\" lang=\"kw\">Kernewek</a></li>\\n<li><a href=\"//km.wikipedia.org/\" lang=\"km\" title=\"PhÃ©asa KhmÃ©r\">á\\x9e\\x97á\\x9e¶á\\x9e\\x9fá\\x9e¶á\\x9e\\x81á\\x9f\\x92á\\x9e\\x98á\\x9f\\x82á\\x9e\\x9a</a></li>\\n<li><a href=\"//rw.wikipedia.org/\" lang=\"rw\">Kinyarwanda</a></li>\\n<li><a href=\"//kv.wikipedia.org/\" lang=\"kv\" title=\"Komi\">Ð\\x9aÐ¾Ð¼Ð¸</a></li>\\n<li><a href=\"//kg.wikipedia.org/\" lang=\"kg\">Kongo</a></li>\\n<li><a href=\"//gom.wikipedia.org/\" lang=\"gom\">à¤\\x95à¥\\x8bà¤\\x82à¤\\x95à¤£à¥\\x80 / Konknni</a></li>\\n<li><a href=\"//gcr.wikipedia.org/\" lang=\"gcr\" title=\"KriyÃ²l Gwiyannen\">KriyÃ²l Gwiyannen</a></li>\\n<li><a href=\"//lo.wikipedia.org/\" lang=\"lo\" title=\"Phaasaa Laao\">àº\\x9eàº²àºªàº²àº¥àº²àº§</a></li>\\n<li><a href=\"//lad.wikipedia.org/\" lang=\"lad\" title=\"Ladino\"><span lang=\"lad-Latn\">Dzhudezmo</span> / <bdi lang=\"lad-Hebr\" dir=\"rtl\">×\\x9c×\\x90×\\x93×\\x99×\\xa0×\\x95</bdi></a></li>\\n<li><a href=\"//lbe.wikipedia.org/\" lang=\"lbe\" title=\"LakË\\x90u\">Ð\\x9bÐ°ÐºÐºÑ\\x83</a></li>\\n<li><a href=\"//lez.wikipedia.org/\" lang=\"lez\" title=\"Lezgi\">Ð\\x9bÐµÐ·Ð³Ð¸</a></li>\\n<li><a href=\"//ln.wikipedia.org/\" lang=\"ln\">LingÃ¡la</a></li>\\n<li><a href=\"//jbo.wikipedia.org/\" lang=\"jbo\">lojban</a></li>\\n<li><a href=\"//lrc.wikipedia.org/\" lang=\"lrc\" title=\"LÃ¶riyÃ©-Å\\xa0omÄ\\x81lÄ«\"><bdi dir=\"rtl\">Ù\\x84Û\\x8aØ±Û\\x8c Ø´Ù\\x88Ù\\x85Ø§Ù\\x84Û\\x8c</bdi></a></li>\\n<li><a href=\"//lg.wikipedia.org/\" lang=\"lg\">Luganda</a></li>\\n<li><a href=\"//lij.wikipedia.org/\" lang=\"lij\">LÃ¬gure</a></li>\\n<li><a href=\"//mt.wikipedia.org/\" lang=\"mt\">Malti</a></li>\\n<li><a href=\"//ty.wikipedia.org/\" lang=\"ty\">Reo MÄ\\x81â\\x80\\x99ohi</a></li>\\n<li><a href=\"//mi.wikipedia.org/\" lang=\"mi\">MÄ\\x81ori</a></li>\\n<li><a href=\"//mwl.wikipedia.org/\" lang=\"mwl\">MirandÃ©s</a></li>\\n<li><a href=\"//mdf.wikipedia.org/\" lang=\"mdf\" title=\"MokÅ¡enj\">Ð\\x9cÐ¾ÐºÑ\\x88ÐµÐ½Ñ\\x8c</a></li>\\n<li><a href=\"//nah.wikipedia.org/\" lang=\"nah\">NÄ\\x81huatlahtÅ\\x8dlli</a></li>\\n<li><a href=\"//na.wikipedia.org/\" lang=\"na\">Dorerin Naoero</a></li>\\n<li><a href=\"//nds-nl.wikipedia.org/\" lang=\"nds-nl\">Nedersaksisch</a></li>\\n<li><a href=\"//nrm.wikipedia.org/\" lang=\"roa-x-nrm\">Nouormand / Normaund</a></li>\\n<li><a href=\"//nov.wikipedia.org/\" lang=\"nov\">Novial</a></li>\\n<li><a href=\"//as.wikipedia.org/\" lang=\"as\" title=\"Ã\\x94xÃ´miya\">à¦\\x85à¦¸à¦®à§\\x80à¦¯à¦¾à¦¼</a></li>\\n<li><a href=\"//pi.wikipedia.org/\" lang=\"pi\" title=\"PÄ\\x81á¸·i\">à¤ªà¤¾à¤²à¤¿</a></li>\\n<li><a href=\"//pag.wikipedia.org/\" lang=\"pag\">PangasinÃ¡n</a></li>\\n<li><a href=\"//pap.wikipedia.org/\" lang=\"pap\">Papiamentu</a></li>\\n<li><a href=\"//koi.wikipedia.org/\" lang=\"koi\" title=\"Perem Komi\">Ð\\x9fÐµÑ\\x80ÐµÐ¼ Ð\\x9aÐ¾Ð¼Ð¸</a></li>\\n<li><a href=\"//pfl.wikipedia.org/\" lang=\"pfl\">PfÃ¤lzisch</a></li>\\n<li><a href=\"//pcd.wikipedia.org/\" lang=\"pcd\">Picard</a></li>\\n<li><a href=\"//krc.wikipedia.org/\" lang=\"krc\" title=\"QaraÃ§ayâ\\x80\\x93Malqar\">Ð\\x9aÑ\\x8aÐ°Ñ\\x80Ð°Ñ\\x87Ð°Ð¹â\\x80\\x93Ð\\x9cÐ°Ð»ÐºÑ\\x8aÐ°Ñ\\x80</a></li>\\n<li><a href=\"//kaa.wikipedia.org/\" lang=\"kaa\">Qaraqalpaqsha</a></li>\\n<li><a href=\"//crh.wikipedia.org/\" lang=\"crh\">QÄ±rÄ±mtatarca</a></li>\\n<li><a href=\"//ksh.wikipedia.org/\" lang=\"ksh\">Ripoarisch</a></li>\\n<li><a href=\"//rm.wikipedia.org/\" lang=\"rm\">Rumantsch</a></li>\\n<li><a href=\"//rue.wikipedia.org/\" lang=\"rue\" title=\"Rusinâ\\x80\\x99skyj Yazyk\">Ð\\xa0Ñ\\x83Ñ\\x81Ð¸Ð½Ñ\\x8cÑ\\x81ÐºÑ\\x8bÐ¹ Ð¯Ð·Ñ\\x8bÐº</a></li>\\n<li><a href=\"//sc.wikipedia.org/\" lang=\"sc\">Sardu</a></li>\\n<li><a href=\"//stq.wikipedia.org/\" lang=\"stq\">Seeltersk</a></li>\\n<li><a href=\"//nso.wikipedia.org/\" lang=\"nso\">Sesotho sa Leboa</a></li>\\n<li><a href=\"//sn.wikipedia.org/\" lang=\"sn\">ChiShona</a></li>\\n<li><a href=\"//so.wikipedia.org/\" lang=\"so\">Soomaaliga</a></li>\\n<li><a href=\"//srn.wikipedia.org/\" lang=\"srn\">Sranantongo</a></li>\\n<li><a href=\"//kab.wikipedia.org/\" lang=\"kab\" title=\"Taqbaylit\">Taqbaylit</a></li>\\n<li><a href=\"//roa-tara.wikipedia.org/\" lang=\"roa\">TarandÃ\\xadne</a></li>\\n<li><a href=\"//tet.wikipedia.org/\" lang=\"tet\">Tetun</a></li>\\n<li><a href=\"//tpi.wikipedia.org/\" lang=\"tpi\">Tok Pisin</a></li>\\n<li><a href=\"//to.wikipedia.org/\" lang=\"to\">faka Tonga</a></li>\\n<li><a href=\"//tk.wikipedia.org/\" lang=\"tk\">TÃ¼rkmenÃ§e</a></li>\\n<li><a href=\"//tyv.wikipedia.org/\" lang=\"tyv\" title=\"Tyva dyl\">Ð¢Ñ\\x8bÐ²Ð° Ð´Ñ\\x8bÐ»</a></li>\\n<li><a href=\"//udm.wikipedia.org/\" lang=\"udm\" title=\"Udmurt\">Ð£Ð´Ð¼Ñ\\x83Ñ\\x80Ñ\\x82</a></li>\\n<li><a href=\"//ug.wikipedia.org/\" lang=\"ug\"><bdi dir=\"rtl\">Ø¦Û\\x87Ù\\x8aØºÛ\\x87Ø±Ú\\x86Ù\\x87</bdi></a></li>\\n<li><a href=\"//vep.wikipedia.org/\" lang=\"vep\">VepsÃ¤n</a></li>\\n<li><a href=\"//fiu-vro.wikipedia.org/\" lang=\"fiu-vro\">VÃµro</a></li>\\n<li><a href=\"//vls.wikipedia.org/\" lang=\"vls\">West-Vlams</a></li>\\n<li><a href=\"//wo.wikipedia.org/\" lang=\"wo\">Wolof</a></li>\\n<li><a href=\"//xh.wikipedia.org/\" lang=\"xh\">isiXhosa</a></li>\\n<li><a href=\"//zea.wikipedia.org/\" lang=\"zea\">ZeÃªuws</a></li>\\n<li><a href=\"//zu.wikipedia.org/\" lang=\"zu\">isiZulu</a></li>\\n<li><a href=\"//dv.wikipedia.org/\" lang=\"dv\" title=\"Þ\\x87Þ¨Þ\\x82Þ\\x8eÞ¨Þ\\x83Þ\\xadÞ\\x90Þ¨\"><bdi dir=\"rtl\">Þ\\x8bÞ¨Þ\\x88Þ¬Þ\\x80Þ¨Þ\\x84Þ¦Þ\\x90Þ°</bdi></a></li>\\n</ul>\\n</div>\\n<!-- Bookshelves -->\\n<h2 class=\"bookshelf-container\">\\n<span class=\"bookshelf\">\\n<span class=\"text\">\\n<bdi dir=\"ltr\">\\n100+\\n</bdi>\\n<span class=\"jsl10n\" data-jsl10n=\"entries\">\\narticles\\n</span>\\n</span>\\n</span>\\n</h2>\\n<!-- 100+ content pages -->\\n<div class=\"langlist langlist-tiny hlist\" data-el-section=\"secondary links\">\\n<ul>\\n<li><a href=\"//ak.wikipedia.org/\" lang=\"ak\">Akan</a></li>\\n<li><a href=\"//bm.wikipedia.org/\" lang=\"bm\">Bamanankan</a></li>\\n<li><a href=\"//ch.wikipedia.org/\" lang=\"ch\">Chamoru</a></li>\\n<li><a href=\"//ny.wikipedia.org/\" lang=\"ny\">Chichewa</a></li>\\n<li><a href=\"//ee.wikipedia.org/\" lang=\"ee\">EÊ\\x8begbe</a></li>\\n<li><a href=\"//ff.wikipedia.org/\" lang=\"ff\">Fulfulde</a></li>\\n<li><a href=\"//got.wikipedia.org/\" lang=\"got\" title=\"Gutisk\">ð\\x90\\x8c²ð\\x90\\x8c¿ð\\x90\\x8d\\x84ð\\x90\\x8c¹ð\\x90\\x8d\\x83ð\\x90\\x8cº</a></li>\\n<li><a href=\"//iu.wikipedia.org/\" lang=\"iu\">á\\x90\\x83á\\x93\\x84á\\x92\\x83á\\x91\\x8eá\\x91\\x90á\\x91¦ / Inuktitut</a></li>\\n<li><a href=\"//ik.wikipedia.org/\" lang=\"ik\">IÃ±upiak</a></li>\\n<li><a href=\"//kl.wikipedia.org/\" lang=\"kl\">Kalaallisut</a></li>\\n<li><a href=\"//ks.wikipedia.org/\" lang=\"ks\" title=\"Kashmiri\"><bdi dir=\"rtl\">Ù\\x83Ø´Ù\\x85Ù\\x8aØ±Ù\\x8a</bdi></a></li>\\n<li><a href=\"//ltg.wikipedia.org/\" lang=\"ltg\">LatgaÄ¼u</a></li>\\n<li><a href=\"//fj.wikipedia.org/\" lang=\"fj\">Na Vosa Vaka-Viti</a></li>\\n<li><a href=\"//cr.wikipedia.org/\" lang=\"cr\">NÄ\\x93hiyawÄ\\x93win / á\\x93\\x80á\\x90¦á\\x90\\x83á\\x94\\xadá\\x90\\x8dá\\x90\\x8fá\\x90£</a></li>\\n<li><a href=\"//pih.wikipedia.org/\" lang=\"pih\">Norfuk / Pitkern</a></li>\\n<li><a href=\"//om.wikipedia.org/\" lang=\"om\">Afaan Oromoo</a></li>\\n<li><a href=\"//pnt.wikipedia.org/\" lang=\"pnt\" title=\"PontiakÃ¡\">Î\\xa0Î¿Î½Ï\\x84Î¹Î±ÎºÎ¬</a></li>\\n<li><a href=\"//dz.wikipedia.org/\" lang=\"dz\" title=\"Rdzong-Kha\">à½¢à¾«à½¼à½\\x84à¼\\x8bà½\\x81</a></li>\\n<li><a href=\"//rmy.wikipedia.org/\" lang=\"rmy\">Romani</a></li>\\n<li><a href=\"//rn.wikipedia.org/\" lang=\"rn\">Kirundi</a></li>\\n<li><a href=\"//sm.wikipedia.org/\" lang=\"sm\">Gagana SÄ\\x81moa</a></li>\\n<li><a href=\"//sg.wikipedia.org/\" lang=\"sg\">SÃ¤ngÃ¶</a></li>\\n<li><a href=\"//st.wikipedia.org/\" lang=\"st\">Sesotho</a></li>\\n<li><a href=\"//tn.wikipedia.org/\" lang=\"tn\">Setswana</a></li>\\n<li><a href=\"//cu.wikipedia.org/\" lang=\"cu\" title=\"SlovÄ\\x9bnÄ\\xadskÅ\\xad\">Ð¡Ð»Ð¾Ð²Ñ£Ì\\x81Ð½Ñ\\x8cÑ\\x81ÐºÑ\\x8a / â°\\x94â°\\x8eâ°\\x91â°\\x82â°¡â°\\x90â°\\xa0â°\\x94â°\\x8dâ°\\x9f</a></li>\\n<li><a href=\"//ss.wikipedia.org/\" lang=\"ss\">SiSwati</a></li>\\n<li><a href=\"//chr.wikipedia.org/\" lang=\"chr\" title=\"Tsalagi\">á\\x8f£á\\x8e³á\\x8e©</a></li>\\n<li><a href=\"//chy.wikipedia.org/\" lang=\"chy\">TsÄ\\x97hesenÄ\\x97stsestotse</a></li>\\n<li><a href=\"//ve.wikipedia.org/\" lang=\"ve\">Tshivená¸\\x93a</a></li>\\n<li><a href=\"//ts.wikipedia.org/\" lang=\"ts\">Xitsonga</a></li>\\n<li><a href=\"//tum.wikipedia.org/\" lang=\"tum\">chiTumbuka</a></li>\\n<li><a href=\"//tw.wikipedia.org/\" lang=\"tw\">Twi</a></li>\\n<li><a href=\"//ti.wikipedia.org/\" lang=\"ti\" title=\"TÉ\\x99gÉ\\x99rÉ\\x99Ã±a\">á\\x89µá\\x8c\\x8dá\\x88\\xadá\\x8a\\x9b</a></li>\\n<li><a href=\"//nqo.wikipedia.org/\" lang=\"nqo\" title=\"N&#x27;Ko\">ß\\x92ß\\x9eß\\x8f</a></li>\\n</ul>\\n</div>\\n<!-- Other languages -->\\n<div class=\"langlist langlist-others hlist\" data-el-section=\"other languages\">\\n<ul>\\n<li><a href=\"//meta.wikimedia.org/wiki/List_of_Wikipedias\" lang=\"en\">Other languages</a></li>\\n<li><a href=\"//de.wikipedia.org/wiki/Wikipedia:Sprachen\" lang=\"de\">Weitere Sprachen</a></li>\\n<li><a href=\"//meta.wikimedia.org/wiki/Liste_des_Wikip%C3%A9dias\" lang=\"fr\">Autres langues</a></li>\\n<li><a href=\"//pl.wikipedia.org/wiki/Wikipedia:Lista_wersji_j%C4%99zykowych\" lang=\"pl\">Kompletna lista jÄ\\x99zykÃ³w</a></li>\\n<li><a href=\"//ja.wikipedia.org/wiki/Wikipedia:%E5%A4%9A%E8%A8%80%E8%AA%9E%E3%83%97%E3%83%AD%E3%82%B8%E3%82%A7%E3%82%AF%E3%83%88%E3%81%A8%E3%81%97%E3%81%A6%E3%81%AE%E3%82%A6%E3%82%A3%E3%82%AD%E3%83%9A%E3%83%87%E3%82%A3%E3%82%A2\" lang=\"ja\">ä»\\x96ã\\x81®è¨\\x80èª\\x9e</a></li>\\n<li><a href=\"//meta.wikimedia.org/wiki/Lista_de_Wikipedias\" lang=\"es\">Otros idiomas</a></li>\\n<li><a href=\"//zh.wikipedia.org/wiki/Wikipedia:%E7%BB%B4%E5%9F%BA%E7%99%BE%E7%A7%91%E8%AF%AD%E8%A8%80%E5%88%97%E8%A1%A8\" lang=\"zh\" data-convert-hans=\"å\\x85¶ä»\\x96è¯\\xadè¨\\x80\" id=\"zh_others\">å\\x85¶ä»\\x96èª\\x9eè¨\\x80</a></li>\\n<li><a href=\"//ru.wikipedia.org/wiki/%D0%92%D0%B8%D0%BA%D0%B8%D0%BF%D0%B5%D0%B4%D0%B8%D1%8F:%D0%A1%D0%92\" lang=\"ru\">Ð\\x94Ñ\\x80Ñ\\x83Ð³Ð¸Ðµ Ñ\\x8fÐ·Ñ\\x8bÐºÐ¸</a></li>\\n<li><a href=\"//eo.wikipedia.org/wiki/Vikipedio:Internacia_Vikipedio\" lang=\"eo\">Aliaj lingvoj</a></li>\\n<li><a href=\"//meta.wikimedia.org/wiki/%EC%9C%84%ED%82%A4%EB%B0%B1%EA%B3%BC%EC%9D%98_%EB%AA%A9%EB%A1%9D\" lang=\"ko\">ë\\x8b¤ë¥¸ ì\\x96¸ì\\x96´</a></li>\\n<li><a href=\"//vi.wikipedia.org/wiki/Wikipedia:Phi%C3%AAn_b%E1%BA%A3n_ng%C3%B4n_ng%E1%BB%AF\" lang=\"vi\">NgÃ´n ngá»¯ khÃ¡c</a></li>\\n</ul>\\n</div>\\n</div>\\n</div>\\n<hr>\\n<div class=\"footer\" data-el-section=\"other projects\">\\n<div class=\"footer-sidebar\">\\n<div class=\"footer-sidebar-content\">\\n<div class=\"footer-sidebar-icon sprite svg-Wikimedia-logo_black\">\\n</div>\\n<div class=\"footer-sidebar-text jsl10n\" data-jsl10n=\"footer-description\">\\nWikipedia is hosted by the <a href=\"//wikimediafoundation.org/\">Wikimedia Foundation</a>, a non-profit organization that also hosts a range of other projects.\\n</div>\\n</div>\\n</div>\\n<div class=\"footer-sidebar app-badges\">\\n<div class=\"footer-sidebar-content\">\\n<div class=\"footer-sidebar-text\">\\n<div class=\"footer-sidebar-icon sprite svg-wikipedia_app_tile\"></div>\\n<strong class=\"jsl10n\" data-jsl10n=\"app-links.title\">\\n<a class=\"jsl10n\" data-jsl10n=\"app-links.url\" href=\"https://en.wikipedia.org/wiki/List_of_Wikipedia_mobile_applications\">\\nDownload Wikipedia for Android or iOS\\n</a>\\n</strong>\\n<p class=\"jsl10n\" data-jsl10n=\"app-links.description\">\\nSave your favorite articles to read offline, sync your reading lists across devices and customize your reading experience with the official Wikipedia app.\\n</p>\\n<ul>\\n<li class=\"app-badge app-badge-android\">\\n<a target=\"_blank\" href=\"//play.google.com/store/apps/details?id=org.wikipedia&referrer=utm_source%3Dportal%26utm_medium%3Dbutton%26anid%3Dadmob\">\\n<span class=\"sprite svg-badge_google_play_store\">\\n</span></a>\\n</li>\\n<li class=\"app-badge app-badge-ios\">\\n<a target=\"_blank\" href=\"//itunes.apple.com/app/apple-store/id324715238?pt=208305&ct=portal&mt=8\">\\n<span class=\"sprite svg-badge_ios_app_store\">\\n</span></a>\\n</li>\\n</ul>\\n</div>\\n</div>\\n</div>\\n<div class=\"other-projects\">\\n<div class=\"other-project\">\\n<a class=\"other-project-link\" href=\"//commons.wikimedia.org/\">\\n<div class=\"other-project-icon\">\\n<div class=\"sprite svg-Commons-logo_sister\"></div>\\n</div>\\n<div class=\"other-project-text\">\\n<span class=\"other-project-title jsl10n\" data-jsl10n=\"commons.name\">Commons</span>\\n<span class=\"other-project-tagline jsl10n\" data-jsl10n=\"commons.slogan\">Freely usable photos &amp; more</span>\\n</div>\\n</a>\\n</div>\\n<div class=\"other-project\">\\n<a class=\"other-project-link\" href=\"//www.wikivoyage.org/\">\\n<div class=\"other-project-icon\">\\n<div class=\"sprite svg-Wikivoyage-logo_sister\"></div>\\n</div>\\n<div class=\"other-project-text\">\\n<span class=\"other-project-title jsl10n\" data-jsl10n=\"wikivoyage.name\">Wikivoyage</span>\\n<span class=\"other-project-tagline jsl10n\" data-jsl10n=\"wikivoyage.slogan\">Free travel guide</span>\\n</div>\\n</a>\\n</div>\\n<div class=\"other-project\">\\n<a class=\"other-project-link\" href=\"//www.wiktionary.org/\">\\n<div class=\"other-project-icon\">\\n<div class=\"sprite svg-Wiktionary-logo_sister\"></div>\\n</div>\\n<div class=\"other-project-text\">\\n<span class=\"other-project-title jsl10n\" data-jsl10n=\"wiktionary.name\">Wiktionary</span>\\n<span class=\"other-project-tagline jsl10n\" data-jsl10n=\"wiktionary.slogan\">Free dictionary</span>\\n</div>\\n</a>\\n</div>\\n<div class=\"other-project\">\\n<a class=\"other-project-link\" href=\"//www.wikibooks.org/\">\\n<div class=\"other-project-icon\">\\n<div class=\"sprite svg-Wikibooks-logo_sister\"></div>\\n</div>\\n<div class=\"other-project-text\">\\n<span class=\"other-project-title jsl10n\" data-jsl10n=\"wikibooks.name\">Wikibooks</span>\\n<span class=\"other-project-tagline jsl10n\" data-jsl10n=\"wikibooks.slogan\">Free textbooks</span>\\n</div>\\n</a>\\n</div>\\n<div class=\"other-project\">\\n<a class=\"other-project-link\" href=\"//www.wikinews.org/\">\\n<div class=\"other-project-icon\">\\n<div class=\"sprite svg-Wikinews-logo_sister\"></div>\\n</div>\\n<div class=\"other-project-text\">\\n<span class=\"other-project-title jsl10n\" data-jsl10n=\"wikinews.name\">Wikinews</span>\\n<span class=\"other-project-tagline jsl10n\" data-jsl10n=\"wikinews.slogan\">Free news source</span>\\n</div>\\n</a>\\n</div>\\n<div class=\"other-project\">\\n<a class=\"other-project-link\" href=\"//www.wikidata.org/\">\\n<div class=\"other-project-icon\">\\n<div class=\"sprite svg-Wikidata-logo_sister\"></div>\\n</div>\\n<div class=\"other-project-text\">\\n<span class=\"other-project-title jsl10n\" data-jsl10n=\"wikidata.name\">Wikidata</span>\\n<span class=\"other-project-tagline jsl10n\" data-jsl10n=\"wikidata.slogan\">Free knowledge base</span>\\n</div>\\n</a>\\n</div>\\n<div class=\"other-project\">\\n<a class=\"other-project-link\" href=\"//www.wikiversity.org/\">\\n<div class=\"other-project-icon\">\\n<div class=\"sprite svg-Wikiversity-logo_sister\"></div>\\n</div>\\n<div class=\"other-project-text\">\\n<span class=\"other-project-title jsl10n\" data-jsl10n=\"wikiversity.name\">Wikiversity</span>\\n<span class=\"other-project-tagline jsl10n\" data-jsl10n=\"wikiversity.slogan\">Free course materials</span>\\n</div>\\n</a>\\n</div>\\n<div class=\"other-project\">\\n<a class=\"other-project-link\" href=\"//www.wikiquote.org/\">\\n<div class=\"other-project-icon\">\\n<div class=\"sprite svg-Wikiquote-logo_sister\"></div>\\n</div>\\n<div class=\"other-project-text\">\\n<span class=\"other-project-title jsl10n\" data-jsl10n=\"wikiquote.name\">Wikiquote</span>\\n<span class=\"other-project-tagline jsl10n\" data-jsl10n=\"wikiquote.slogan\">Free quote compendium</span>\\n</div>\\n</a>\\n</div>\\n<div class=\"other-project\">\\n<a class=\"other-project-link\" href=\"//www.mediawiki.org/\">\\n<div class=\"other-project-icon\">\\n<div class=\"sprite svg-MediaWiki-logo_sister\"></div>\\n</div>\\n<div class=\"other-project-text\">\\n<span class=\"other-project-title jsl10n\" data-jsl10n=\"mediawiki.name\">MediaWiki</span>\\n<span class=\"other-project-tagline jsl10n\" data-jsl10n=\"mediawiki.slogan\">Free &amp; open wiki application</span>\\n</div>\\n</a>\\n</div>\\n<div class=\"other-project\">\\n<a class=\"other-project-link\" href=\"//www.wikisource.org/\">\\n<div class=\"other-project-icon\">\\n<div class=\"sprite svg-Wikisource-logo_sister\"></div>\\n</div>\\n<div class=\"other-project-text\">\\n<span class=\"other-project-title jsl10n\" data-jsl10n=\"wikisource.name\">Wikisource</span>\\n<span class=\"other-project-tagline jsl10n\" data-jsl10n=\"wikisource.slogan\">Free library</span>\\n</div>\\n</a>\\n</div>\\n<div class=\"other-project\">\\n<a class=\"other-project-link\" href=\"//species.wikimedia.org/\">\\n<div class=\"other-project-icon\">\\n<div class=\"sprite svg-Wikispecies-logo_sister\"></div>\\n</div>\\n<div class=\"other-project-text\">\\n<span class=\"other-project-title jsl10n\" data-jsl10n=\"wikispecies.name\">Wikispecies</span>\\n<span class=\"other-project-tagline jsl10n\" data-jsl10n=\"wikispecies.slogan\">Free species directory</span>\\n</div>\\n</a>\\n</div>\\n<div class=\"other-project\">\\n<a class=\"other-project-link\" href=\"//meta.wikimedia.org/\">\\n<div class=\"other-project-icon\">\\n<div class=\"sprite svg-Meta-Wiki-logo_sister\"></div>\\n</div>\\n<div class=\"other-project-text\">\\n<span class=\"other-project-title jsl10n\" data-jsl10n=\"metawiki.name\">Meta-Wiki</span>\\n<span class=\"other-project-tagline jsl10n\" data-jsl10n=\"metawiki.slogan\">Community coordination &amp; documentation</span>\\n</div>\\n</a>\\n</div>\\n</div>\\n</div>\\n<p class=\"site-license\">\\n<small class=\"jsl10n\" data-jsl10n=\"license\">This page is available under the <a href=\"https://creativecommons.org/licenses/by-sa/3.0/\">Creative Commons Attribution-ShareAlike License</a></small>\\n<small class=\"jsl10n\" data-jsl10n=\"terms\"><a href=\"//meta.wikimedia.org/wiki/Terms_of_Use\">Terms of Use</a></small>\\n<small class=\"jsl10n\" data-jsl10n=\"Privacy Policy\"><a href=\"//meta.wikimedia.org/wiki/Privacy_policy\">Privacy Policy</a></small>\\n</p>\\n<script>\\nvar rtlLangs = [\\'ar\\',\\'arc\\',\\'arz\\',\\'bcc\\',\\'bgn\\',\\'bqi\\',\\'ckb\\',\\'dv\\',\\'fa\\',\\'glk\\',\\'he\\',\\'kk-cn\\',\\'kk-arab\\',\\'khw\\',\\'ks\\',\\'ku-arab\\',\\'lki\\',\\'lrc\\',\\'luz\\',\\'mzn\\',\\'nqo\\',\\'pnb\\',\\'ps\\',\\'sd\\',\\'sdh\\',\\'ug\\',\\'ur\\',\\'yi\\'],\\n    translationsHash = \\'b2974499\\',\\n    /*\\n     This object is used by l10n scripts (page-localized.js, topten-localized.js)\\n     to reveal the page content after l10n json is loaded.\\n     A timer is also set to prevent JS from hiding page content indefinitelty.\\n     This script is inlined to safeguard againt script loading errors and placed\\n     at the top of the page to safeguard against any HTML loading/parsing errors.\\n    */\\n    wmL10nVisible = {\\n        ready: false,\\n        makeVisible: function(){\\n            if ( !wmL10nVisible.ready ) {\\n                wmL10nVisible.ready = true;\\n                document.body.className += \\' jsl10n-visible\\';\\n            }\\n        }\\n    };\\n    window.setTimeout( wmL10nVisible.makeVisible, 1000 )\\n</script>\\n<script src=\"portal/wikipedia.org/assets/js/index-0875d644b5.js\"></script>\\n<!--[if gt IE 9]><!-->\\n<script src=\"portal/wikipedia.org/assets/js/gt-ie9-eb680c4142.js\"></script>\\n<!--<![endif]-->\\n<!--[if lte IE 9]><!-->\\n<style>\\n.styled-select {\\n        display: block;\\n    }\\n</style>\\n<!--<![endif]-->\\n<!--[if lte IE 9]>\\n<style>\\n    .langlist > ul {\\n        text-align: center;\\n    }\\n    .langlist > ul > li {\\n        display: inline;\\n        padding: 0 0.5em;\\n    }\\n</style>\\n<![endif]-->\\n</body>\\n</html>\\n'"
      ]
     },
     "execution_count": 3,
     "metadata": {},
     "output_type": "execute_result"
    }
   ],
   "source": [
    "req.text"
   ]
  },
  {
   "cell_type": "markdown",
   "metadata": {},
   "source": [
    "###  requests  --  with using requests we can open any website and also get data ( unstructured contains all the tags adn classes of html ) but it is not useful, so we use  ---\n",
    "###  BeautifulSoup  --  with the help of this we can get any data within website from any tag, any class etc . . ."
   ]
  },
  {
   "cell_type": "code",
   "execution_count": 4,
   "metadata": {},
   "outputs": [
    {
     "name": "stdout",
     "output_type": "stream",
     "text": [
      "[<title>Wikipedia</title>]\n"
     ]
    }
   ],
   "source": [
    "# # # --  it reads html data     ----\n",
    "soup = BeautifulSoup(req.text, 'lxml')  #   ---  here we use 'lxml'  for processing 'html'\n",
    "\n",
    "\n",
    "#  it reads any data from those html site which we already read above  ---\n",
    "title = soup.select('title')    #  --  here we read 'titel'  \n",
    "print(title)\n"
   ]
  },
  {
   "cell_type": "markdown",
   "metadata": {},
   "source": [
    "##  Little Advance  --"
   ]
  },
  {
   "cell_type": "code",
   "execution_count": 5,
   "metadata": {},
   "outputs": [],
   "source": [
    "url = 'https://en.wikipedia.org/wiki/Machine_learning'\n",
    "\n",
    "res = requests.get(url)\n",
    "\n",
    "soup = BeautifulSoup(res.text, 'lxml')\n"
   ]
  },
  {
   "cell_type": "code",
   "execution_count": 6,
   "metadata": {},
   "outputs": [
    {
     "name": "stdout",
     "output_type": "stream",
     "text": [
      "Overview\n",
      "Machine learning approaches\n",
      "History and relationships to other fields\n",
      "Artificial intelligence\n",
      "Data mining\n",
      "Optimization\n",
      "Statistics\n",
      " Theory\n",
      "Approaches\n",
      "Types of learning algorithms\n",
      "Supervised learning\n",
      "Unsupervised learning\n",
      "Semi-supervised learning\n",
      "Reinforcement learning\n",
      "Self learning\n",
      "Feature learning\n",
      "Sparse dictionary learning\n",
      "Anomaly detection\n",
      "Robot learning\n",
      "Association rules\n",
      "Models\n",
      "Artificial neural networks\n",
      "Decision trees\n",
      "Support vector machines\n",
      "Regression analysis\n",
      "Bayesian networks\n",
      "Genetic algorithms\n",
      "Training models\n",
      "Federated learning\n",
      "Applications\n",
      "Limitations\n",
      "Bias\n",
      "Model assessments\n",
      "Ethics\n",
      "Hardware\n",
      "Software\n",
      "Free and open-source software\n",
      "Proprietary software with free and open-source editions\n",
      "Proprietary software\n",
      "Journals\n",
      "Conferences\n",
      "See also\n",
      "References\n",
      "Further reading\n",
      "External links\n"
     ]
    }
   ],
   "source": [
    "# it will get all the headlines   ---\n",
    "\n",
    "for i in soup.select('.mw-headline'):\n",
    "    print(i.text)\n",
    "    "
   ]
  },
  {
   "cell_type": "code",
   "execution_count": 7,
   "metadata": {},
   "outputs": [
    {
     "name": "stdout",
     "output_type": "stream",
     "text": [
      "Overview\n",
      "Machine learning approaches\n",
      "History and relationships to other fields\n",
      "Artificial intelligence\n",
      "Data mining\n",
      "Optimization\n",
      "Statistics\n",
      "Theory\n",
      "Approaches\n",
      "Types of learning algorithms\n",
      "Supervised learning\n",
      "Unsupervised learning\n",
      "Semi-supervised learning\n",
      "Reinforcement learning\n",
      "Self learning\n",
      "Feature learning\n",
      "Sparse dictionary learning\n",
      "Anomaly detection\n",
      "Robot learning\n",
      "Association rules\n",
      "Models\n",
      "Artificial neural networks\n",
      "Decision trees\n",
      "Support vector machines\n",
      "Regression analysis\n",
      "Bayesian networks\n",
      "Genetic algorithms\n",
      "Training models\n",
      "Federated learning\n",
      "Applications\n",
      "Limitations\n",
      "Bias\n",
      "Model assessments\n",
      "Ethics\n",
      "Hardware\n",
      "Software\n",
      "Free and open-source software\n",
      "Proprietary software with free and open-source editions\n",
      "Proprietary software\n",
      "Journals\n",
      "Conferences\n",
      "See also\n",
      "References\n",
      "Further reading\n",
      "External links\n"
     ]
    }
   ],
   "source": [
    "for i in soup.select('.toctext'):\n",
    "    print(i.text)"
   ]
  },
  {
   "cell_type": "markdown",
   "metadata": {},
   "source": [
    "###  Whole Scraping  --\n",
    "\n",
    "#### in this example we web scrap graphics cards from Newegg.com  --"
   ]
  },
  {
   "cell_type": "code",
   "execution_count": 1,
   "metadata": {},
   "outputs": [],
   "source": [
    "#  importing libraries  --\n",
    "\n",
    "from bs4 import BeautifulSoup as soup\n",
    "import requests\n"
   ]
  },
  {
   "cell_type": "code",
   "execution_count": 2,
   "metadata": {},
   "outputs": [],
   "source": [
    "\n",
    "page_url = \"https://www.newegg.com/Video-Card/EventSaleStore/ID-4438\"\n",
    "\n",
    "data = requests.get(page_url)\n",
    "\n",
    "page_soup = soup(data.text, 'lxml')"
   ]
  },
  {
   "cell_type": "code",
   "execution_count": 10,
   "metadata": {},
   "outputs": [
    {
     "name": "stdout",
     "output_type": "stream",
     "text": [
      "<h1 class=\"page-title-text\">Video Card</h1>\n",
      "<span class=\"hid-text\">Search</span>\n"
     ]
    }
   ],
   "source": [
    "print(page_soup.h1)\n",
    "print(page_soup.body.span)"
   ]
  },
  {
   "cell_type": "code",
   "execution_count": 3,
   "metadata": {},
   "outputs": [
    {
     "data": {
      "text/plain": [
       "0"
      ]
     },
     "execution_count": 3,
     "metadata": {},
     "output_type": "execute_result"
    }
   ],
   "source": [
    "\n",
    "# finds each product from the store page\n",
    "containers = page_soup.findAll(\"div\", {'class' : 'item-container'})\n",
    "len(containers)\n"
   ]
  },
  {
   "cell_type": "code",
   "execution_count": 4,
   "metadata": {},
   "outputs": [],
   "source": [
    "\n",
    "# name the output file to write to local disk\n",
    "out_filename = \"graphics_cards.csv\"\n"
   ]
  },
  {
   "cell_type": "code",
   "execution_count": 5,
   "metadata": {},
   "outputs": [],
   "source": [
    "\n",
    "# header of csv file to be written\n",
    "headers = \"product_name,shipping \\n\"\n"
   ]
  },
  {
   "cell_type": "code",
   "execution_count": 6,
   "metadata": {},
   "outputs": [
    {
     "data": {
      "text/plain": [
       "23"
      ]
     },
     "execution_count": 6,
     "metadata": {},
     "output_type": "execute_result"
    }
   ],
   "source": [
    "\n",
    "#open file and write header  --\n",
    "f = open(out_filename, 'w')\n",
    "f.write(headers)\n"
   ]
  },
  {
   "cell_type": "markdown",
   "metadata": {},
   "source": [
    "1) Brand Name  =  for brand name first it gose into 'div class - item-info' then 'div class 'item-branding' then 'class - a' then 'img' then call 'title' that handle brand name\n",
    "\n",
    "2) Title Name = in which we have 'a class name = item-title' from this we can extract title name \n",
    "\n",
    "3) Shipping Price = in which we have 'li class name = price-ship' from this we can extract shipping price\n"
   ]
  },
  {
   "cell_type": "code",
   "execution_count": 7,
   "metadata": {},
   "outputs": [],
   "source": [
    "# loops over each product and grabs attributes about\n",
    "# each product\n",
    "\n",
    "for contain in containers:\n",
    "     \n",
    "    # brand name  --\n",
    "#     brand = contain.div.div.a.img[\"title\"]\n",
    "#     brand = contain.div.findAll('a', {'class' : 'item-branding'})\n",
    "#     brand_name = brand[0].img['title'].title()\n",
    "    \n",
    "    # titel  --\n",
    "    title = contain.findAll('a', {'class' : 'item-title'})\n",
    "    title_name = title[0].text\n",
    "    \n",
    "    # shipping  --\n",
    "    shipping = contain.findAll('li', {'class' : 'price-ship'})\n",
    "    shipping_price = shipping[0].text.strip()\n",
    "    \n",
    "    \n",
    "#     print(\"brand_name: \" + brand + \"\\n\")\n",
    "    print(\"title_name: \" + title_name + \"\\n\")\n",
    "    print(\"shipping_price: \" + shipping_price + \"\\n\")\n",
    "\n",
    "    f.write(title_name.replace(\",\", \"|\") + \", \" + shipping_price + \"\\n\")\n",
    "    \n",
    "f.close()"
   ]
  },
  {
   "cell_type": "code",
   "execution_count": 16,
   "metadata": {},
   "outputs": [],
   "source": [
    "# new  --"
   ]
  },
  {
   "cell_type": "markdown",
   "metadata": {},
   "source": [
    "##  Another new html scraping - --"
   ]
  },
  {
   "cell_type": "code",
   "execution_count": 31,
   "metadata": {},
   "outputs": [],
   "source": [
    "\n",
    "import pandas as pd\n",
    "from bs4 import BeautifulSoup\n",
    "import requests\n",
    "import csv\n"
   ]
  },
  {
   "cell_type": "code",
   "execution_count": 32,
   "metadata": {},
   "outputs": [],
   "source": [
    "\n",
    "url = \"https://coreyms.com\"\n",
    "source = requests.get(url).text\n",
    "\n",
    "soup = BeautifulSoup(source, 'lxml')\n"
   ]
  },
  {
   "cell_type": "code",
   "execution_count": 34,
   "metadata": {},
   "outputs": [
    {
     "data": {
      "text/plain": [
       "29"
      ]
     },
     "execution_count": 34,
     "metadata": {},
     "output_type": "execute_result"
    }
   ],
   "source": [
    "\n",
    "csv_file = open('corey_scrap.csv', 'w')\n",
    "csv_writer = csv.writer(csv_file)\n",
    "csv_writer.writerow(['headline', 'summary', 'video_link'])\n"
   ]
  },
  {
   "cell_type": "code",
   "execution_count": 35,
   "metadata": {},
   "outputs": [
    {
     "name": "stdout",
     "output_type": "stream",
     "text": [
      "Python Tutorial: Zip Files – Creating and Extracting Zip Archives\n",
      "In this video, we will be learning how to create and extract zip archives. We will start by using the zipfile module, and then we will see how to do this using the shutil module. We will learn how to do this with single files and directories, as well as learning how to use gzip as well. Let’s get started…\n",
      "https://youtube.com/watch?v=https://www.youtube.com/embed/z0gguhEmWiY\n",
      "\n",
      "Python Data Science Tutorial: Analyzing the 2019 Stack Overflow Developer Survey\n",
      "In this Python Programming video, we will be learning how to download and analyze real-world data from the 2019 Stack Overflow Developer Survey. This is terrific practice for anyone getting into the data science field. We will learn different ways to analyze this data and also some best practices. Let’s get started…\n",
      "https://youtube.com/watch?v=https://www.youtube.com/embed/_P7X8tMplsw\n",
      "\n",
      "Python Multiprocessing Tutorial: Run Code in Parallel Using the Multiprocessing Module\n",
      "In this Python Programming video, we will be learning how to run code in parallel using the multiprocessing module. We will also look at how to process multiple high-resolution images at the same time using a ProcessPoolExecutor from the concurrent.futures module. Let’s get started…\n",
      "https://youtube.com/watch?v=https://www.youtube.com/embed/fKl2JW_qrso\n",
      "\n",
      "Python Threading Tutorial: Run Code Concurrently Using the Threading Module\n",
      "In this Python Programming video, we will be learning how to run threads concurrently using the threading module. We will also look at how to download multiple high-resolution images online using a ThreadPoolExecutor from the concurrent.futures module. Let’s get started…\n",
      "https://youtube.com/watch?v=https://www.youtube.com/embed/IEEhzQoKtQU\n",
      "\n",
      "Update (2019-09-03)\n",
      "Hey everyone. I wanted to give you an update on my videos. I will be releasing videos on threading and multiprocessing within the next week. Thanks so much for your patience. I currently have a temporary recording studio setup at my Airbnb that will allow me to record and edit the threading/multiprocessing videos. I am going to be moving into my new house in 10 days and once I have my recording studio setup then you can expect much faster video releases. I really appreciate how patient everyone has been while I go through this move, especially those of you who are contributing monthly through YouTube \n",
      "None\n",
      "\n",
      "Python Quick Tip: The Difference Between “==” and “is” (Equality vs Identity)\n",
      "In this Python Programming Tutorial, we will be learning the difference between using “==” and the “is” keyword when doing comparisons. The difference between these is that “==” checks to see if values are equal, and the “is” keyword checks their identity, which means it’s going to check if the values are identical in terms of being the same object in memory. We’ll learn more in the video. Let’s get started…\n",
      "https://youtube.com/watch?v=https://www.youtube.com/embed/mO_dS3rXDIs\n",
      "\n",
      "Python Tutorial: Calling External Commands Using the Subprocess Module\n",
      "In this Python Programming Tutorial, we will be learning how to run external commands using the subprocess module from the standard library. We will learn how to run commands, capture the output, handle errors, and also how to pipe output into other commands. Let’s get started…\n",
      "https://youtube.com/watch?v=https://www.youtube.com/embed/2Fp1N6dof0Y\n",
      "\n",
      "Visual Studio Code (Windows) – Setting up a Python Development Environment and Complete Overview\n",
      "In this Python Programming Tutorial, we will be learning how to set up a Python development environment in VSCode on Windows. VSCode is a very nice free editor for writing Python applications and many developers are now switching over to this editor. In this video, we will learn how to install VSCode, get the Python extension installed, how to change Python interpreters, create virtual environments, format/lint our code, how to use Git within VSCode, how to debug our programs, how unit testing works, and more. We have a lot to cover, so let’s go ahead and get started…\n",
      "https://youtube.com/watch?v=https://www.youtube.com/embed/-nh9rCzPJ20\n",
      "\n",
      "Visual Studio Code (Mac) – Setting up a Python Development Environment and Complete Overview\n",
      "In this Python Programming Tutorial, we will be learning how to set up a Python development environment in VSCode on MacOS. VSCode is a very nice free editor for writing Python applications and many developers are now switching over to this editor. In this video, we will learn how to install VSCode, get the Python extension installed, how to change Python interpreters, create virtual environments, format/lint our code, how to use Git within VSCode, how to debug our programs, how unit testing works, and more. We have a lot to cover, so let’s go ahead and get started…\n",
      "https://youtube.com/watch?v=https://www.youtube.com/embed/06I63_p-2A4\n",
      "\n",
      "Clarifying the Issues with Mutable Default Arguments\n",
      "In this Python Programming Tutorial, we will be clarifying the issues with mutable default arguments. We discussed this in my last video titled “5 Common Python Mistakes and How to Fix Them”, but I received many comments from people who were still confused. So we will be doing a deeper dive to explain exactly what is going on here. Let’s get started…\n",
      "https://youtube.com/watch?v=https://www.youtube.com/embed/_JGmemuINww\n",
      "\n"
     ]
    }
   ],
   "source": [
    "#main  --\n",
    "\n",
    "for article in soup.find_all('article'):\n",
    "    \n",
    "    #headline\n",
    "    headline = article.h2.a.text\n",
    "    print(headline)\n",
    "    \n",
    "    #summary \n",
    "    summary = article.find('div', class_ = 'entry-content').p.text\n",
    "    print(summary)\n",
    "    \n",
    "    # ytb link  --\n",
    "    try:\n",
    "        video_src = article.find('iframe', class_ = 'youtube-player')['src']\n",
    "        vid_id = video_src.split('/')[4]\n",
    "        vid_id = video_src.split('?')[0]\n",
    "        yt_link = f'https://youtube.com/watch?v={vid_id}'\n",
    "        \n",
    "    except Exception as e:\n",
    "        yt_link = None\n",
    "        \n",
    "    print(yt_link)\n",
    "    \n",
    "    print()\n",
    "    \n",
    "    csv_writer.writerow([headline, summary, yt_link])\n",
    "\n",
    "csv_file.close()"
   ]
  },
  {
   "cell_type": "code",
   "execution_count": 21,
   "metadata": {},
   "outputs": [],
   "source": [
    "# new  --"
   ]
  },
  {
   "cell_type": "markdown",
   "metadata": {},
   "source": [
    "## Another scraping  --"
   ]
  },
  {
   "cell_type": "code",
   "execution_count": 1,
   "metadata": {},
   "outputs": [],
   "source": [
    "\n",
    "import requests\n",
    "from bs4 import BeautifulSoup\n"
   ]
  },
  {
   "cell_type": "code",
   "execution_count": 16,
   "metadata": {},
   "outputs": [
    {
     "name": "stdout",
     "output_type": "stream",
     "text": [
      "<!DOCTYPE html>\n",
      "<html lang=\"en\">\n",
      "<head>\n",
      "<meta charset=\"utf-8\"/>\n",
      "<meta content=\"width=device-width, initial-scale=1, shrink-to-fit=no\" name=\"viewport\"/>\n",
      "<title>UMG Gaming Loading</title>\n",
      "<style>@font-face{font-display:swap;font-family:Titillium Web;font-style:normal;font-weight:400;src:local(\"Titillium Web Regular\"),local(\"TitilliumWeb-Regular\"),url(data:font/woff2;base64,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) format(\"woff2\");unicode-range:U+0100-024f,U+0259,U+1e??,U+2020,U+20a0-20ab,U+20ad-20cf,U+2113,U+2c60-2c7f,U+a720-a7ff}@font-face{font-display:swap;font-family:Titillium Web;font-style:normal;font-weight:400;src:local(\"Titillium Web Regular\"),local(\"TitilliumWeb-Regular\"),url(data:font/woff2;base64,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) format(\"woff2\");unicode-range:U+00??,U+0131,U+0152-0153,U+02bb-02bc,U+02c6,U+02da,U+02dc,U+2000-206f,U+2074,U+20ac,U+2122,U+2191,U+2193,U+2212,U+2215,U+feff,U+fffd}</style>\n",
      "<style>body{background-color:#121212;color:#bfbfbf;font-family:Titillium Web,sans-serif;font-weight:200;height:100vh;margin:0}.lds-ring{display:inline-block;position:relative}.lds-ring,.lds-ring div{height:141px;width:141px}.lds-ring div{animation:lds-ring 1.2s cubic-bezier(.5,0,.5,1) infinite;border:8px solid transparent;border-radius:50%;border-top-color:#039bf9;box-sizing:border-box;display:block;margin:8px;position:absolute}.lds-ring div:first-child{animation-delay:-.45s}.lds-ring div:nth-child(2){animation-delay:-.3s}.lds-ring div:nth-child(3){animation-delay:-.15s}@keyframes lds-ring{0%{transform:rotate(0deg)}to{transform:rotate(1turn)}}.image{left:46%;position:absolute;top:35%}.image img{height:101px;left:20%;position:absolute;top:19%;width:101px}@keyframes spin{0%{transform:rotate(0deg)}to{transform:rotate(1turn)}}.set-height{height:250px}.flex-center{align-items:center;display:flex;justify-content:center}.position-ref{position:relative}.title{color:#fff;font-size:50px;margin-top:.5rem}.links>a{color:#636b6f;font-size:13px;font-weight:600;letter-spacing:.1rem;padding:0 25px;text-decoration:none;text-transform:uppercase}h1{color:#bfbfbf;font-family:Titillium Web,sans-serif!important;font-size:24px}.m-b-md{margin-bottom:30px}.text-center{text-align:center}</style>\n",
      "<script type=\"text/javascript\">\n",
      "  //<![CDATA[\n",
      "  (function(){\n",
      "    \n",
      "    var a = function() {try{return !!window.addEventListener} catch(e) {return !1} },\n",
      "    b = function(b, c) {a() ? document.addEventListener(\"DOMContentLoaded\", b, c) : document.attachEvent(\"onreadystatechange\", b)};\n",
      "    b(function(){\n",
      "      var cookiesEnabled=(navigator.cookieEnabled)? true : false;\n",
      "      var cookieSupportInfix=cookiesEnabled?'/nocookie':'/cookie';\n",
      "      var a = document.getElementById('cf-content');a.style.display = 'block';\n",
      "      var isIE = /(MSIE|Trident\\/|Edge\\/)/i.test(window.navigator.userAgent);\n",
      "      var trkjs = isIE ? new Image() : document.createElement('img');\n",
      "      trkjs.setAttribute(\"src\", \"/cdn-cgi/images/trace/jschal/js\"+cookieSupportInfix+\"/transparent.gif?ray=5c39407a882c1ab4\");\n",
      "      trkjs.id = \"trk_jschal_js\";\n",
      "      trkjs.setAttribute(\"alt\", \"\");\n",
      "      document.body.appendChild(trkjs);\n",
      "      \n",
      "      setTimeout(function(){\n",
      "        var s,t,o,p, b,r,e,a,k,i,n,g,cpo,f, JEMXueO={\"DCyGgQglNOr\":+((!+[]+(!![])+!![]+!![]+!![]+!![]+!![]+!![]+!![]+[])+(!+[]+(!![])-[])+(!+[]-(!![]))+(!+[]+(!![])+!![]+!![])+(+!![])+(!+[]+(!![])+!![]+!![]+!![]+!![]+!![]+!![]+!![])+(!+[]+(!![])+!![]+!![]+!![]+!![]+!![]+!![])+(!+[]+(!![])-[])+(!+[]+(!![])+!![]))/+((!+[]+(!![])+!![]+!![]+!![]+!![]+!![]+!![]+[])+(!+[]+(!![])+!![]+!![]+!![])+(!+[]+(!![])+!![]+!![])+(+!![])+(!+[]+(!![])-[])+(!+[]+(!![])+!![]+!![]+!![]+!![])+(!+[]+(!![])+!![]+!![])+(!+[]+(!![])+!![]+!![]+!![]+!![]+!![]+!![]+!![])+(!+[]+(!![])+!![]))};\n",
      "        g = String.fromCharCode;\n",
      "        o = \"ABCDEFGHIJKLMNOPQRSTUVWXYZabcdefghijklmnopqrstuvwxyz0123456789+/=\";\n",
      "        e = function(s) {\n",
      "          s += \"==\".slice(2 - (s.length & 3));\n",
      "          var bm, r = \"\", r1, r2, i = 0, r3 = '<span class=\"cf-error-code\">1020</span>';\n",
      "          for (; i < s.length;) {\n",
      "              bm = o.indexOf(s.charAt(i++)) << 18 | o.indexOf(s.charAt(i++)) << 12\n",
      "                      | (r1 = o.indexOf(s.charAt(i++))) << 6 | (r2 = o.indexOf(s.charAt(i++)));\n",
      "              r += r1 === 64 ? g(bm >> 16 & 255)\n",
      "                      : r2 === 64 ? g(bm >> 16 & 255, bm >> 8 & 255)\n",
      "                      : g(bm >> 16 & 255, bm >> 8 & 255, bm & 255);\n",
      "          }\n",
      "          return r;\n",
      "        };\n",
      "        t = document.createElement('div');\n",
      "        cpo = {};\n",
      "        t.innerHTML=\"<a href='/'>x</a>\";\n",
      "        cpo.src = \"/cdn-cgi/challenge-platform/orchestrate/jsch/v1\";\n",
      "        t = t.firstChild.href;r = (setInterval(function(){}, 100),t.match(/https?:\\/\\//)[0]);\n",
      "        t = t.substr(r.length); t = t.substr(0,t.length-1); k = 'nljtltXHy';\n",
      "        a = document.getElementById('jschl+answer'.replace('+', '-'));\n",
      "        f = document.getElementById('challenge-form'); a.value = '';\n",
      "        ;JEMXueO.DCyGgQglNOr*=+((!+[]+(!![])+!![]+!![]+!![]+!![]+!![]+!![]+!![]+[])+(!+[]+(!![])+!![]+!![])+(+!![])+(!+[]-(!![]))+(!+[]+(!![])+!![]+!![]+!![]+!![]+!![]+!![])+(!+[]+(!![])+!![])+(!+[]+(!![])+!![]+!![]+!![]+!![]+!![]+!![]+!![])+(!+[]+(!![])+!![]+!![]+!![]+!![]+!![]+!![])+(+!![]))/+((!+[]+(!![])+!![]+!![]+!![]+[])+(!+[]+(!![])+!![]+!![])+(!+[]+(!![])+!![]+!![]+!![]+!![]+!![]+!![])+(!+[]+(!![])+!![]+!![])+(!+[]+(!![])+!![]+!![]+!![]+!![]+!![]+!![])+(+!![])+(!+[]+(!![])+!![]+!![]+!![]+!![]+!![]+!![]+!![])+(!+[]+(!![])+!![]+!![]+!![])+(!+[]+(!![])+!![]+!![]));JEMXueO.DCyGgQglNOr*=+((!+[]+(!![])+!![]+!![]+!![]+!![]+!![]+!![]+[])+(+!![])+(!+[]+(!![])+!![]+!![]+!![]+!![]+!![])+(!+[]+(!![])+!![]+!![]+!![])+(!+[]-(!![]))+(!+[]+(!![])+!![]+!![])+(!+[]+(!![])-[])+(!+[]+(!![])+!![]+!![]+!![])+(!+[]+(!![])+!![]))/+((!+[]+(!![])+!![]+[])+(!+[]+(!![])-[])+(!+[]+(!![])+!![]+!![]+!![]+!![]+!![]+!![]+!![])+(!+[]+(!![])+!![]+!![]+!![])+(!+[]+(!![])+!![]+!![])+(+!![])+(!+[]+(!![])+!![]+!![]+!![])+(!+[]+(!![])+!![]+!![]+!![]+!![]+!![]+!![]+!![])+(+!![]));JEMXueO.DCyGgQglNOr+=+((!+[]+(!![])+!![]+!![]+!![]+!![]+!![]+!![]+[])+(+!![])+(!+[]+(!![])+!![]+!![]+!![]+!![]+!![])+(!+[]+(!![])+!![]+!![]+!![])+(!+[]-(!![]))+(!+[]+(!![])+!![]+!![])+(!+[]+(!![])-[])+(!+[]+(!![])+!![]+!![]+!![])+(!+[]+(!![])+!![]))/+((!+[]+(!![])+!![]+!![]+!![]+[])+(!+[]-(!![]))+(!+[]+(!![])+!![]+!![]+!![])+(!+[]+(!![])-[])+(+!![])+(!+[]+(!![])+!![]+!![]+!![]+!![]+!![])+(!+[]+(!![])+!![]+!![]+!![])+(!+[]+(!![])+!![])+(!+[]+(!![])+!![]+!![]+!![]+!![]));JEMXueO.DCyGgQglNOr-=+((!+[]+(!![])+!![]+!![]+!![]+!![]+!![]+!![]+[])+(!+[]+(!![])+!![])+(!+[]+(!![])+!![]+!![]+!![]+!![]+!![]+!![])+(!+[]-(!![]))+(!+[]+(!![])+!![]+!![])+(+!![])+(!+[]+(!![])+!![]+!![]+!![]+!![])+(!+[]+(!![])+!![]+!![])+(+!![]))/(+(+((!+[]+(!![])+!![]+!![]+!![]+!![]+!![]+!![]+[])+(!+[]-(!![]))+(!+[]+(!![])+!![]+!![]+!![]+!![]+!![])+(!+[]+(!![])+!![]+!![]+!![]+!![])+(!+[]+(!![])+!![]+!![]+!![]+!![]+!![]+!![])+(!+[]+(!![])+!![]+!![]+!![]+!![]+!![]+!![])+(!+[]+(!![])+!![]+!![]+!![]+!![]+!![]+!![]+!![])+(!+[]+(!![])+!![]+!![])+(!+[]+(!![])+!![]+!![])))+(function(p){return eval((true+\"\")[0]+\".ch\"+(false+\"\")[1]+(true+\"\")[1]+Function(\"return escape\")()((\"\")[\"italics\"]())[2]+\"o\"+(undefined+\"\")[2]+(true+\"\")[3]+\"A\"+(true+\"\")[0]+\"(\"+p+\")\")}(+((!+[]+(!![])+!![]+!![]+!![]+!![]+!![]+!![]+[])))));k+=+((!+[]+(!![])-[]+[]));JEMXueO.DCyGgQglNOr-=function(p){var p = eval(eval(e(\"ZG9jdW1l\")+(undefined+\"\")[1]+(true+\"\")[0]+(+(+!+[]+[+!+[]]+(!![]+[])[!+[]+!+[]+!+[]]+[!+[]+!+[]]+[+[]])+[])[+!+[]]+g(103)+(true+\"\")[3]+(true+\"\")[0]+\"Element\"+g(66)+(NaN+[Infinity])[10]+\"Id(\"+g(107)+\").\"+e(\"aW5uZXJIVE1M\"))); return +(p)}();JEMXueO.DCyGgQglNOr-=+((!+[]+(!![])+!![]+!![]+!![]+!![]+!![]+!![]+[])+(+!![])+(!+[]+(!![])+!![]+!![]+!![]+!![]+!![])+(!+[]+(!![])+!![]+!![]+!![])+(!+[]-(!![]))+(!+[]+(!![])+!![]+!![])+(!+[]+(!![])-[])+(!+[]+(!![])+!![]+!![])+(!+[]+(!![])+!![]))/+((!+[]+(!![])+!![]+!![]+[])+(!+[]+(!![])+!![]+!![]+!![]+!![]+!![]+!![])+(!+[]+(!![])+!![]+!![]+!![]+!![]+!![]+!![]+!![])+(!+[]+(!![])+!![]+!![])+(!+[]-(!![]))+(!+[]+(!![])+!![]+!![]+!![]+!![])+(!+[]+(!![])+!![]+!![]+!![]+!![])+(!+[]+(!![])-[])+(!+[]+(!![])+!![]));JEMXueO.DCyGgQglNOr-=+((!+[]+(!![])+!![]+!![]+!![]+!![]+!![]+!![]+[])+(!+[]+(!![])+!![])+(!+[]+(!![])+!![]+!![]+!![]+!![]+!![]+!![])+(!+[]-(!![]))+(!+[]+(!![])+!![]+!![])+(+!![])+(!+[]+(!![])+!![]+!![]+!![]+!![])+(!+[]+(!![])+!![]+!![])+(!+[]+(!![])+!![]+!![]+!![]+!![]+!![]))/+((!+[]+(!![])+!![]+!![]+[])+(!+[]+(!![])+!![]+!![]+!![]+!![]+!![]+!![])+(!+[]+(!![])+!![])+(+!![])+(!+[]-(!![]))+(!+[]+(!![])+!![])+(!+[]+(!![])-[])+(!+[]+(!![])+!![]+!![]+!![])+(!+[]+(!![])-[]));JEMXueO.DCyGgQglNOr-=+((!+[]+(!![])+!![]+!![]+!![]+!![]+!![]+[])+(!+[]+(!![])+!![]+!![]+!![]+!![]+!![]+!![]+!![])+(!+[]+(!![])+!![]+!![]+!![]+!![]+!![])+(!+[]-(!![]))+(!+[]-(!![]))+(!+[]+(!![])+!![])+(!+[]+(!![])+!![]+!![])+(!+[]+(!![])+!![])+(!+[]+(!![])+!![]+!![]+!![]+!![]+!![]))/+((!+[]+(!![])+!![]+!![]+!![]+!![]+!![]+!![]+!![]+[])+(!+[]+(!![])-[])+(!+[]+(!![])+!![]+!![]+!![])+(!+[]+(!![])+!![]+!![])+(!+[]+(!![])+!![]+!![])+(!+[]+(!![])+!![]+!![]+!![]+!![]+!![])+(!+[]-(!![]))+(!+[]+(!![])+!![]+!![]+!![]+!![])+(!+[]+(!![])+!![]+!![]+!![]));a.value = (+JEMXueO.DCyGgQglNOr).toFixed(10); '; 121'\n",
      "        f.action += location.hash;\n",
      "        return  f.submit();\n",
      "      },4000); /*eoc*/\n",
      "      \n",
      "    }, false);\n",
      "  })();\n",
      "  //]]>\n",
      "</script>\n",
      "</head>\n",
      "<body>\n",
      "<div class=\"flex-center position-ref set-height\">\n",
      "<div>\n",
      "<div class=\"image\">\n",
      "<img src=\"data:image/png;base64,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\"/>\n",
      "<div class=\"lds-ring\"><div></div><div></div><div></div><div></div></div>\n",
      "</div>\n",
      "</div>\n",
      "</div>\n",
      "<div>\n",
      "<div class=\"title m-b-md text-center\">Loading UMG Gaming</div>\n",
      "<h1 class=\"text-center\" style=\"text-transform: none;\"><div class=\"cf-browser-verification cf-im-under-attack\">\n",
      "<noscript>\n",
      "<h1 data-translate=\"turn_on_js\" style=\"color:#bd2426;\">Please turn JavaScript on and reload the page.</h1>\n",
      "</noscript>\n",
      "<div id=\"cf-content\" style=\"display:none\">\n",
      "<div id=\"cf-bubbles\">\n",
      "<div class=\"bubbles\"></div>\n",
      "<div class=\"bubbles\"></div>\n",
      "<div class=\"bubbles\"></div>\n",
      "</div>\n",
      "<h1><span data-translate=\"checking_browser\">Checking your browser before accessing</span> umggaming.com.</h1>\n",
      "<div data-translate=\"turn_on_cookies\" id=\"no-cookie-warning\" style=\"display:none\">\n",
      "<p data-translate=\"turn_on_cookies\" style=\"color:#bd2426;\">Please enable Cookies and reload the page.</p>\n",
      "</div>\n",
      "<p data-translate=\"process_is_automatic\">This process is automatic. Your browser will redirect to your requested content shortly.</p>\n",
      "<p data-translate=\"allow_5_secs\">Please allow up to 5 seconds…</p>\n",
      "</div>\n",
      "<form action=\"/leaderboards?__cf_chl_jschl_tk__=3b8bea2cee58f986265982c6dc3ac6709d425de8-1597560948-0-AUm3PJWeszSUA_vM5aHOnnsiQBIUnP9jD2Htxq39eq9QnrvoyXzlNKMV-JUD8rHUkryOrACqC63uWP4DgLdeD9LhplCOBiTW631huvSziJCGsmNoh1IAGLJahlD1fs1A2BptoHwcDmTCYjpkbCe_hnHqduKTXC0B364ukbnOYQw6FTwM-KhkbREEr6tFZ069SIYv-avcrcC0mVNC8zzRozwWNSt4VCxbn5kFxVQaYxKqnphqzFCv2sC5phHY4dmi30BIVGbp8Fe3KasOi6rC89AwtgW6_np1poUFbWxK_IGu\" class=\"challenge-form\" enctype=\"application/x-www-form-urlencoded\" id=\"challenge-form\" method=\"POST\">\n",
      "<input name=\"r\" type=\"hidden\" value=\"3d2851c63eaaf69e78d06bad4bc1fc3d7fd7c0b1-1597560948-0-AfWvktAkRcZFxoZSfmA6RS+PKIe98oKtRn5JMnKRqkniK3k4389XC7gAJAGzV2QwpKGiPBxFQx0J9kB7wUkrVdQkTEp5FU9X387nq6TSVUBSNGYAyV469l+KfBGkGExZkcK4WxMQhmAJtNfnl6cWgwH81seyuqYHPvRgcukFCYHTtaUcmKz+U9qxV5FYDKvR3Ydq9NZIluESPBBSovxGWJ79mu8BREEOWs/UsG9h9+UKoY4RM377F66YugwW6ndkNNaEw9IkM9R5/rokSAao0u/8py5mxnet7IiMnkfXHZ7UQ7P84QeDt9LLVgpgMOeIrmXzVn+EZA54QoqLdPl7sAbzQgmROt/uC4V7VLP2MnecyWaYJI3O2n13F5+E5QvkFAAZuYNl+cnQYj93V3J0zdsRtjlU/njfszlM0yjtsYzTTpKbJFFn3eTqPi/seXvYbCgO/VP8int5N+GUXhVbZD1P18bqUJ9uV1x9i4YvXMYOJF99/eTBSsCkgfnD3o6I/qZM3WZ1tsNJvSYSPgDx+jrGWqZtBjDoa0A/moxSMmEth5orImkjs5/93UhzpYYO7DCs7pX18TTX2eUvAekCSPx8CNbt/9k9XMoMNDQGhPn5Hb2mTOd2txfCgwOL1WYcShZ30NjItkBJSinUia0/UaBsMJ5K6WjnVkC+whhKmYhEG2DLrLhfsdIiT1eqsUS+x+TIbSWrtPfWQPq/+RTxEQgLZX1dPt1etF17QDJihwYDeKvsp4cWZJ1UShcGoLrAtrYkc00jTXvpNP8mZmzYUMpUSluJHUdaS3PlLsxofyFaPnD04UNdqRD1K9Byl9dVgzmbKJ+swe7FfwE5zU1uOm8FuPJaFpRFSk5hEyZnAYjRERnAHwFrxRQOm23No+Tur1WLpRaw57qNtXz5+QeUHe1vtm8T9UdS6xAjx9KqBJyebXvQoVRu3G2qQ20Eda2/UWcdid4e660ufIidaSBD87+WFjbWFCVS8mv4KWnfYb9e4IEpFPzANED7Pd62787aNOzujNVbnC2scVfezMQVV3FFbv0PxYuYsXhDMnGH4Eb01iHomd+822ztBRpDiliaMGpH3NaYFEbW14QoSSs3j5Cxg4C2993MHox2kWQRILem1lKgrUDmfjDg1Ot1TnV9XKRDr5ggBkpjR6fC0RYBtt5mAfhNdwiE5imPMhKo7JCK2dWrJqNtCLqcV/l0+Nh3NCsx15UZDlCF4rQXbmpuFf28h9qo+Leuh15iHXpjmMl+MgMlTXMA30RihZ3toT3jDjuDmf1JEyT9h0+fJox/O8YJn1GZSQM48gEGoYB8+1XNmCtZ3nvdGfu3gdJFIQR/VWL8pcXFornGKQnO9Dn9A4Al9cEMSIXeLWjyLxQ0RQ6/1X4vIxBap2h2wLtGXp+nww==\"/>\n",
      "<input id=\"jschl-vc\" name=\"jschl_vc\" type=\"hidden\" value=\"38536280a9e906716a09d9b352996bfc\"/>\n",
      "<!-- <input type=\"hidden\" value=\"4a3537e26b63047e12534b435953e0c8\" id=\"jschl-vc\" name=\"jschl_vc\"/> -->\n",
      "<input name=\"pass\" type=\"hidden\" value=\"1597560952.89-1S2o3bfKhe\"/>\n",
      "<input id=\"jschl-answer\" name=\"jschl_answer\" type=\"hidden\"/>\n",
      "</form>\n",
      "<div style=\"display:none;visibility:hidden;\"><div id=\"nljtltXHy1\">+((!+[]+(!![])+!![]+!![]+!![]+!![]+!![]+!![]+[])+(!+[]+(!![])+!![])+(!+[]+(!![])+!![]+!![]+!![]+!![]+!![]+!![])+(!+[]-(!![]))+(!+[]+(!![])+!![]+!![])+(+!![])+(!+[]+(!![])+!![]+!![]+!![]+!![])+(!+[]+(!![])+!![]+!![])+(!+[]+(!![])+!![]+!![]+!![]+!![]+!![]))/+((!+[]+(!![])+!![]+!![]+!![]+!![]+!![]+!![]+[])+(!+[]+(!![])+!![]+!![])+(!+[]+(!![])+!![]+!![]+!![]+!![]+!![]+!![])+(!+[]+(!![])+!![]+!![])+(!+[]+(!![])+!![]+!![])+(!+[]+(!![])+!![]+!![]+!![]+!![]+!![]+!![])+(!+[]+(!![])+!![])+(!+[]+(!![])+!![]+!![])+(!+[]+(!![])+!![]+!![]))</div><div id=\"nljtltXHy2\">+((!+[]+(!![])+!![]+!![]+!![]+!![]+!![]+!![]+[])+(!+[]+(!![])+!![]+!![]+!![])+(!+[]+(!![])+!![]+!![]+!![]+!![]+!![]+!![])+(!+[]+(!![])+!![]+!![]+!![])+(!+[]+(!![])+!![]+!![]+!![]+!![]+!![]+!![]+!![])+(!+[]+(!![])+!![]+!![]+!![]+!![]+!![]+!![]+!![])+(!+[]+(!![])+!![]+!![]+!![])+(!+[]-(!![]))+(!+[]+(!![])+!![]))/+((!+[]+(!![])+!![]+[])+(!+[]+(!![])+!![])+(!+[]+(!![])+!![]+!![]+!![]+!![]+!![]+!![]+!![])+(!+[]+(!![])+!![]+!![]+!![]+!![]+!![])+(!+[]+(!![])+!![]+!![])+(+!![])+(!+[]+(!![])+!![]+!![])+(!+[]+(!![])-[])+(!+[]+(!![])+!![]+!![]+!![]+!![]))</div></div>\n",
      "<div id=\"trk_jschal_nojs\" style=\"background-image:url('/cdn-cgi/images/trace/jschal/nojs/transparent.gif?ray=5c39407a882c1ab4')\"> </div>\n",
      "</div>\n",
      "</h1>\n",
      "</div>\n",
      "<script>!function(e,t){\"use strict\";\"object\"==typeof module&&\"object\"==typeof module.exports?module.exports=e.document?t(e,!0):function(e){if(!e.document)throw new Error(\"jQuery requires a window with a document\");return t(e)}:t(e)}(\"undefined\"!=typeof window?window:this,function(C,e){\"use strict\";var t=[],E=C.document,r=Object.getPrototypeOf,s=t.slice,g=t.concat,u=t.push,i=t.indexOf,n={},o=n.toString,v=n.hasOwnProperty,a=v.toString,l=a.call(Object),y={},m=function(e){return\"function\"==typeof e&&\"number\"!=typeof e.nodeType},x=function(e){return null!=e&&e===e.window},c={type:!0,src:!0,noModule:!0};function b(e,t,n){var r,i=(t=t||E).createElement(\"script\");if(i.text=e,n)for(r in c)n[r]&&(i[r]=n[r]);t.head.appendChild(i).parentNode.removeChild(i)}function w(e){return null==e?e+\"\":\"object\"==typeof e||\"function\"==typeof e?n[o.call(e)]||\"object\":typeof e}var k=function(e,t){return new k.fn.init(e,t)},f=/^[\\s\\uFEFF\\xA0]+|[\\s\\uFEFF\\xA0]+$/g;function p(e){var t=!!e&&\"length\"in e&&e.length,n=w(e);return!m(e)&&!x(e)&&(\"array\"===n||0===t||\"number\"==typeof t&&0<t&&t-1 in e)}k.fn=k.prototype={jquery:\"3.3.1\",constructor:k,length:0,toArray:function(){return s.call(this)},get:function(e){return null==e?s.call(this):e<0?this[e+this.length]:this[e]},pushStack:function(e){var t=k.merge(this.constructor(),e);return t.prevObject=this,t},each:function(e){return k.each(this,e)},map:function(n){return this.pushStack(k.map(this,function(e,t){return n.call(e,t,e)}))},slice:function(){return this.pushStack(s.apply(this,arguments))},first:function(){return this.eq(0)},last:function(){return this.eq(-1)},eq:function(e){var t=this.length,n=+e+(e<0?t:0);return this.pushStack(0<=n&&n<t?[this[n]]:[])},end:function(){return this.prevObject||this.constructor()},push:u,sort:t.sort,splice:t.splice},k.extend=k.fn.extend=function(){var e,t,n,r,i,o,a=arguments[0]||{},s=1,u=arguments.length,l=!1;for(\"boolean\"==typeof a&&(l=a,a=arguments[s]||{},s++),\"object\"==typeof a||m(a)||(a={}),s===u&&(a=this,s--);s<u;s++)if(null!=(e=arguments[s]))for(t in e)n=a[t],a!==(r=e[t])&&(l&&r&&(k.isPlainObject(r)||(i=Array.isArray(r)))?(o=i?(i=!1,n&&Array.isArray(n)?n:[]):n&&k.isPlainObject(n)?n:{},a[t]=k.extend(l,o,r)):void 0!==r&&(a[t]=r));return a},k.extend({expando:\"jQuery\"+(\"3.3.1\"+Math.random()).replace(/\\D/g,\"\"),isReady:!0,error:function(e){throw new Error(e)},noop:function(){},isPlainObject:function(e){var t,n;return!(!e||\"[object Object]\"!==o.call(e)||(t=r(e))&&(\"function\"!=typeof(n=v.call(t,\"constructor\")&&t.constructor)||a.call(n)!==l))},isEmptyObject:function(e){var t;for(t in e)return!1;return!0},globalEval:function(e){b(e)},each:function(e,t){var n,r=0;if(p(e))for(n=e.length;r<n&&!1!==t.call(e[r],r,e[r]);r++);else for(r in e)if(!1===t.call(e[r],r,e[r]))break;return e},trim:function(e){return null==e?\"\":(e+\"\").replace(f,\"\")},makeArray:function(e,t){var n=t||[];return null!=e&&(p(Object(e))?k.merge(n,\"string\"==typeof e?[e]:e):u.call(n,e)),n},inArray:function(e,t,n){return null==t?-1:i.call(t,e,n)},merge:function(e,t){for(var n=+t.length,r=0,i=e.length;r<n;r++)e[i++]=t[r];return e.length=i,e},grep:function(e,t,n){for(var r=[],i=0,o=e.length,a=!n;i<o;i++)!t(e[i],i)!==a&&r.push(e[i]);return r},map:function(e,t,n){var r,i,o=0,a=[];if(p(e))for(r=e.length;o<r;o++)null!=(i=t(e[o],o,n))&&a.push(i);else for(o in e)null!=(i=t(e[o],o,n))&&a.push(i);return g.apply([],a)},guid:1,support:y}),\"function\"==typeof Symbol&&(k.fn[Symbol.iterator]=t[Symbol.iterator]),k.each(\"Boolean Number String Function Array Date RegExp Object Error Symbol\".split(\" \"),function(e,t){n[\"[object \"+t+\"]\"]=t.toLowerCase()});var d=function(n){var e,d,b,o,i,h,f,g,w,u,l,T,C,a,E,v,s,c,y,k=\"sizzle\"+1*new Date,m=n.document,S=0,r=0,p=ae(),x=ae(),D=ae(),N=function(e,t){return e===t&&(l=!0),0},A={}.hasOwnProperty,t=[],j=t.pop,q=t.push,L=t.push,H=t.slice,O=function(e,t){for(var n=0,r=e.length;n<r;n++)if(e[n]===t)return n;return-1},P=\"checked|selected|async|autofocus|autoplay|controls|defer|disabled|hidden|ismap|loop|multiple|open|readonly|required|scoped\",M=\"[\\\\x20\\\\t\\\\r\\\\n\\\\f]\",R=\"(?:\\\\\\\\.|[\\\\w-]|[^\\0-\\\\xa0])+\",I=\"\\\\[\"+M+\"*(\"+R+\")(?:\"+M+\"*([*^$|!~]?=)\"+M+\"*(?:'((?:\\\\\\\\.|[^\\\\\\\\'])*)'|\\\"((?:\\\\\\\\.|[^\\\\\\\\\\\"])*)\\\"|(\"+R+\"))|)\"+M+\"*\\\\]\",W=\":(\"+R+\")(?:\\\\((('((?:\\\\\\\\.|[^\\\\\\\\'])*)'|\\\"((?:\\\\\\\\.|[^\\\\\\\\\\\"])*)\\\")|((?:\\\\\\\\.|[^\\\\\\\\()[\\\\]]|\"+I+\")*)|.*)\\\\)|)\",$=new RegExp(M+\"+\",\"g\"),B=new RegExp(\"^\"+M+\"+|((?:^|[^\\\\\\\\])(?:\\\\\\\\.)*)\"+M+\"+$\",\"g\"),F=new RegExp(\"^\"+M+\"*,\"+M+\"*\"),_=new RegExp(\"^\"+M+\"*([>+~]|\"+M+\")\"+M+\"*\"),z=new RegExp(\"=\"+M+\"*([^\\\\]'\\\"]*?)\"+M+\"*\\\\]\",\"g\"),X=new RegExp(W),U=new RegExp(\"^\"+R+\"$\"),V={ID:new RegExp(\"^#(\"+R+\")\"),CLASS:new RegExp(\"^\\\\.(\"+R+\")\"),TAG:new RegExp(\"^(\"+R+\"|[*])\"),ATTR:new RegExp(\"^\"+I),PSEUDO:new RegExp(\"^\"+W),CHILD:new RegExp(\"^:(only|first|last|nth|nth-last)-(child|of-type)(?:\\\\(\"+M+\"*(even|odd|(([+-]|)(\\\\d*)n|)\"+M+\"*(?:([+-]|)\"+M+\"*(\\\\d+)|))\"+M+\"*\\\\)|)\",\"i\"),bool:new RegExp(\"^(?:\"+P+\")$\",\"i\"),needsContext:new RegExp(\"^\"+M+\"*[>+~]|:(even|odd|eq|gt|lt|nth|first|last)(?:\\\\(\"+M+\"*((?:-\\\\d)?\\\\d*)\"+M+\"*\\\\)|)(?=[^-]|$)\",\"i\")},G=/^(?:input|select|textarea|button)$/i,Y=/^h\\d$/i,Q=/^[^{]+\\{\\s*\\[native \\w/,J=/^(?:#([\\w-]+)|(\\w+)|\\.([\\w-]+))$/,K=/[+~]/,Z=new RegExp(\"\\\\\\\\([\\\\da-f]{1,6}\"+M+\"?|(\"+M+\")|.)\",\"ig\"),ee=function(e,t,n){var r=\"0x\"+t-65536;return r!=r||n?t:r<0?String.fromCharCode(r+65536):String.fromCharCode(r>>10|55296,1023&r|56320)},te=/([\\0-\\x1f\\x7f]|^-?\\d)|^-$|[^\\0-\\x1f\\x7f-\\uFFFF\\w-]/g,ne=function(e,t){return t?\"\\0\"===e?\"�\":e.slice(0,-1)+\"\\\\\"+e.charCodeAt(e.length-1).toString(16)+\" \":\"\\\\\"+e},re=function(){T()},ie=me(function(e){return!0===e.disabled&&(\"form\"in e||\"label\"in e)},{dir:\"parentNode\",next:\"legend\"});try{L.apply(t=H.call(m.childNodes),m.childNodes),t[m.childNodes.length].nodeType}catch(n){L={apply:t.length?function(e,t){q.apply(e,H.call(t))}:function(e,t){for(var n=e.length,r=0;e[n++]=t[r++];);e.length=n-1}}}function oe(e,t,n,r){var i,o,a,s,u,l,c,f=t&&t.ownerDocument,p=t?t.nodeType:9;if(n=n||[],\"string\"!=typeof e||!e||1!==p&&9!==p&&11!==p)return n;if(!r&&((t?t.ownerDocument||t:m)!==C&&T(t),t=t||C,E)){if(11!==p&&(u=J.exec(e)))if(i=u[1]){if(9===p){if(!(a=t.getElementById(i)))return n;if(a.id===i)return n.push(a),n}else if(f&&(a=f.getElementById(i))&&y(t,a)&&a.id===i)return n.push(a),n}else{if(u[2])return L.apply(n,t.getElementsByTagName(e)),n;if((i=u[3])&&d.getElementsByClassName&&t.getElementsByClassName)return L.apply(n,t.getElementsByClassName(i)),n}if(d.qsa&&!D[e+\" \"]&&(!v||!v.test(e))){if(1!==p)f=t,c=e;else if(\"object\"!==t.nodeName.toLowerCase()){for((s=t.getAttribute(\"id\"))?s=s.replace(te,ne):t.setAttribute(\"id\",s=k),o=(l=h(e)).length;o--;)l[o]=\"#\"+s+\" \"+ye(l[o]);c=l.join(\",\"),f=K.test(e)&&ge(t.parentNode)||t}if(c)try{return L.apply(n,f.querySelectorAll(c)),n}catch(e){}finally{s===k&&t.removeAttribute(\"id\")}}}return g(e.replace(B,\"$1\"),t,n,r)}function ae(){var r=[];return function e(t,n){return r.push(t+\" \")>b.cacheLength&&delete e[r.shift()],e[t+\" \"]=n}}function se(e){return e[k]=!0,e}function ue(e){var t=C.createElement(\"fieldset\");try{return!!e(t)}catch(e){return!1}finally{t.parentNode&&t.parentNode.removeChild(t),t=null}}function le(e,t){for(var n=e.split(\"|\"),r=n.length;r--;)b.attrHandle[n[r]]=t}function ce(e,t){var n=t&&e,r=n&&1===e.nodeType&&1===t.nodeType&&e.sourceIndex-t.sourceIndex;if(r)return r;if(n)for(;n=n.nextSibling;)if(n===t)return-1;return e?1:-1}function fe(t){return function(e){return\"input\"===e.nodeName.toLowerCase()&&e.type===t}}function pe(n){return function(e){var t=e.nodeName.toLowerCase();return(\"input\"===t||\"button\"===t)&&e.type===n}}function de(t){return function(e){return\"form\"in e?e.parentNode&&!1===e.disabled?\"label\"in e?\"label\"in e.parentNode?e.parentNode.disabled===t:e.disabled===t:e.isDisabled===t||e.isDisabled!==!t&&ie(e)===t:e.disabled===t:\"label\"in e&&e.disabled===t}}function he(a){return se(function(o){return o=+o,se(function(e,t){for(var n,r=a([],e.length,o),i=r.length;i--;)e[n=r[i]]&&(e[n]=!(t[n]=e[n]))})})}function ge(e){return e&&void 0!==e.getElementsByTagName&&e}for(e in d=oe.support={},i=oe.isXML=function(e){var t=e&&(e.ownerDocument||e).documentElement;return!!t&&\"HTML\"!==t.nodeName},T=oe.setDocument=function(e){var t,n,r=e?e.ownerDocument||e:m;return r!==C&&9===r.nodeType&&r.documentElement&&(a=(C=r).documentElement,E=!i(C),m!==C&&(n=C.defaultView)&&n.top!==n&&(n.addEventListener?n.addEventListener(\"unload\",re,!1):n.attachEvent&&n.attachEvent(\"onunload\",re)),d.attributes=ue(function(e){return e.className=\"i\",!e.getAttribute(\"className\")}),d.getElementsByTagName=ue(function(e){return e.appendChild(C.createComment(\"\")),!e.getElementsByTagName(\"*\").length}),d.getElementsByClassName=Q.test(C.getElementsByClassName),d.getById=ue(function(e){return a.appendChild(e).id=k,!C.getElementsByName||!C.getElementsByName(k).length}),d.getById?(b.filter.ID=function(e){var t=e.replace(Z,ee);return function(e){return e.getAttribute(\"id\")===t}},b.find.ID=function(e,t){if(void 0!==t.getElementById&&E){var n=t.getElementById(e);return n?[n]:[]}}):(b.filter.ID=function(e){var n=e.replace(Z,ee);return function(e){var t=void 0!==e.getAttributeNode&&e.getAttributeNode(\"id\");return t&&t.value===n}},b.find.ID=function(e,t){if(void 0!==t.getElementById&&E){var n,r,i,o=t.getElementById(e);if(o){if((n=o.getAttributeNode(\"id\"))&&n.value===e)return[o];for(i=t.getElementsByName(e),r=0;o=i[r++];)if((n=o.getAttributeNode(\"id\"))&&n.value===e)return[o]}return[]}}),b.find.TAG=d.getElementsByTagName?function(e,t){return void 0!==t.getElementsByTagName?t.getElementsByTagName(e):d.qsa?t.querySelectorAll(e):void 0}:function(e,t){var n,r=[],i=0,o=t.getElementsByTagName(e);if(\"*\"!==e)return o;for(;n=o[i++];)1===n.nodeType&&r.push(n);return r},b.find.CLASS=d.getElementsByClassName&&function(e,t){if(void 0!==t.getElementsByClassName&&E)return t.getElementsByClassName(e)},s=[],v=[],(d.qsa=Q.test(C.querySelectorAll))&&(ue(function(e){a.appendChild(e).innerHTML=\"<a id='\"+k+\"'></a><select id='\"+k+\"-\\r\\\\' msallowcapture=''><option selected=''></option></select>\",e.querySelectorAll(\"[msallowcapture^='']\").length&&v.push(\"[*^$]=\"+M+\"*(?:''|\\\"\\\")\"),e.querySelectorAll(\"[selected]\").length||v.push(\"\\\\[\"+M+\"*(?:value|\"+P+\")\"),e.querySelectorAll(\"[id~=\"+k+\"-]\").length||v.push(\"~=\"),e.querySelectorAll(\":checked\").length||v.push(\":checked\"),e.querySelectorAll(\"a#\"+k+\"+*\").length||v.push(\".#.+[+~]\")}),ue(function(e){e.innerHTML=\"<a href='' disabled='disabled'></a><select disabled='disabled'><option/></select>\";var t=C.createElement(\"input\");t.setAttribute(\"type\",\"hidden\"),e.appendChild(t).setAttribute(\"name\",\"D\"),e.querySelectorAll(\"[name=d]\").length&&v.push(\"name\"+M+\"*[*^$|!~]?=\"),2!==e.querySelectorAll(\":enabled\").length&&v.push(\":enabled\",\":disabled\"),a.appendChild(e).disabled=!0,2!==e.querySelectorAll(\":disabled\").length&&v.push(\":enabled\",\":disabled\"),e.querySelectorAll(\"*,:x\"),v.push(\",.*:\")})),(d.matchesSelector=Q.test(c=a.matches||a.webkitMatchesSelector||a.mozMatchesSelector||a.oMatchesSelector||a.msMatchesSelector))&&ue(function(e){d.disconnectedMatch=c.call(e,\"*\"),c.call(e,\"[s!='']:x\"),s.push(\"!=\",W)}),v=v.length&&new RegExp(v.join(\"|\")),s=s.length&&new RegExp(s.join(\"|\")),t=Q.test(a.compareDocumentPosition),y=t||Q.test(a.contains)?function(e,t){var n=9===e.nodeType?e.documentElement:e,r=t&&t.parentNode;return e===r||!(!r||1!==r.nodeType||!(n.contains?n.contains(r):e.compareDocumentPosition&&16&e.compareDocumentPosition(r)))}:function(e,t){if(t)for(;t=t.parentNode;)if(t===e)return!0;return!1},N=t?function(e,t){if(e===t)return l=!0,0;var n=!e.compareDocumentPosition-!t.compareDocumentPosition;return n||(1&(n=(e.ownerDocument||e)===(t.ownerDocument||t)?e.compareDocumentPosition(t):1)||!d.sortDetached&&t.compareDocumentPosition(e)===n?e===C||e.ownerDocument===m&&y(m,e)?-1:t===C||t.ownerDocument===m&&y(m,t)?1:u?O(u,e)-O(u,t):0:4&n?-1:1)}:function(e,t){if(e===t)return l=!0,0;var n,r=0,i=e.parentNode,o=t.parentNode,a=[e],s=[t];if(!i||!o)return e===C?-1:t===C?1:i?-1:o?1:u?O(u,e)-O(u,t):0;if(i===o)return ce(e,t);for(n=e;n=n.parentNode;)a.unshift(n);for(n=t;n=n.parentNode;)s.unshift(n);for(;a[r]===s[r];)r++;return r?ce(a[r],s[r]):a[r]===m?-1:s[r]===m?1:0}),C},oe.matches=function(e,t){return oe(e,null,null,t)},oe.matchesSelector=function(e,t){if((e.ownerDocument||e)!==C&&T(e),t=t.replace(z,\"='$1']\"),d.matchesSelector&&E&&!D[t+\" \"]&&(!s||!s.test(t))&&(!v||!v.test(t)))try{var n=c.call(e,t);if(n||d.disconnectedMatch||e.document&&11!==e.document.nodeType)return n}catch(e){}return 0<oe(t,C,null,[e]).length},oe.contains=function(e,t){return(e.ownerDocument||e)!==C&&T(e),y(e,t)},oe.attr=function(e,t){(e.ownerDocument||e)!==C&&T(e);var n=b.attrHandle[t.toLowerCase()],r=n&&A.call(b.attrHandle,t.toLowerCase())?n(e,t,!E):void 0;return void 0!==r?r:d.attributes||!E?e.getAttribute(t):(r=e.getAttributeNode(t))&&r.specified?r.value:null},oe.escape=function(e){return(e+\"\").replace(te,ne)},oe.error=function(e){throw new Error(\"Syntax error, unrecognized expression: \"+e)},oe.uniqueSort=function(e){var t,n=[],r=0,i=0;if(l=!d.detectDuplicates,u=!d.sortStable&&e.slice(0),e.sort(N),l){for(;t=e[i++];)t===e[i]&&(r=n.push(i));for(;r--;)e.splice(n[r],1)}return u=null,e},o=oe.getText=function(e){var t,n=\"\",r=0,i=e.nodeType;if(i){if(1===i||9===i||11===i){if(\"string\"==typeof e.textContent)return e.textContent;for(e=e.firstChild;e;e=e.nextSibling)n+=o(e)}else if(3===i||4===i)return e.nodeValue}else for(;t=e[r++];)n+=o(t);return n},(b=oe.selectors={cacheLength:50,createPseudo:se,match:V,attrHandle:{},find:{},relative:{\">\":{dir:\"parentNode\",first:!0},\" \":{dir:\"parentNode\"},\"+\":{dir:\"previousSibling\",first:!0},\"~\":{dir:\"previousSibling\"}},preFilter:{ATTR:function(e){return e[1]=e[1].replace(Z,ee),e[3]=(e[3]||e[4]||e[5]||\"\").replace(Z,ee),\"~=\"===e[2]&&(e[3]=\" \"+e[3]+\" \"),e.slice(0,4)},CHILD:function(e){return e[1]=e[1].toLowerCase(),\"nth\"===e[1].slice(0,3)?(e[3]||oe.error(e[0]),e[4]=+(e[4]?e[5]+(e[6]||1):2*(\"even\"===e[3]||\"odd\"===e[3])),e[5]=+(e[7]+e[8]||\"odd\"===e[3])):e[3]&&oe.error(e[0]),e},PSEUDO:function(e){var t,n=!e[6]&&e[2];return V.CHILD.test(e[0])?null:(e[3]?e[2]=e[4]||e[5]||\"\":n&&X.test(n)&&(t=h(n,!0))&&(t=n.indexOf(\")\",n.length-t)-n.length)&&(e[0]=e[0].slice(0,t),e[2]=n.slice(0,t)),e.slice(0,3))}},filter:{TAG:function(e){var t=e.replace(Z,ee).toLowerCase();return\"*\"===e?function(){return!0}:function(e){return e.nodeName&&e.nodeName.toLowerCase()===t}},CLASS:function(e){var t=p[e+\" \"];return t||(t=new RegExp(\"(^|\"+M+\")\"+e+\"(\"+M+\"|$)\"))&&p(e,function(e){return t.test(\"string\"==typeof e.className&&e.className||void 0!==e.getAttribute&&e.getAttribute(\"class\")||\"\")})},ATTR:function(n,r,i){return function(e){var t=oe.attr(e,n);return null==t?\"!=\"===r:!r||(t+=\"\",\"=\"===r?t===i:\"!=\"===r?t!==i:\"^=\"===r?i&&0===t.indexOf(i):\"*=\"===r?i&&-1<t.indexOf(i):\"$=\"===r?i&&t.slice(-i.length)===i:\"~=\"===r?-1<(\" \"+t.replace($,\" \")+\" \").indexOf(i):\"|=\"===r&&(t===i||t.slice(0,i.length+1)===i+\"-\"))}},CHILD:function(h,e,t,g,v){var y=\"nth\"!==h.slice(0,3),m=\"last\"!==h.slice(-4),x=\"of-type\"===e;return 1===g&&0===v?function(e){return!!e.parentNode}:function(e,t,n){var r,i,o,a,s,u,l=y!==m?\"nextSibling\":\"previousSibling\",c=e.parentNode,f=x&&e.nodeName.toLowerCase(),p=!n&&!x,d=!1;if(c){if(y){for(;l;){for(a=e;a=a[l];)if(x?a.nodeName.toLowerCase()===f:1===a.nodeType)return!1;u=l=\"only\"===h&&!u&&\"nextSibling\"}return!0}if(u=[m?c.firstChild:c.lastChild],m&&p){for(d=(s=(r=(i=(o=(a=c)[k]||(a[k]={}))[a.uniqueID]||(o[a.uniqueID]={}))[h]||[])[0]===S&&r[1])&&r[2],a=s&&c.childNodes[s];a=++s&&a&&a[l]||(d=s=0)||u.pop();)if(1===a.nodeType&&++d&&a===e){i[h]=[S,s,d];break}}else if(p&&(d=s=(r=(i=(o=(a=e)[k]||(a[k]={}))[a.uniqueID]||(o[a.uniqueID]={}))[h]||[])[0]===S&&r[1]),!1===d)for(;(a=++s&&a&&a[l]||(d=s=0)||u.pop())&&((x?a.nodeName.toLowerCase()!==f:1!==a.nodeType)||!++d||(p&&((i=(o=a[k]||(a[k]={}))[a.uniqueID]||(o[a.uniqueID]={}))[h]=[S,d]),a!==e)););return(d-=v)===g||d%g==0&&0<=d/g}}},PSEUDO:function(e,o){var t,a=b.pseudos[e]||b.setFilters[e.toLowerCase()]||oe.error(\"unsupported pseudo: \"+e);return a[k]?a(o):1<a.length?(t=[e,e,\"\",o],b.setFilters.hasOwnProperty(e.toLowerCase())?se(function(e,t){for(var n,r=a(e,o),i=r.length;i--;)e[n=O(e,r[i])]=!(t[n]=r[i])}):function(e){return a(e,0,t)}):a}},pseudos:{not:se(function(e){var r=[],i=[],s=f(e.replace(B,\"$1\"));return s[k]?se(function(e,t,n,r){for(var i,o=s(e,null,r,[]),a=e.length;a--;)(i=o[a])&&(e[a]=!(t[a]=i))}):function(e,t,n){return r[0]=e,s(r,null,n,i),r[0]=null,!i.pop()}}),has:se(function(t){return function(e){return 0<oe(t,e).length}}),contains:se(function(t){return t=t.replace(Z,ee),function(e){return-1<(e.textContent||e.innerText||o(e)).indexOf(t)}}),lang:se(function(n){return U.test(n||\"\")||oe.error(\"unsupported lang: \"+n),n=n.replace(Z,ee).toLowerCase(),function(e){var t;do{if(t=E?e.lang:e.getAttribute(\"xml:lang\")||e.getAttribute(\"lang\"))return(t=t.toLowerCase())===n||0===t.indexOf(n+\"-\")}while((e=e.parentNode)&&1===e.nodeType);return!1}}),target:function(e){var t=n.location&&n.location.hash;return t&&t.slice(1)===e.id},root:function(e){return e===a},focus:function(e){return e===C.activeElement&&(!C.hasFocus||C.hasFocus())&&!!(e.type||e.href||~e.tabIndex)},enabled:de(!1),disabled:de(!0),checked:function(e){var t=e.nodeName.toLowerCase();return\"input\"===t&&!!e.checked||\"option\"===t&&!!e.selected},selected:function(e){return e.parentNode&&e.parentNode.selectedIndex,!0===e.selected},empty:function(e){for(e=e.firstChild;e;e=e.nextSibling)if(e.nodeType<6)return!1;return!0},parent:function(e){return!b.pseudos.empty(e)},header:function(e){return Y.test(e.nodeName)},input:function(e){return G.test(e.nodeName)},button:function(e){var t=e.nodeName.toLowerCase();return\"input\"===t&&\"button\"===e.type||\"button\"===t},text:function(e){var t;return\"input\"===e.nodeName.toLowerCase()&&\"text\"===e.type&&(null==(t=e.getAttribute(\"type\"))||\"text\"===t.toLowerCase())},first:he(function(){return[0]}),last:he(function(e,t){return[t-1]}),eq:he(function(e,t,n){return[n<0?n+t:n]}),even:he(function(e,t){for(var n=0;n<t;n+=2)e.push(n);return e}),odd:he(function(e,t){for(var n=1;n<t;n+=2)e.push(n);return e}),lt:he(function(e,t,n){for(var r=n<0?n+t:n;0<=--r;)e.push(r);return e}),gt:he(function(e,t,n){for(var r=n<0?n+t:n;++r<t;)e.push(r);return e})}}).pseudos.nth=b.pseudos.eq,{radio:!0,checkbox:!0,file:!0,password:!0,image:!0})b.pseudos[e]=fe(e);for(e in{submit:!0,reset:!0})b.pseudos[e]=pe(e);function ve(){}function ye(e){for(var t=0,n=e.length,r=\"\";t<n;t++)r+=e[t].value;return r}function me(s,e,t){var u=e.dir,l=e.next,c=l||u,f=t&&\"parentNode\"===c,p=r++;return e.first?function(e,t,n){for(;e=e[u];)if(1===e.nodeType||f)return s(e,t,n);return!1}:function(e,t,n){var r,i,o,a=[S,p];if(n){for(;e=e[u];)if((1===e.nodeType||f)&&s(e,t,n))return!0}else for(;e=e[u];)if(1===e.nodeType||f)if(i=(o=e[k]||(e[k]={}))[e.uniqueID]||(o[e.uniqueID]={}),l&&l===e.nodeName.toLowerCase())e=e[u]||e;else{if((r=i[c])&&r[0]===S&&r[1]===p)return a[2]=r[2];if((i[c]=a)[2]=s(e,t,n))return!0}return!1}}function xe(i){return 1<i.length?function(e,t,n){for(var r=i.length;r--;)if(!i[r](e,t,n))return!1;return!0}:i[0]}function be(e,t,n,r,i){for(var o,a=[],s=0,u=e.length,l=null!=t;s<u;s++)(o=e[s])&&(n&&!n(o,r,i)||(a.push(o),l&&t.push(s)));return a}function we(d,h,g,v,y,e){return v&&!v[k]&&(v=we(v)),y&&!y[k]&&(y=we(y,e)),se(function(e,t,n,r){var i,o,a,s=[],u=[],l=t.length,c=e||function(e,t,n){for(var r=0,i=t.length;r<i;r++)oe(e,t[r],n);return n}(h||\"*\",n.nodeType?[n]:n,[]),f=!d||!e&&h?c:be(c,s,d,n,r),p=g?y||(e?d:l||v)?[]:t:f;if(g&&g(f,p,n,r),v)for(i=be(p,u),v(i,[],n,r),o=i.length;o--;)(a=i[o])&&(p[u[o]]=!(f[u[o]]=a));if(e){if(y||d){if(y){for(i=[],o=p.length;o--;)(a=p[o])&&i.push(f[o]=a);y(null,p=[],i,r)}for(o=p.length;o--;)(a=p[o])&&-1<(i=y?O(e,a):s[o])&&(e[i]=!(t[i]=a))}}else p=be(p===t?p.splice(l,p.length):p),y?y(null,t,p,r):L.apply(t,p)})}function Te(e){for(var i,t,n,r=e.length,o=b.relative[e[0].type],a=o||b.relative[\" \"],s=o?1:0,u=me(function(e){return e===i},a,!0),l=me(function(e){return-1<O(i,e)},a,!0),c=[function(e,t,n){var r=!o&&(n||t!==w)||((i=t).nodeType?u(e,t,n):l(e,t,n));return i=null,r}];s<r;s++)if(t=b.relative[e[s].type])c=[me(xe(c),t)];else{if((t=b.filter[e[s].type].apply(null,e[s].matches))[k]){for(n=++s;n<r&&!b.relative[e[n].type];n++);return we(1<s&&xe(c),1<s&&ye(e.slice(0,s-1).concat({value:\" \"===e[s-2].type?\"*\":\"\"})).replace(B,\"$1\"),t,s<n&&Te(e.slice(s,n)),n<r&&Te(e=e.slice(n)),n<r&&ye(e))}c.push(t)}return xe(c)}return ve.prototype=b.filters=b.pseudos,b.setFilters=new ve,h=oe.tokenize=function(e,t){var n,r,i,o,a,s,u,l=x[e+\" \"];if(l)return t?0:l.slice(0);for(a=e,s=[],u=b.preFilter;a;){for(o in n&&!(r=F.exec(a))||(r&&(a=a.slice(r[0].length)||a),s.push(i=[])),n=!1,(r=_.exec(a))&&(n=r.shift(),i.push({value:n,type:r[0].replace(B,\" \")}),a=a.slice(n.length)),b.filter)!(r=V[o].exec(a))||u[o]&&!(r=u[o](r))||(n=r.shift(),i.push({value:n,type:o,matches:r}),a=a.slice(n.length));if(!n)break}return t?a.length:a?oe.error(e):x(e,s).slice(0)},f=oe.compile=function(e,t){var n,v,y,m,x,r,i=[],o=[],a=D[e+\" \"];if(!a){for(t||(t=h(e)),n=t.length;n--;)(a=Te(t[n]))[k]?i.push(a):o.push(a);(a=D(e,(v=o,y=i,m=0<y.length,x=0<v.length,r=function(e,t,n,r,i){var o,a,s,u=0,l=\"0\",c=e&&[],f=[],p=w,d=e||x&&b.find.TAG(\"*\",i),h=S+=null==p?1:Math.random()||.1,g=d.length;for(i&&(w=t===C||t||i);l!==g&&null!=(o=d[l]);l++){if(x&&o){for(a=0,t||o.ownerDocument===C||(T(o),n=!E);s=v[a++];)if(s(o,t||C,n)){r.push(o);break}i&&(S=h)}m&&((o=!s&&o)&&u--,e&&c.push(o))}if(u+=l,m&&l!==u){for(a=0;s=y[a++];)s(c,f,t,n);if(e){if(0<u)for(;l--;)c[l]||f[l]||(f[l]=j.call(r));f=be(f)}L.apply(r,f),i&&!e&&0<f.length&&1<u+y.length&&oe.uniqueSort(r)}return i&&(S=h,w=p),c},m?se(r):r))).selector=e}return a},g=oe.select=function(e,t,n,r){var i,o,a,s,u,l=\"function\"==typeof e&&e,c=!r&&h(e=l.selector||e);if(n=n||[],1===c.length){if(2<(o=c[0]=c[0].slice(0)).length&&\"ID\"===(a=o[0]).type&&9===t.nodeType&&E&&b.relative[o[1].type]){if(!(t=(b.find.ID(a.matches[0].replace(Z,ee),t)||[])[0]))return n;l&&(t=t.parentNode),e=e.slice(o.shift().value.length)}for(i=V.needsContext.test(e)?0:o.length;i--&&(a=o[i],!b.relative[s=a.type]);)if((u=b.find[s])&&(r=u(a.matches[0].replace(Z,ee),K.test(o[0].type)&&ge(t.parentNode)||t))){if(o.splice(i,1),!(e=r.length&&ye(o)))return L.apply(n,r),n;break}}return(l||f(e,c))(r,t,!E,n,!t||K.test(e)&&ge(t.parentNode)||t),n},d.sortStable=k.split(\"\").sort(N).join(\"\")===k,d.detectDuplicates=!!l,T(),d.sortDetached=ue(function(e){return 1&e.compareDocumentPosition(C.createElement(\"fieldset\"))}),ue(function(e){return e.innerHTML=\"<a href='#'></a>\",\"#\"===e.firstChild.getAttribute(\"href\")})||le(\"type|href|height|width\",function(e,t,n){if(!n)return e.getAttribute(t,\"type\"===t.toLowerCase()?1:2)}),d.attributes&&ue(function(e){return e.innerHTML=\"<input/>\",e.firstChild.setAttribute(\"value\",\"\"),\"\"===e.firstChild.getAttribute(\"value\")})||le(\"value\",function(e,t,n){if(!n&&\"input\"===e.nodeName.toLowerCase())return e.defaultValue}),ue(function(e){return null==e.getAttribute(\"disabled\")})||le(P,function(e,t,n){var r;if(!n)return!0===e[t]?t.toLowerCase():(r=e.getAttributeNode(t))&&r.specified?r.value:null}),oe}(C);k.find=d,k.expr=d.selectors,k.expr[\":\"]=k.expr.pseudos,k.uniqueSort=k.unique=d.uniqueSort,k.text=d.getText,k.isXMLDoc=d.isXML,k.contains=d.contains,k.escapeSelector=d.escape;var h=function(e,t,n){for(var r=[],i=void 0!==n;(e=e[t])&&9!==e.nodeType;)if(1===e.nodeType){if(i&&k(e).is(n))break;r.push(e)}return r},T=function(e,t){for(var n=[];e;e=e.nextSibling)1===e.nodeType&&e!==t&&n.push(e);return n},S=k.expr.match.needsContext;function D(e,t){return e.nodeName&&e.nodeName.toLowerCase()===t.toLowerCase()}var N=/^<([a-z][^\\/\\0>:\\x20\\t\\r\\n\\f]*)[\\x20\\t\\r\\n\\f]*\\/?>(?:<\\/\\1>|)$/i;function A(e,n,r){return m(n)?k.grep(e,function(e,t){return!!n.call(e,t,e)!==r}):n.nodeType?k.grep(e,function(e){return e===n!==r}):\"string\"!=typeof n?k.grep(e,function(e){return-1<i.call(n,e)!==r}):k.filter(n,e,r)}k.filter=function(e,t,n){var r=t[0];return n&&(e=\":not(\"+e+\")\"),1===t.length&&1===r.nodeType?k.find.matchesSelector(r,e)?[r]:[]:k.find.matches(e,k.grep(t,function(e){return 1===e.nodeType}))},k.fn.extend({find:function(e){var t,n,r=this.length,i=this;if(\"string\"!=typeof e)return this.pushStack(k(e).filter(function(){for(t=0;t<r;t++)if(k.contains(i[t],this))return!0}));for(n=this.pushStack([]),t=0;t<r;t++)k.find(e,i[t],n);return 1<r?k.uniqueSort(n):n},filter:function(e){return this.pushStack(A(this,e||[],!1))},not:function(e){return this.pushStack(A(this,e||[],!0))},is:function(e){return!!A(this,\"string\"==typeof e&&S.test(e)?k(e):e||[],!1).length}});var j,q=/^(?:\\s*(<[\\w\\W]+>)[^>]*|#([\\w-]+))$/;(k.fn.init=function(e,t,n){var r,i;if(!e)return this;if(n=n||j,\"string\"!=typeof e)return e.nodeType?(this[0]=e,this.length=1,this):m(e)?void 0!==n.ready?n.ready(e):e(k):k.makeArray(e,this);if(!(r=\"<\"===e[0]&&\">\"===e[e.length-1]&&3<=e.length?[null,e,null]:q.exec(e))||!r[1]&&t)return!t||t.jquery?(t||n).find(e):this.constructor(t).find(e);if(r[1]){if(t=t instanceof k?t[0]:t,k.merge(this,k.parseHTML(r[1],t&&t.nodeType?t.ownerDocument||t:E,!0)),N.test(r[1])&&k.isPlainObject(t))for(r in t)m(this[r])?this[r](t[r]):this.attr(r,t[r]);return this}return(i=E.getElementById(r[2]))&&(this[0]=i,this.length=1),this}).prototype=k.fn,j=k(E);var L=/^(?:parents|prev(?:Until|All))/,H={children:!0,contents:!0,next:!0,prev:!0};function O(e,t){for(;(e=e[t])&&1!==e.nodeType;);return e}k.fn.extend({has:function(e){var t=k(e,this),n=t.length;return this.filter(function(){for(var e=0;e<n;e++)if(k.contains(this,t[e]))return!0})},closest:function(e,t){var n,r=0,i=this.length,o=[],a=\"string\"!=typeof e&&k(e);if(!S.test(e))for(;r<i;r++)for(n=this[r];n&&n!==t;n=n.parentNode)if(n.nodeType<11&&(a?-1<a.index(n):1===n.nodeType&&k.find.matchesSelector(n,e))){o.push(n);break}return this.pushStack(1<o.length?k.uniqueSort(o):o)},index:function(e){return e?\"string\"==typeof e?i.call(k(e),this[0]):i.call(this,e.jquery?e[0]:e):this[0]&&this[0].parentNode?this.first().prevAll().length:-1},add:function(e,t){return this.pushStack(k.uniqueSort(k.merge(this.get(),k(e,t))))},addBack:function(e){return this.add(null==e?this.prevObject:this.prevObject.filter(e))}}),k.each({parent:function(e){var t=e.parentNode;return t&&11!==t.nodeType?t:null},parents:function(e){return h(e,\"parentNode\")},parentsUntil:function(e,t,n){return h(e,\"parentNode\",n)},next:function(e){return O(e,\"nextSibling\")},prev:function(e){return O(e,\"previousSibling\")},nextAll:function(e){return h(e,\"nextSibling\")},prevAll:function(e){return h(e,\"previousSibling\")},nextUntil:function(e,t,n){return h(e,\"nextSibling\",n)},prevUntil:function(e,t,n){return h(e,\"previousSibling\",n)},siblings:function(e){return T((e.parentNode||{}).firstChild,e)},children:function(e){return T(e.firstChild)},contents:function(e){return D(e,\"iframe\")?e.contentDocument:(D(e,\"template\")&&(e=e.content||e),k.merge([],e.childNodes))}},function(r,i){k.fn[r]=function(e,t){var n=k.map(this,i,e);return\"Until\"!==r.slice(-5)&&(t=e),t&&\"string\"==typeof t&&(n=k.filter(t,n)),1<this.length&&(H[r]||k.uniqueSort(n),L.test(r)&&n.reverse()),this.pushStack(n)}});var P=/[^\\x20\\t\\r\\n\\f]+/g;function M(e){return e}function R(e){throw e}function I(e,t,n,r){var i;try{e&&m(i=e.promise)?i.call(e).done(t).fail(n):e&&m(i=e.then)?i.call(e,t,n):t.apply(void 0,[e].slice(r))}catch(e){n.apply(void 0,[e])}}k.Callbacks=function(r){var e,n;r=\"string\"==typeof r?(e=r,n={},k.each(e.match(P)||[],function(e,t){n[t]=!0}),n):k.extend({},r);var i,t,o,a,s=[],u=[],l=-1,c=function(){for(a=a||r.once,o=i=!0;u.length;l=-1)for(t=u.shift();++l<s.length;)!1===s[l].apply(t[0],t[1])&&r.stopOnFalse&&(l=s.length,t=!1);r.memory||(t=!1),i=!1,a&&(s=t?[]:\"\")},f={add:function(){return s&&(t&&!i&&(l=s.length-1,u.push(t)),function n(e){k.each(e,function(e,t){m(t)?r.unique&&f.has(t)||s.push(t):t&&t.length&&\"string\"!==w(t)&&n(t)})}(arguments),t&&!i&&c()),this},remove:function(){return k.each(arguments,function(e,t){for(var n;-1<(n=k.inArray(t,s,n));)s.splice(n,1),n<=l&&l--}),this},has:function(e){return e?-1<k.inArray(e,s):0<s.length},empty:function(){return s&&(s=[]),this},disable:function(){return a=u=[],s=t=\"\",this},disabled:function(){return!s},lock:function(){return a=u=[],t||i||(s=t=\"\"),this},locked:function(){return!!a},fireWith:function(e,t){return a||(t=[e,(t=t||[]).slice?t.slice():t],u.push(t),i||c()),this},fire:function(){return f.fireWith(this,arguments),this},fired:function(){return!!o}};return f},k.extend({Deferred:function(e){var o=[[\"notify\",\"progress\",k.Callbacks(\"memory\"),k.Callbacks(\"memory\"),2],[\"resolve\",\"done\",k.Callbacks(\"once memory\"),k.Callbacks(\"once memory\"),0,\"resolved\"],[\"reject\",\"fail\",k.Callbacks(\"once memory\"),k.Callbacks(\"once memory\"),1,\"rejected\"]],i=\"pending\",a={state:function(){return i},always:function(){return s.done(arguments).fail(arguments),this},catch:function(e){return a.then(null,e)},pipe:function(){var i=arguments;return k.Deferred(function(r){k.each(o,function(e,t){var n=m(i[t[4]])&&i[t[4]];s[t[1]](function(){var e=n&&n.apply(this,arguments);e&&m(e.promise)?e.promise().progress(r.notify).done(r.resolve).fail(r.reject):r[t[0]+\"With\"](this,n?[e]:arguments)})}),i=null}).promise()},then:function(t,n,r){var u=0;function l(i,o,a,s){return function(){var n=this,r=arguments,e=function(){var e,t;if(!(i<u)){if((e=a.apply(n,r))===o.promise())throw new TypeError(\"Thenable self-resolution\");t=e&&(\"object\"==typeof e||\"function\"==typeof e)&&e.then,m(t)?s?t.call(e,l(u,o,M,s),l(u,o,R,s)):(u++,t.call(e,l(u,o,M,s),l(u,o,R,s),l(u,o,M,o.notifyWith))):(a!==M&&(n=void 0,r=[e]),(s||o.resolveWith)(n,r))}},t=s?e:function(){try{e()}catch(e){k.Deferred.exceptionHook&&k.Deferred.exceptionHook(e,t.stackTrace),u<=i+1&&(a!==R&&(n=void 0,r=[e]),o.rejectWith(n,r))}};i?t():(k.Deferred.getStackHook&&(t.stackTrace=k.Deferred.getStackHook()),C.setTimeout(t))}}return k.Deferred(function(e){o[0][3].add(l(0,e,m(r)?r:M,e.notifyWith)),o[1][3].add(l(0,e,m(t)?t:M)),o[2][3].add(l(0,e,m(n)?n:R))}).promise()},promise:function(e){return null!=e?k.extend(e,a):a}},s={};return k.each(o,function(e,t){var n=t[2],r=t[5];a[t[1]]=n.add,r&&n.add(function(){i=r},o[3-e][2].disable,o[3-e][3].disable,o[0][2].lock,o[0][3].lock),n.add(t[3].fire),s[t[0]]=function(){return s[t[0]+\"With\"](this===s?void 0:this,arguments),this},s[t[0]+\"With\"]=n.fireWith}),a.promise(s),e&&e.call(s,s),s},when:function(e){var n=arguments.length,t=n,r=Array(t),i=s.call(arguments),o=k.Deferred(),a=function(t){return function(e){r[t]=this,i[t]=1<arguments.length?s.call(arguments):e,--n||o.resolveWith(r,i)}};if(n<=1&&(I(e,o.done(a(t)).resolve,o.reject,!n),\"pending\"===o.state()||m(i[t]&&i[t].then)))return o.then();for(;t--;)I(i[t],a(t),o.reject);return o.promise()}});var W=/^(Eval|Internal|Range|Reference|Syntax|Type|URI)Error$/;k.Deferred.exceptionHook=function(e,t){C.console&&C.console.warn&&e&&W.test(e.name)&&C.console.warn(\"jQuery.Deferred exception: \"+e.message,e.stack,t)},k.readyException=function(e){C.setTimeout(function(){throw e})};var $=k.Deferred();function B(){E.removeEventListener(\"DOMContentLoaded\",B),C.removeEventListener(\"load\",B),k.ready()}k.fn.ready=function(e){return $.then(e).catch(function(e){k.readyException(e)}),this},k.extend({isReady:!1,readyWait:1,ready:function(e){(!0===e?--k.readyWait:k.isReady)||((k.isReady=!0)!==e&&0<--k.readyWait||$.resolveWith(E,[k]))}}),k.ready.then=$.then,\"complete\"===E.readyState||\"loading\"!==E.readyState&&!E.documentElement.doScroll?C.setTimeout(k.ready):(E.addEventListener(\"DOMContentLoaded\",B),C.addEventListener(\"load\",B));var F=function(e,t,n,r,i,o,a){var s=0,u=e.length,l=null==n;if(\"object\"===w(n))for(s in i=!0,n)F(e,t,s,n[s],!0,o,a);else if(void 0!==r&&(i=!0,m(r)||(a=!0),l&&(t=a?(t.call(e,r),null):(l=t,function(e,t,n){return l.call(k(e),n)})),t))for(;s<u;s++)t(e[s],n,a?r:r.call(e[s],s,t(e[s],n)));return i?e:l?t.call(e):u?t(e[0],n):o},_=/^-ms-/,z=/-([a-z])/g;function X(e,t){return t.toUpperCase()}function U(e){return e.replace(_,\"ms-\").replace(z,X)}var V=function(e){return 1===e.nodeType||9===e.nodeType||!+e.nodeType};function G(){this.expando=k.expando+G.uid++}G.uid=1,G.prototype={cache:function(e){var t=e[this.expando];return t||(t={},V(e)&&(e.nodeType?e[this.expando]=t:Object.defineProperty(e,this.expando,{value:t,configurable:!0}))),t},set:function(e,t,n){var r,i=this.cache(e);if(\"string\"==typeof t)i[U(t)]=n;else for(r in t)i[U(r)]=t[r];return i},get:function(e,t){return void 0===t?this.cache(e):e[this.expando]&&e[this.expando][U(t)]},access:function(e,t,n){return void 0===t||t&&\"string\"==typeof t&&void 0===n?this.get(e,t):(this.set(e,t,n),void 0!==n?n:t)},remove:function(e,t){var n,r=e[this.expando];if(void 0!==r){if(void 0!==t){n=(t=Array.isArray(t)?t.map(U):(t=U(t))in r?[t]:t.match(P)||[]).length;for(;n--;)delete r[t[n]]}(void 0===t||k.isEmptyObject(r))&&(e.nodeType?e[this.expando]=void 0:delete e[this.expando])}},hasData:function(e){var t=e[this.expando];return void 0!==t&&!k.isEmptyObject(t)}};var Y=new G,Q=new G,J=/^(?:\\{[\\w\\W]*\\}|\\[[\\w\\W]*\\])$/,K=/[A-Z]/g;function Z(e,t,n){var r,i;if(void 0===n&&1===e.nodeType)if(r=\"data-\"+t.replace(K,\"-$&\").toLowerCase(),\"string\"==typeof(n=e.getAttribute(r))){try{n=\"true\"===(i=n)||\"false\"!==i&&(\"null\"===i?null:i===+i+\"\"?+i:J.test(i)?JSON.parse(i):i)}catch(e){}Q.set(e,t,n)}else n=void 0;return n}k.extend({hasData:function(e){return Q.hasData(e)||Y.hasData(e)},data:function(e,t,n){return Q.access(e,t,n)},removeData:function(e,t){Q.remove(e,t)},_data:function(e,t,n){return Y.access(e,t,n)},_removeData:function(e,t){Y.remove(e,t)}}),k.fn.extend({data:function(n,e){var t,r,i,o=this[0],a=o&&o.attributes;if(void 0!==n)return\"object\"==typeof n?this.each(function(){Q.set(this,n)}):F(this,function(e){var t;if(o&&void 0===e){if(void 0!==(t=Q.get(o,n)))return t;if(void 0!==(t=Z(o,n)))return t}else this.each(function(){Q.set(this,n,e)})},null,e,1<arguments.length,null,!0);if(this.length&&(i=Q.get(o),1===o.nodeType&&!Y.get(o,\"hasDataAttrs\"))){for(t=a.length;t--;)a[t]&&0===(r=a[t].name).indexOf(\"data-\")&&(r=U(r.slice(5)),Z(o,r,i[r]));Y.set(o,\"hasDataAttrs\",!0)}return i},removeData:function(e){return this.each(function(){Q.remove(this,e)})}}),k.extend({queue:function(e,t,n){var r;if(e)return t=(t||\"fx\")+\"queue\",r=Y.get(e,t),n&&(!r||Array.isArray(n)?r=Y.access(e,t,k.makeArray(n)):r.push(n)),r||[]},dequeue:function(e,t){t=t||\"fx\";var n=k.queue(e,t),r=n.length,i=n.shift(),o=k._queueHooks(e,t);\"inprogress\"===i&&(i=n.shift(),r--),i&&(\"fx\"===t&&n.unshift(\"inprogress\"),delete o.stop,i.call(e,function(){k.dequeue(e,t)},o)),!r&&o&&o.empty.fire()},_queueHooks:function(e,t){var n=t+\"queueHooks\";return Y.get(e,n)||Y.access(e,n,{empty:k.Callbacks(\"once memory\").add(function(){Y.remove(e,[t+\"queue\",n])})})}}),k.fn.extend({queue:function(t,n){var e=2;return\"string\"!=typeof t&&(n=t,t=\"fx\",e--),arguments.length<e?k.queue(this[0],t):void 0===n?this:this.each(function(){var e=k.queue(this,t,n);k._queueHooks(this,t),\"fx\"===t&&\"inprogress\"!==e[0]&&k.dequeue(this,t)})},dequeue:function(e){return this.each(function(){k.dequeue(this,e)})},clearQueue:function(e){return this.queue(e||\"fx\",[])},promise:function(e,t){var n,r=1,i=k.Deferred(),o=this,a=this.length,s=function(){--r||i.resolveWith(o,[o])};for(\"string\"!=typeof e&&(t=e,e=void 0),e=e||\"fx\";a--;)(n=Y.get(o[a],e+\"queueHooks\"))&&n.empty&&(r++,n.empty.add(s));return s(),i.promise(t)}});var ee=/[+-]?(?:\\d*\\.|)\\d+(?:[eE][+-]?\\d+|)/.source,te=new RegExp(\"^(?:([+-])=|)(\"+ee+\")([a-z%]*)$\",\"i\"),ne=[\"Top\",\"Right\",\"Bottom\",\"Left\"],re=function(e,t){return\"none\"===(e=t||e).style.display||\"\"===e.style.display&&k.contains(e.ownerDocument,e)&&\"none\"===k.css(e,\"display\")},ie=function(e,t,n,r){var i,o,a={};for(o in t)a[o]=e.style[o],e.style[o]=t[o];for(o in i=n.apply(e,r||[]),t)e.style[o]=a[o];return i};function oe(e,t,n,r){var i,o,a=20,s=r?function(){return r.cur()}:function(){return k.css(e,t,\"\")},u=s(),l=n&&n[3]||(k.cssNumber[t]?\"\":\"px\"),c=(k.cssNumber[t]||\"px\"!==l&&+u)&&te.exec(k.css(e,t));if(c&&c[3]!==l){for(u/=2,l=l||c[3],c=+u||1;a--;)k.style(e,t,c+l),(1-o)*(1-(o=s()/u||.5))<=0&&(a=0),c/=o;c*=2,k.style(e,t,c+l),n=n||[]}return n&&(c=+c||+u||0,i=n[1]?c+(n[1]+1)*n[2]:+n[2],r&&(r.unit=l,r.start=c,r.end=i)),i}var ae={};function se(e,t){for(var n,r,i=[],o=0,a=e.length;o<a;o++)(r=e[o]).style&&(n=r.style.display,t?(\"none\"===n&&(i[o]=Y.get(r,\"display\")||null,i[o]||(r.style.display=\"\")),\"\"===r.style.display&&re(r)&&(i[o]=(f=l=u=void 0,l=(s=r).ownerDocument,c=s.nodeName,(f=ae[c])||(u=l.body.appendChild(l.createElement(c)),f=k.css(u,\"display\"),u.parentNode.removeChild(u),\"none\"===f&&(f=\"block\"),ae[c]=f)))):\"none\"!==n&&(i[o]=\"none\",Y.set(r,\"display\",n)));var s,u,l,c,f;for(o=0;o<a;o++)null!=i[o]&&(e[o].style.display=i[o]);return e}k.fn.extend({show:function(){return se(this,!0)},hide:function(){return se(this)},toggle:function(e){return\"boolean\"==typeof e?e?this.show():this.hide():this.each(function(){re(this)?k(this).show():k(this).hide()})}});var ue=/^(?:checkbox|radio)$/i,le=/<([a-z][^\\/\\0>\\x20\\t\\r\\n\\f]+)/i,ce=/^$|^module$|\\/(?:java|ecma)script/i,fe={option:[1,\"<select multiple='multiple'>\",\"</select>\"],thead:[1,\"<table>\",\"</table>\"],col:[2,\"<table><colgroup>\",\"</colgroup></table>\"],tr:[2,\"<table><tbody>\",\"</tbody></table>\"],td:[3,\"<table><tbody><tr>\",\"</tr></tbody></table>\"],_default:[0,\"\",\"\"]};function pe(e,t){var n;return n=void 0!==e.getElementsByTagName?e.getElementsByTagName(t||\"*\"):void 0!==e.querySelectorAll?e.querySelectorAll(t||\"*\"):[],void 0===t||t&&D(e,t)?k.merge([e],n):n}function de(e,t){for(var n=0,r=e.length;n<r;n++)Y.set(e[n],\"globalEval\",!t||Y.get(t[n],\"globalEval\"))}fe.optgroup=fe.option,fe.tbody=fe.tfoot=fe.colgroup=fe.caption=fe.thead,fe.th=fe.td;var he,ge,ve=/<|&#?\\w+;/;function ye(e,t,n,r,i){for(var o,a,s,u,l,c,f=t.createDocumentFragment(),p=[],d=0,h=e.length;d<h;d++)if((o=e[d])||0===o)if(\"object\"===w(o))k.merge(p,o.nodeType?[o]:o);else if(ve.test(o)){for(a=a||f.appendChild(t.createElement(\"div\")),s=(le.exec(o)||[\"\",\"\"])[1].toLowerCase(),u=fe[s]||fe._default,a.innerHTML=u[1]+k.htmlPrefilter(o)+u[2],c=u[0];c--;)a=a.lastChild;k.merge(p,a.childNodes),(a=f.firstChild).textContent=\"\"}else p.push(t.createTextNode(o));for(f.textContent=\"\",d=0;o=p[d++];)if(r&&-1<k.inArray(o,r))i&&i.push(o);else if(l=k.contains(o.ownerDocument,o),a=pe(f.appendChild(o),\"script\"),l&&de(a),n)for(c=0;o=a[c++];)ce.test(o.type||\"\")&&n.push(o);return f}he=E.createDocumentFragment().appendChild(E.createElement(\"div\")),(ge=E.createElement(\"input\")).setAttribute(\"type\",\"radio\"),ge.setAttribute(\"checked\",\"checked\"),ge.setAttribute(\"name\",\"t\"),he.appendChild(ge),y.checkClone=he.cloneNode(!0).cloneNode(!0).lastChild.checked,he.innerHTML=\"<textarea>x</textarea>\",y.noCloneChecked=!!he.cloneNode(!0).lastChild.defaultValue;var me=E.documentElement,xe=/^key/,be=/^(?:mouse|pointer|contextmenu|drag|drop)|click/,we=/^([^.]*)(?:\\.(.+)|)/;function Te(){return!0}function Ce(){return!1}function Ee(){try{return E.activeElement}catch(e){}}function ke(e,t,n,r,i,o){var a,s;if(\"object\"==typeof t){for(s in\"string\"!=typeof n&&(r=r||n,n=void 0),t)ke(e,s,n,r,t[s],o);return e}if(null==r&&null==i?(i=n,r=n=void 0):null==i&&(\"string\"==typeof n?(i=r,r=void 0):(i=r,r=n,n=void 0)),!1===i)i=Ce;else if(!i)return e;return 1===o&&(a=i,(i=function(e){return k().off(e),a.apply(this,arguments)}).guid=a.guid||(a.guid=k.guid++)),e.each(function(){k.event.add(this,t,i,r,n)})}k.event={global:{},add:function(t,e,n,r,i){var o,a,s,u,l,c,f,p,d,h,g,v=Y.get(t);if(v)for(n.handler&&(n=(o=n).handler,i=o.selector),i&&k.find.matchesSelector(me,i),n.guid||(n.guid=k.guid++),(u=v.events)||(u=v.events={}),(a=v.handle)||(a=v.handle=function(e){return void 0!==k&&k.event.triggered!==e.type?k.event.dispatch.apply(t,arguments):void 0}),l=(e=(e||\"\").match(P)||[\"\"]).length;l--;)d=g=(s=we.exec(e[l])||[])[1],h=(s[2]||\"\").split(\".\").sort(),d&&(f=k.event.special[d]||{},d=(i?f.delegateType:f.bindType)||d,f=k.event.special[d]||{},c=k.extend({type:d,origType:g,data:r,handler:n,guid:n.guid,selector:i,needsContext:i&&k.expr.match.needsContext.test(i),namespace:h.join(\".\")},o),(p=u[d])||((p=u[d]=[]).delegateCount=0,f.setup&&!1!==f.setup.call(t,r,h,a)||t.addEventListener&&t.addEventListener(d,a)),f.add&&(f.add.call(t,c),c.handler.guid||(c.handler.guid=n.guid)),i?p.splice(p.delegateCount++,0,c):p.push(c),k.event.global[d]=!0)},remove:function(e,t,n,r,i){var o,a,s,u,l,c,f,p,d,h,g,v=Y.hasData(e)&&Y.get(e);if(v&&(u=v.events)){for(l=(t=(t||\"\").match(P)||[\"\"]).length;l--;)if(d=g=(s=we.exec(t[l])||[])[1],h=(s[2]||\"\").split(\".\").sort(),d){for(f=k.event.special[d]||{},p=u[d=(r?f.delegateType:f.bindType)||d]||[],s=s[2]&&new RegExp(\"(^|\\\\.)\"+h.join(\"\\\\.(?:.*\\\\.|)\")+\"(\\\\.|$)\"),a=o=p.length;o--;)c=p[o],!i&&g!==c.origType||n&&n.guid!==c.guid||s&&!s.test(c.namespace)||r&&r!==c.selector&&(\"**\"!==r||!c.selector)||(p.splice(o,1),c.selector&&p.delegateCount--,f.remove&&f.remove.call(e,c));a&&!p.length&&(f.teardown&&!1!==f.teardown.call(e,h,v.handle)||k.removeEvent(e,d,v.handle),delete u[d])}else for(d in u)k.event.remove(e,d+t[l],n,r,!0);k.isEmptyObject(u)&&Y.remove(e,\"handle events\")}},dispatch:function(e){var t,n,r,i,o,a,s=k.event.fix(e),u=new Array(arguments.length),l=(Y.get(this,\"events\")||{})[s.type]||[],c=k.event.special[s.type]||{};for(u[0]=s,t=1;t<arguments.length;t++)u[t]=arguments[t];if(s.delegateTarget=this,!c.preDispatch||!1!==c.preDispatch.call(this,s)){for(a=k.event.handlers.call(this,s,l),t=0;(i=a[t++])&&!s.isPropagationStopped();)for(s.currentTarget=i.elem,n=0;(o=i.handlers[n++])&&!s.isImmediatePropagationStopped();)s.rnamespace&&!s.rnamespace.test(o.namespace)||(s.handleObj=o,s.data=o.data,void 0!==(r=((k.event.special[o.origType]||{}).handle||o.handler).apply(i.elem,u))&&!1===(s.result=r)&&(s.preventDefault(),s.stopPropagation()));return c.postDispatch&&c.postDispatch.call(this,s),s.result}},handlers:function(e,t){var n,r,i,o,a,s=[],u=t.delegateCount,l=e.target;if(u&&l.nodeType&&!(\"click\"===e.type&&1<=e.button))for(;l!==this;l=l.parentNode||this)if(1===l.nodeType&&(\"click\"!==e.type||!0!==l.disabled)){for(o=[],a={},n=0;n<u;n++)void 0===a[i=(r=t[n]).selector+\" \"]&&(a[i]=r.needsContext?-1<k(i,this).index(l):k.find(i,this,null,[l]).length),a[i]&&o.push(r);o.length&&s.push({elem:l,handlers:o})}return l=this,u<t.length&&s.push({elem:l,handlers:t.slice(u)}),s},addProp:function(t,e){Object.defineProperty(k.Event.prototype,t,{enumerable:!0,configurable:!0,get:m(e)?function(){if(this.originalEvent)return e(this.originalEvent)}:function(){if(this.originalEvent)return this.originalEvent[t]},set:function(e){Object.defineProperty(this,t,{enumerable:!0,configurable:!0,writable:!0,value:e})}})},fix:function(e){return e[k.expando]?e:new k.Event(e)},special:{load:{noBubble:!0},focus:{trigger:function(){if(this!==Ee()&&this.focus)return this.focus(),!1},delegateType:\"focusin\"},blur:{trigger:function(){if(this===Ee()&&this.blur)return this.blur(),!1},delegateType:\"focusout\"},click:{trigger:function(){if(\"checkbox\"===this.type&&this.click&&D(this,\"input\"))return this.click(),!1},_default:function(e){return D(e.target,\"a\")}},beforeunload:{postDispatch:function(e){void 0!==e.result&&e.originalEvent&&(e.originalEvent.returnValue=e.result)}}}},k.removeEvent=function(e,t,n){e.removeEventListener&&e.removeEventListener(t,n)},k.Event=function(e,t){if(!(this instanceof k.Event))return new k.Event(e,t);e&&e.type?(this.originalEvent=e,this.type=e.type,this.isDefaultPrevented=e.defaultPrevented||void 0===e.defaultPrevented&&!1===e.returnValue?Te:Ce,this.target=e.target&&3===e.target.nodeType?e.target.parentNode:e.target,this.currentTarget=e.currentTarget,this.relatedTarget=e.relatedTarget):this.type=e,t&&k.extend(this,t),this.timeStamp=e&&e.timeStamp||Date.now(),this[k.expando]=!0},k.Event.prototype={constructor:k.Event,isDefaultPrevented:Ce,isPropagationStopped:Ce,isImmediatePropagationStopped:Ce,isSimulated:!1,preventDefault:function(){var e=this.originalEvent;this.isDefaultPrevented=Te,e&&!this.isSimulated&&e.preventDefault()},stopPropagation:function(){var e=this.originalEvent;this.isPropagationStopped=Te,e&&!this.isSimulated&&e.stopPropagation()},stopImmediatePropagation:function(){var e=this.originalEvent;this.isImmediatePropagationStopped=Te,e&&!this.isSimulated&&e.stopImmediatePropagation(),this.stopPropagation()}},k.each({altKey:!0,bubbles:!0,cancelable:!0,changedTouches:!0,ctrlKey:!0,detail:!0,eventPhase:!0,metaKey:!0,pageX:!0,pageY:!0,shiftKey:!0,view:!0,char:!0,charCode:!0,key:!0,keyCode:!0,button:!0,buttons:!0,clientX:!0,clientY:!0,offsetX:!0,offsetY:!0,pointerId:!0,pointerType:!0,screenX:!0,screenY:!0,targetTouches:!0,toElement:!0,touches:!0,which:function(e){var t=e.button;return null==e.which&&xe.test(e.type)?null!=e.charCode?e.charCode:e.keyCode:!e.which&&void 0!==t&&be.test(e.type)?1&t?1:2&t?3:4&t?2:0:e.which}},k.event.addProp),k.each({mouseenter:\"mouseover\",mouseleave:\"mouseout\",pointerenter:\"pointerover\",pointerleave:\"pointerout\"},function(e,i){k.event.special[e]={delegateType:i,bindType:i,handle:function(e){var t,n=e.relatedTarget,r=e.handleObj;return n&&(n===this||k.contains(this,n))||(e.type=r.origType,t=r.handler.apply(this,arguments),e.type=i),t}}}),k.fn.extend({on:function(e,t,n,r){return ke(this,e,t,n,r)},one:function(e,t,n,r){return ke(this,e,t,n,r,1)},off:function(e,t,n){var r,i;if(e&&e.preventDefault&&e.handleObj)return r=e.handleObj,k(e.delegateTarget).off(r.namespace?r.origType+\".\"+r.namespace:r.origType,r.selector,r.handler),this;if(\"object\"!=typeof e)return!1!==t&&\"function\"!=typeof t||(n=t,t=void 0),!1===n&&(n=Ce),this.each(function(){k.event.remove(this,e,n,t)});for(i in e)this.off(i,t,e[i]);return this}});var Se=/<(?!area|br|col|embed|hr|img|input|link|meta|param)(([a-z][^\\/\\0>\\x20\\t\\r\\n\\f]*)[^>]*)\\/>/gi,De=/<script|<style|<link/i,Ne=/checked\\s*(?:[^=]|=\\s*.checked.)/i,Ae=/^\\s*<!(?:\\[CDATA\\[|--)|(?:\\]\\]|--)>\\s*$/g;function je(e,t){return D(e,\"table\")&&D(11!==t.nodeType?t:t.firstChild,\"tr\")&&k(e).children(\"tbody\")[0]||e}function qe(e){return e.type=(null!==e.getAttribute(\"type\"))+\"/\"+e.type,e}function Le(e){return\"true/\"===(e.type||\"\").slice(0,5)?e.type=e.type.slice(5):e.removeAttribute(\"type\"),e}function He(e,t){var n,r,i,o,a,s,u,l;if(1===t.nodeType){if(Y.hasData(e)&&(o=Y.access(e),a=Y.set(t,o),l=o.events))for(i in delete a.handle,a.events={},l)for(n=0,r=l[i].length;n<r;n++)k.event.add(t,i,l[i][n]);Q.hasData(e)&&(s=Q.access(e),u=k.extend({},s),Q.set(t,u))}}function Oe(n,r,i,o){r=g.apply([],r);var e,t,a,s,u,l,c=0,f=n.length,p=f-1,d=r[0],h=m(d);if(h||1<f&&\"string\"==typeof d&&!y.checkClone&&Ne.test(d))return n.each(function(e){var t=n.eq(e);h&&(r[0]=d.call(this,e,t.html())),Oe(t,r,i,o)});if(f&&(t=(e=ye(r,n[0].ownerDocument,!1,n,o)).firstChild,1===e.childNodes.length&&(e=t),t||o)){for(s=(a=k.map(pe(e,\"script\"),qe)).length;c<f;c++)u=e,c!==p&&(u=k.clone(u,!0,!0),s&&k.merge(a,pe(u,\"script\"))),i.call(n[c],u,c);if(s)for(l=a[a.length-1].ownerDocument,k.map(a,Le),c=0;c<s;c++)u=a[c],ce.test(u.type||\"\")&&!Y.access(u,\"globalEval\")&&k.contains(l,u)&&(u.src&&\"module\"!==(u.type||\"\").toLowerCase()?k._evalUrl&&k._evalUrl(u.src):b(u.textContent.replace(Ae,\"\"),l,u))}return n}function Pe(e,t,n){for(var r,i=t?k.filter(t,e):e,o=0;null!=(r=i[o]);o++)n||1!==r.nodeType||k.cleanData(pe(r)),r.parentNode&&(n&&k.contains(r.ownerDocument,r)&&de(pe(r,\"script\")),r.parentNode.removeChild(r));return e}k.extend({htmlPrefilter:function(e){return e.replace(Se,\"<$1></$2>\")},clone:function(e,t,n){var r,i,o,a,s,u,l,c=e.cloneNode(!0),f=k.contains(e.ownerDocument,e);if(!(y.noCloneChecked||1!==e.nodeType&&11!==e.nodeType||k.isXMLDoc(e)))for(a=pe(c),r=0,i=(o=pe(e)).length;r<i;r++)s=o[r],u=a[r],void 0,\"input\"===(l=u.nodeName.toLowerCase())&&ue.test(s.type)?u.checked=s.checked:\"input\"!==l&&\"textarea\"!==l||(u.defaultValue=s.defaultValue);if(t)if(n)for(o=o||pe(e),a=a||pe(c),r=0,i=o.length;r<i;r++)He(o[r],a[r]);else He(e,c);return 0<(a=pe(c,\"script\")).length&&de(a,!f&&pe(e,\"script\")),c},cleanData:function(e){for(var t,n,r,i=k.event.special,o=0;void 0!==(n=e[o]);o++)if(V(n)){if(t=n[Y.expando]){if(t.events)for(r in t.events)i[r]?k.event.remove(n,r):k.removeEvent(n,r,t.handle);n[Y.expando]=void 0}n[Q.expando]&&(n[Q.expando]=void 0)}}}),k.fn.extend({detach:function(e){return Pe(this,e,!0)},remove:function(e){return Pe(this,e)},text:function(e){return F(this,function(e){return void 0===e?k.text(this):this.empty().each(function(){1!==this.nodeType&&11!==this.nodeType&&9!==this.nodeType||(this.textContent=e)})},null,e,arguments.length)},append:function(){return Oe(this,arguments,function(e){1!==this.nodeType&&11!==this.nodeType&&9!==this.nodeType||je(this,e).appendChild(e)})},prepend:function(){return Oe(this,arguments,function(e){if(1===this.nodeType||11===this.nodeType||9===this.nodeType){var t=je(this,e);t.insertBefore(e,t.firstChild)}})},before:function(){return Oe(this,arguments,function(e){this.parentNode&&this.parentNode.insertBefore(e,this)})},after:function(){return Oe(this,arguments,function(e){this.parentNode&&this.parentNode.insertBefore(e,this.nextSibling)})},empty:function(){for(var e,t=0;null!=(e=this[t]);t++)1===e.nodeType&&(k.cleanData(pe(e,!1)),e.textContent=\"\");return this},clone:function(e,t){return e=null!=e&&e,t=null==t?e:t,this.map(function(){return k.clone(this,e,t)})},html:function(e){return F(this,function(e){var t=this[0]||{},n=0,r=this.length;if(void 0===e&&1===t.nodeType)return t.innerHTML;if(\"string\"==typeof e&&!De.test(e)&&!fe[(le.exec(e)||[\"\",\"\"])[1].toLowerCase()]){e=k.htmlPrefilter(e);try{for(;n<r;n++)1===(t=this[n]||{}).nodeType&&(k.cleanData(pe(t,!1)),t.innerHTML=e);t=0}catch(e){}}t&&this.empty().append(e)},null,e,arguments.length)},replaceWith:function(){var n=[];return Oe(this,arguments,function(e){var t=this.parentNode;k.inArray(this,n)<0&&(k.cleanData(pe(this)),t&&t.replaceChild(e,this))},n)}}),k.each({appendTo:\"append\",prependTo:\"prepend\",insertBefore:\"before\",insertAfter:\"after\",replaceAll:\"replaceWith\"},function(e,a){k.fn[e]=function(e){for(var t,n=[],r=k(e),i=r.length-1,o=0;o<=i;o++)t=o===i?this:this.clone(!0),k(r[o])[a](t),u.apply(n,t.get());return this.pushStack(n)}});var Me=new RegExp(\"^(\"+ee+\")(?!px)[a-z%]+$\",\"i\"),Re=function(e){var t=e.ownerDocument.defaultView;return t&&t.opener||(t=C),t.getComputedStyle(e)},Ie=new RegExp(ne.join(\"|\"),\"i\");function We(e,t,n){var r,i,o,a,s=e.style;return(n=n||Re(e))&&(\"\"!==(a=n.getPropertyValue(t)||n[t])||k.contains(e.ownerDocument,e)||(a=k.style(e,t)),!y.pixelBoxStyles()&&Me.test(a)&&Ie.test(t)&&(r=s.width,i=s.minWidth,o=s.maxWidth,s.minWidth=s.maxWidth=s.width=a,a=n.width,s.width=r,s.minWidth=i,s.maxWidth=o)),void 0!==a?a+\"\":a}function $e(e,t){return{get:function(){if(!e())return(this.get=t).apply(this,arguments);delete this.get}}}!function(){function e(){if(u){s.style.cssText=\"position:absolute;left:-11111px;width:60px;margin-top:1px;padding:0;border:0\",u.style.cssText=\"position:relative;display:block;box-sizing:border-box;overflow:scroll;margin:auto;border:1px;padding:1px;width:60%;top:1%\",me.appendChild(s).appendChild(u);var e=C.getComputedStyle(u);n=\"1%\"!==e.top,a=12===t(e.marginLeft),u.style.right=\"60%\",o=36===t(e.right),r=36===t(e.width),u.style.position=\"absolute\",i=36===u.offsetWidth||\"absolute\",me.removeChild(s),u=null}}function t(e){return Math.round(parseFloat(e))}var n,r,i,o,a,s=E.createElement(\"div\"),u=E.createElement(\"div\");u.style&&(u.style.backgroundClip=\"content-box\",u.cloneNode(!0).style.backgroundClip=\"\",y.clearCloneStyle=\"content-box\"===u.style.backgroundClip,k.extend(y,{boxSizingReliable:function(){return e(),r},pixelBoxStyles:function(){return e(),o},pixelPosition:function(){return e(),n},reliableMarginLeft:function(){return e(),a},scrollboxSize:function(){return e(),i}}))}();var Be=/^(none|table(?!-c[ea]).+)/,Fe=/^--/,_e={position:\"absolute\",visibility:\"hidden\",display:\"block\"},ze={letterSpacing:\"0\",fontWeight:\"400\"},Xe=[\"Webkit\",\"Moz\",\"ms\"],Ue=E.createElement(\"div\").style;function Ve(e){var t=k.cssProps[e];return t||(t=k.cssProps[e]=function(e){if(e in Ue)return e;for(var t=e[0].toUpperCase()+e.slice(1),n=Xe.length;n--;)if((e=Xe[n]+t)in Ue)return e}(e)||e),t}function Ge(e,t,n){var r=te.exec(t);return r?Math.max(0,r[2]-(n||0))+(r[3]||\"px\"):t}function Ye(e,t,n,r,i,o){var a=\"width\"===t?1:0,s=0,u=0;if(n===(r?\"border\":\"content\"))return 0;for(;a<4;a+=2)\"margin\"===n&&(u+=k.css(e,n+ne[a],!0,i)),r?(\"content\"===n&&(u-=k.css(e,\"padding\"+ne[a],!0,i)),\"margin\"!==n&&(u-=k.css(e,\"border\"+ne[a]+\"Width\",!0,i))):(u+=k.css(e,\"padding\"+ne[a],!0,i),\"padding\"!==n?u+=k.css(e,\"border\"+ne[a]+\"Width\",!0,i):s+=k.css(e,\"border\"+ne[a]+\"Width\",!0,i));return!r&&0<=o&&(u+=Math.max(0,Math.ceil(e[\"offset\"+t[0].toUpperCase()+t.slice(1)]-o-u-s-.5))),u}function Qe(e,t,n){var r=Re(e),i=We(e,t,r),o=\"border-box\"===k.css(e,\"boxSizing\",!1,r),a=o;if(Me.test(i)){if(!n)return i;i=\"auto\"}return a=a&&(y.boxSizingReliable()||i===e.style[t]),(\"auto\"===i||!parseFloat(i)&&\"inline\"===k.css(e,\"display\",!1,r))&&(i=e[\"offset\"+t[0].toUpperCase()+t.slice(1)],a=!0),(i=parseFloat(i)||0)+Ye(e,t,n||(o?\"border\":\"content\"),a,r,i)+\"px\"}function Je(e,t,n,r,i){return new Je.prototype.init(e,t,n,r,i)}k.extend({cssHooks:{opacity:{get:function(e,t){if(t){var n=We(e,\"opacity\");return\"\"===n?\"1\":n}}}},cssNumber:{animationIterationCount:!0,columnCount:!0,fillOpacity:!0,flexGrow:!0,flexShrink:!0,fontWeight:!0,lineHeight:!0,opacity:!0,order:!0,orphans:!0,widows:!0,zIndex:!0,zoom:!0},cssProps:{},style:function(e,t,n,r){if(e&&3!==e.nodeType&&8!==e.nodeType&&e.style){var i,o,a,s=U(t),u=Fe.test(t),l=e.style;if(u||(t=Ve(s)),a=k.cssHooks[t]||k.cssHooks[s],void 0===n)return a&&\"get\"in a&&void 0!==(i=a.get(e,!1,r))?i:l[t];\"string\"==(o=typeof n)&&(i=te.exec(n))&&i[1]&&(n=oe(e,t,i),o=\"number\"),null!=n&&n==n&&(\"number\"===o&&(n+=i&&i[3]||(k.cssNumber[s]?\"\":\"px\")),y.clearCloneStyle||\"\"!==n||0!==t.indexOf(\"background\")||(l[t]=\"inherit\"),a&&\"set\"in a&&void 0===(n=a.set(e,n,r))||(u?l.setProperty(t,n):l[t]=n))}},css:function(e,t,n,r){var i,o,a,s=U(t);return Fe.test(t)||(t=Ve(s)),(a=k.cssHooks[t]||k.cssHooks[s])&&\"get\"in a&&(i=a.get(e,!0,n)),void 0===i&&(i=We(e,t,r)),\"normal\"===i&&t in ze&&(i=ze[t]),\"\"===n||n?(o=parseFloat(i),!0===n||isFinite(o)?o||0:i):i}}),k.each([\"height\",\"width\"],function(e,s){k.cssHooks[s]={get:function(e,t,n){if(t)return!Be.test(k.css(e,\"display\"))||e.getClientRects().length&&e.getBoundingClientRect().width?Qe(e,s,n):ie(e,_e,function(){return Qe(e,s,n)})},set:function(e,t,n){var r,i=Re(e),o=\"border-box\"===k.css(e,\"boxSizing\",!1,i),a=n&&Ye(e,s,n,o,i);return o&&y.scrollboxSize()===i.position&&(a-=Math.ceil(e[\"offset\"+s[0].toUpperCase()+s.slice(1)]-parseFloat(i[s])-Ye(e,s,\"border\",!1,i)-.5)),a&&(r=te.exec(t))&&\"px\"!==(r[3]||\"px\")&&(e.style[s]=t,t=k.css(e,s)),Ge(0,t,a)}}}),k.cssHooks.marginLeft=$e(y.reliableMarginLeft,function(e,t){if(t)return(parseFloat(We(e,\"marginLeft\"))||e.getBoundingClientRect().left-ie(e,{marginLeft:0},function(){return e.getBoundingClientRect().left}))+\"px\"}),k.each({margin:\"\",padding:\"\",border:\"Width\"},function(i,o){k.cssHooks[i+o]={expand:function(e){for(var t=0,n={},r=\"string\"==typeof e?e.split(\" \"):[e];t<4;t++)n[i+ne[t]+o]=r[t]||r[t-2]||r[0];return n}},\"margin\"!==i&&(k.cssHooks[i+o].set=Ge)}),k.fn.extend({css:function(e,t){return F(this,function(e,t,n){var r,i,o={},a=0;if(Array.isArray(t)){for(r=Re(e),i=t.length;a<i;a++)o[t[a]]=k.css(e,t[a],!1,r);return o}return void 0!==n?k.style(e,t,n):k.css(e,t)},e,t,1<arguments.length)}}),((k.Tween=Je).prototype={constructor:Je,init:function(e,t,n,r,i,o){this.elem=e,this.prop=n,this.easing=i||k.easing._default,this.options=t,this.start=this.now=this.cur(),this.end=r,this.unit=o||(k.cssNumber[n]?\"\":\"px\")},cur:function(){var e=Je.propHooks[this.prop];return e&&e.get?e.get(this):Je.propHooks._default.get(this)},run:function(e){var t,n=Je.propHooks[this.prop];return this.options.duration?this.pos=t=k.easing[this.easing](e,this.options.duration*e,0,1,this.options.duration):this.pos=t=e,this.now=(this.end-this.start)*t+this.start,this.options.step&&this.options.step.call(this.elem,this.now,this),n&&n.set?n.set(this):Je.propHooks._default.set(this),this}}).init.prototype=Je.prototype,(Je.propHooks={_default:{get:function(e){var t;return 1!==e.elem.nodeType||null!=e.elem[e.prop]&&null==e.elem.style[e.prop]?e.elem[e.prop]:(t=k.css(e.elem,e.prop,\"\"))&&\"auto\"!==t?t:0},set:function(e){k.fx.step[e.prop]?k.fx.step[e.prop](e):1!==e.elem.nodeType||null==e.elem.style[k.cssProps[e.prop]]&&!k.cssHooks[e.prop]?e.elem[e.prop]=e.now:k.style(e.elem,e.prop,e.now+e.unit)}}}).scrollTop=Je.propHooks.scrollLeft={set:function(e){e.elem.nodeType&&e.elem.parentNode&&(e.elem[e.prop]=e.now)}},k.easing={linear:function(e){return e},swing:function(e){return.5-Math.cos(e*Math.PI)/2},_default:\"swing\"},k.fx=Je.prototype.init,k.fx.step={};var Ke,Ze,et,tt,nt=/^(?:toggle|show|hide)$/,rt=/queueHooks$/;function it(){Ze&&(!1===E.hidden&&C.requestAnimationFrame?C.requestAnimationFrame(it):C.setTimeout(it,k.fx.interval),k.fx.tick())}function ot(){return C.setTimeout(function(){Ke=void 0}),Ke=Date.now()}function at(e,t){var n,r=0,i={height:e};for(t=t?1:0;r<4;r+=2-t)i[\"margin\"+(n=ne[r])]=i[\"padding\"+n]=e;return t&&(i.opacity=i.width=e),i}function st(e,t,n){for(var r,i=(ut.tweeners[t]||[]).concat(ut.tweeners[\"*\"]),o=0,a=i.length;o<a;o++)if(r=i[o].call(n,t,e))return r}function ut(o,e,t){var n,a,r=0,i=ut.prefilters.length,s=k.Deferred().always(function(){delete u.elem}),u=function(){if(a)return!1;for(var e=Ke||ot(),t=Math.max(0,l.startTime+l.duration-e),n=1-(t/l.duration||0),r=0,i=l.tweens.length;r<i;r++)l.tweens[r].run(n);return s.notifyWith(o,[l,n,t]),n<1&&i?t:(i||s.notifyWith(o,[l,1,0]),s.resolveWith(o,[l]),!1)},l=s.promise({elem:o,props:k.extend({},e),opts:k.extend(!0,{specialEasing:{},easing:k.easing._default},t),originalProperties:e,originalOptions:t,startTime:Ke||ot(),duration:t.duration,tweens:[],createTween:function(e,t){var n=k.Tween(o,l.opts,e,t,l.opts.specialEasing[e]||l.opts.easing);return l.tweens.push(n),n},stop:function(e){var t=0,n=e?l.tweens.length:0;if(a)return this;for(a=!0;t<n;t++)l.tweens[t].run(1);return e?(s.notifyWith(o,[l,1,0]),s.resolveWith(o,[l,e])):s.rejectWith(o,[l,e]),this}}),c=l.props;for(function(e,t){var n,r,i,o,a;for(n in e)if(i=t[r=U(n)],o=e[n],Array.isArray(o)&&(i=o[1],o=e[n]=o[0]),n!==r&&(e[r]=o,delete e[n]),(a=k.cssHooks[r])&&\"expand\"in a)for(n in o=a.expand(o),delete e[r],o)n in e||(e[n]=o[n],t[n]=i);else t[r]=i}(c,l.opts.specialEasing);r<i;r++)if(n=ut.prefilters[r].call(l,o,c,l.opts))return m(n.stop)&&(k._queueHooks(l.elem,l.opts.queue).stop=n.stop.bind(n)),n;return k.map(c,st,l),m(l.opts.start)&&l.opts.start.call(o,l),l.progress(l.opts.progress).done(l.opts.done,l.opts.complete).fail(l.opts.fail).always(l.opts.always),k.fx.timer(k.extend(u,{elem:o,anim:l,queue:l.opts.queue})),l}k.Animation=k.extend(ut,{tweeners:{\"*\":[function(e,t){var n=this.createTween(e,t);return oe(n.elem,e,te.exec(t),n),n}]},tweener:function(e,t){for(var n,r=0,i=(e=m(e)?(t=e,[\"*\"]):e.match(P)).length;r<i;r++)n=e[r],ut.tweeners[n]=ut.tweeners[n]||[],ut.tweeners[n].unshift(t)},prefilters:[function(e,t,n){var r,i,o,a,s,u,l,c,f=\"width\"in t||\"height\"in t,p=this,d={},h=e.style,g=e.nodeType&&re(e),v=Y.get(e,\"fxshow\");for(r in n.queue||(null==(a=k._queueHooks(e,\"fx\")).unqueued&&(a.unqueued=0,s=a.empty.fire,a.empty.fire=function(){a.unqueued||s()}),a.unqueued++,p.always(function(){p.always(function(){a.unqueued--,k.queue(e,\"fx\").length||a.empty.fire()})})),t)if(i=t[r],nt.test(i)){if(delete t[r],o=o||\"toggle\"===i,i===(g?\"hide\":\"show\")){if(\"show\"!==i||!v||void 0===v[r])continue;g=!0}d[r]=v&&v[r]||k.style(e,r)}if((u=!k.isEmptyObject(t))||!k.isEmptyObject(d))for(r in f&&1===e.nodeType&&(n.overflow=[h.overflow,h.overflowX,h.overflowY],null==(l=v&&v.display)&&(l=Y.get(e,\"display\")),\"none\"===(c=k.css(e,\"display\"))&&(l?c=l:(se([e],!0),l=e.style.display||l,c=k.css(e,\"display\"),se([e]))),(\"inline\"===c||\"inline-block\"===c&&null!=l)&&\"none\"===k.css(e,\"float\")&&(u||(p.done(function(){h.display=l}),null==l&&(c=h.display,l=\"none\"===c?\"\":c)),h.display=\"inline-block\")),n.overflow&&(h.overflow=\"hidden\",p.always(function(){h.overflow=n.overflow[0],h.overflowX=n.overflow[1],h.overflowY=n.overflow[2]})),u=!1,d)u||(v?\"hidden\"in v&&(g=v.hidden):v=Y.access(e,\"fxshow\",{display:l}),o&&(v.hidden=!g),g&&se([e],!0),p.done(function(){for(r in g||se([e]),Y.remove(e,\"fxshow\"),d)k.style(e,r,d[r])})),u=st(g?v[r]:0,r,p),r in v||(v[r]=u.start,g&&(u.end=u.start,u.start=0))}],prefilter:function(e,t){t?ut.prefilters.unshift(e):ut.prefilters.push(e)}}),k.speed=function(e,t,n){var r=e&&\"object\"==typeof e?k.extend({},e):{complete:n||!n&&t||m(e)&&e,duration:e,easing:n&&t||t&&!m(t)&&t};return k.fx.off?r.duration=0:\"number\"!=typeof r.duration&&(r.duration in k.fx.speeds?r.duration=k.fx.speeds[r.duration]:r.duration=k.fx.speeds._default),null!=r.queue&&!0!==r.queue||(r.queue=\"fx\"),r.old=r.complete,r.complete=function(){m(r.old)&&r.old.call(this),r.queue&&k.dequeue(this,r.queue)},r},k.fn.extend({fadeTo:function(e,t,n,r){return this.filter(re).css(\"opacity\",0).show().end().animate({opacity:t},e,n,r)},animate:function(t,e,n,r){var i=k.isEmptyObject(t),o=k.speed(e,n,r),a=function(){var e=ut(this,k.extend({},t),o);(i||Y.get(this,\"finish\"))&&e.stop(!0)};return a.finish=a,i||!1===o.queue?this.each(a):this.queue(o.queue,a)},stop:function(i,e,o){var a=function(e){var t=e.stop;delete e.stop,t(o)};return\"string\"!=typeof i&&(o=e,e=i,i=void 0),e&&!1!==i&&this.queue(i||\"fx\",[]),this.each(function(){var e=!0,t=null!=i&&i+\"queueHooks\",n=k.timers,r=Y.get(this);if(t)r[t]&&r[t].stop&&a(r[t]);else for(t in r)r[t]&&r[t].stop&&rt.test(t)&&a(r[t]);for(t=n.length;t--;)n[t].elem!==this||null!=i&&n[t].queue!==i||(n[t].anim.stop(o),e=!1,n.splice(t,1));!e&&o||k.dequeue(this,i)})},finish:function(a){return!1!==a&&(a=a||\"fx\"),this.each(function(){var e,t=Y.get(this),n=t[a+\"queue\"],r=t[a+\"queueHooks\"],i=k.timers,o=n?n.length:0;for(t.finish=!0,k.queue(this,a,[]),r&&r.stop&&r.stop.call(this,!0),e=i.length;e--;)i[e].elem===this&&i[e].queue===a&&(i[e].anim.stop(!0),i.splice(e,1));for(e=0;e<o;e++)n[e]&&n[e].finish&&n[e].finish.call(this);delete t.finish})}}),k.each([\"toggle\",\"show\",\"hide\"],function(e,r){var i=k.fn[r];k.fn[r]=function(e,t,n){return null==e||\"boolean\"==typeof e?i.apply(this,arguments):this.animate(at(r,!0),e,t,n)}}),k.each({slideDown:at(\"show\"),slideUp:at(\"hide\"),slideToggle:at(\"toggle\"),fadeIn:{opacity:\"show\"},fadeOut:{opacity:\"hide\"},fadeToggle:{opacity:\"toggle\"}},function(e,r){k.fn[e]=function(e,t,n){return this.animate(r,e,t,n)}}),k.timers=[],k.fx.tick=function(){var e,t=0,n=k.timers;for(Ke=Date.now();t<n.length;t++)(e=n[t])()||n[t]!==e||n.splice(t--,1);n.length||k.fx.stop(),Ke=void 0},k.fx.timer=function(e){k.timers.push(e),k.fx.start()},k.fx.interval=13,k.fx.start=function(){Ze||(Ze=!0,it())},k.fx.stop=function(){Ze=null},k.fx.speeds={slow:600,fast:200,_default:400},k.fn.delay=function(r,e){return r=k.fx&&k.fx.speeds[r]||r,e=e||\"fx\",this.queue(e,function(e,t){var n=C.setTimeout(e,r);t.stop=function(){C.clearTimeout(n)}})},et=E.createElement(\"input\"),tt=E.createElement(\"select\").appendChild(E.createElement(\"option\")),et.type=\"checkbox\",y.checkOn=\"\"!==et.value,y.optSelected=tt.selected,(et=E.createElement(\"input\")).value=\"t\",et.type=\"radio\",y.radioValue=\"t\"===et.value;var lt,ct=k.expr.attrHandle;k.fn.extend({attr:function(e,t){return F(this,k.attr,e,t,1<arguments.length)},removeAttr:function(e){return this.each(function(){k.removeAttr(this,e)})}}),k.extend({attr:function(e,t,n){var r,i,o=e.nodeType;if(3!==o&&8!==o&&2!==o)return void 0===e.getAttribute?k.prop(e,t,n):(1===o&&k.isXMLDoc(e)||(i=k.attrHooks[t.toLowerCase()]||(k.expr.match.bool.test(t)?lt:void 0)),void 0!==n?null===n?void k.removeAttr(e,t):i&&\"set\"in i&&void 0!==(r=i.set(e,n,t))?r:(e.setAttribute(t,n+\"\"),n):i&&\"get\"in i&&null!==(r=i.get(e,t))?r:null==(r=k.find.attr(e,t))?void 0:r)},attrHooks:{type:{set:function(e,t){if(!y.radioValue&&\"radio\"===t&&D(e,\"input\")){var n=e.value;return e.setAttribute(\"type\",t),n&&(e.value=n),t}}}},removeAttr:function(e,t){var n,r=0,i=t&&t.match(P);if(i&&1===e.nodeType)for(;n=i[r++];)e.removeAttribute(n)}}),lt={set:function(e,t,n){return!1===t?k.removeAttr(e,n):e.setAttribute(n,n),n}},k.each(k.expr.match.bool.source.match(/\\w+/g),function(e,t){var a=ct[t]||k.find.attr;ct[t]=function(e,t,n){var r,i,o=t.toLowerCase();return n||(i=ct[o],ct[o]=r,r=null!=a(e,t,n)?o:null,ct[o]=i),r}});var ft=/^(?:input|select|textarea|button)$/i,pt=/^(?:a|area)$/i;function dt(e){return(e.match(P)||[]).join(\" \")}function ht(e){return e.getAttribute&&e.getAttribute(\"class\")||\"\"}function gt(e){return Array.isArray(e)?e:\"string\"==typeof e&&e.match(P)||[]}k.fn.extend({prop:function(e,t){return F(this,k.prop,e,t,1<arguments.length)},removeProp:function(e){return this.each(function(){delete this[k.propFix[e]||e]})}}),k.extend({prop:function(e,t,n){var r,i,o=e.nodeType;if(3!==o&&8!==o&&2!==o)return 1===o&&k.isXMLDoc(e)||(t=k.propFix[t]||t,i=k.propHooks[t]),void 0!==n?i&&\"set\"in i&&void 0!==(r=i.set(e,n,t))?r:e[t]=n:i&&\"get\"in i&&null!==(r=i.get(e,t))?r:e[t]},propHooks:{tabIndex:{get:function(e){var t=k.find.attr(e,\"tabindex\");return t?parseInt(t,10):ft.test(e.nodeName)||pt.test(e.nodeName)&&e.href?0:-1}}},propFix:{for:\"htmlFor\",class:\"className\"}}),y.optSelected||(k.propHooks.selected={get:function(e){var t=e.parentNode;return t&&t.parentNode&&t.parentNode.selectedIndex,null},set:function(e){var t=e.parentNode;t&&(t.selectedIndex,t.parentNode&&t.parentNode.selectedIndex)}}),k.each([\"tabIndex\",\"readOnly\",\"maxLength\",\"cellSpacing\",\"cellPadding\",\"rowSpan\",\"colSpan\",\"useMap\",\"frameBorder\",\"contentEditable\"],function(){k.propFix[this.toLowerCase()]=this}),k.fn.extend({addClass:function(t){var e,n,r,i,o,a,s,u=0;if(m(t))return this.each(function(e){k(this).addClass(t.call(this,e,ht(this)))});if((e=gt(t)).length)for(;n=this[u++];)if(i=ht(n),r=1===n.nodeType&&\" \"+dt(i)+\" \"){for(a=0;o=e[a++];)r.indexOf(\" \"+o+\" \")<0&&(r+=o+\" \");i!==(s=dt(r))&&n.setAttribute(\"class\",s)}return this},removeClass:function(t){var e,n,r,i,o,a,s,u=0;if(m(t))return this.each(function(e){k(this).removeClass(t.call(this,e,ht(this)))});if(!arguments.length)return this.attr(\"class\",\"\");if((e=gt(t)).length)for(;n=this[u++];)if(i=ht(n),r=1===n.nodeType&&\" \"+dt(i)+\" \"){for(a=0;o=e[a++];)for(;-1<r.indexOf(\" \"+o+\" \");)r=r.replace(\" \"+o+\" \",\" \");i!==(s=dt(r))&&n.setAttribute(\"class\",s)}return this},toggleClass:function(i,t){var o=typeof i,a=\"string\"===o||Array.isArray(i);return\"boolean\"==typeof t&&a?t?this.addClass(i):this.removeClass(i):m(i)?this.each(function(e){k(this).toggleClass(i.call(this,e,ht(this),t),t)}):this.each(function(){var e,t,n,r;if(a)for(t=0,n=k(this),r=gt(i);e=r[t++];)n.hasClass(e)?n.removeClass(e):n.addClass(e);else void 0!==i&&\"boolean\"!==o||((e=ht(this))&&Y.set(this,\"__className__\",e),this.setAttribute&&this.setAttribute(\"class\",e||!1===i?\"\":Y.get(this,\"__className__\")||\"\"))})},hasClass:function(e){var t,n,r=0;for(t=\" \"+e+\" \";n=this[r++];)if(1===n.nodeType&&-1<(\" \"+dt(ht(n))+\" \").indexOf(t))return!0;return!1}});var vt=/\\r/g;k.fn.extend({val:function(n){var r,e,i,t=this[0];return arguments.length?(i=m(n),this.each(function(e){var t;1===this.nodeType&&(null==(t=i?n.call(this,e,k(this).val()):n)?t=\"\":\"number\"==typeof t?t+=\"\":Array.isArray(t)&&(t=k.map(t,function(e){return null==e?\"\":e+\"\"})),(r=k.valHooks[this.type]||k.valHooks[this.nodeName.toLowerCase()])&&\"set\"in r&&void 0!==r.set(this,t,\"value\")||(this.value=t))})):t?(r=k.valHooks[t.type]||k.valHooks[t.nodeName.toLowerCase()])&&\"get\"in r&&void 0!==(e=r.get(t,\"value\"))?e:\"string\"==typeof(e=t.value)?e.replace(vt,\"\"):null==e?\"\":e:void 0}}),k.extend({valHooks:{option:{get:function(e){var t=k.find.attr(e,\"value\");return null!=t?t:dt(k.text(e))}},select:{get:function(e){var t,n,r,i=e.options,o=e.selectedIndex,a=\"select-one\"===e.type,s=a?null:[],u=a?o+1:i.length;for(r=o<0?u:a?o:0;r<u;r++)if(((n=i[r]).selected||r===o)&&!n.disabled&&(!n.parentNode.disabled||!D(n.parentNode,\"optgroup\"))){if(t=k(n).val(),a)return t;s.push(t)}return s},set:function(e,t){for(var n,r,i=e.options,o=k.makeArray(t),a=i.length;a--;)((r=i[a]).selected=-1<k.inArray(k.valHooks.option.get(r),o))&&(n=!0);return n||(e.selectedIndex=-1),o}}}}),k.each([\"radio\",\"checkbox\"],function(){k.valHooks[this]={set:function(e,t){if(Array.isArray(t))return e.checked=-1<k.inArray(k(e).val(),t)}},y.checkOn||(k.valHooks[this].get=function(e){return null===e.getAttribute(\"value\")?\"on\":e.value})}),y.focusin=\"onfocusin\"in C;var yt=/^(?:focusinfocus|focusoutblur)$/,mt=function(e){e.stopPropagation()};k.extend(k.event,{trigger:function(e,t,n,r){var i,o,a,s,u,l,c,f,p=[n||E],d=v.call(e,\"type\")?e.type:e,h=v.call(e,\"namespace\")?e.namespace.split(\".\"):[];if(o=f=a=n=n||E,3!==n.nodeType&&8!==n.nodeType&&!yt.test(d+k.event.triggered)&&(-1<d.indexOf(\".\")&&(d=(h=d.split(\".\")).shift(),h.sort()),u=d.indexOf(\":\")<0&&\"on\"+d,(e=e[k.expando]?e:new k.Event(d,\"object\"==typeof e&&e)).isTrigger=r?2:3,e.namespace=h.join(\".\"),e.rnamespace=e.namespace?new RegExp(\"(^|\\\\.)\"+h.join(\"\\\\.(?:.*\\\\.|)\")+\"(\\\\.|$)\"):null,e.result=void 0,e.target||(e.target=n),t=null==t?[e]:k.makeArray(t,[e]),c=k.event.special[d]||{},r||!c.trigger||!1!==c.trigger.apply(n,t))){if(!r&&!c.noBubble&&!x(n)){for(s=c.delegateType||d,yt.test(s+d)||(o=o.parentNode);o;o=o.parentNode)p.push(o),a=o;a===(n.ownerDocument||E)&&p.push(a.defaultView||a.parentWindow||C)}for(i=0;(o=p[i++])&&!e.isPropagationStopped();)f=o,e.type=1<i?s:c.bindType||d,(l=(Y.get(o,\"events\")||{})[e.type]&&Y.get(o,\"handle\"))&&l.apply(o,t),(l=u&&o[u])&&l.apply&&V(o)&&(e.result=l.apply(o,t),!1===e.result&&e.preventDefault());return e.type=d,r||e.isDefaultPrevented()||c._default&&!1!==c._default.apply(p.pop(),t)||!V(n)||u&&m(n[d])&&!x(n)&&((a=n[u])&&(n[u]=null),k.event.triggered=d,e.isPropagationStopped()&&f.addEventListener(d,mt),n[d](),e.isPropagationStopped()&&f.removeEventListener(d,mt),k.event.triggered=void 0,a&&(n[u]=a)),e.result}},simulate:function(e,t,n){var r=k.extend(new k.Event,n,{type:e,isSimulated:!0});k.event.trigger(r,null,t)}}),k.fn.extend({trigger:function(e,t){return this.each(function(){k.event.trigger(e,t,this)})},triggerHandler:function(e,t){var n=this[0];if(n)return k.event.trigger(e,t,n,!0)}}),y.focusin||k.each({focus:\"focusin\",blur:\"focusout\"},function(n,r){var i=function(e){k.event.simulate(r,e.target,k.event.fix(e))};k.event.special[r]={setup:function(){var e=this.ownerDocument||this,t=Y.access(e,r);t||e.addEventListener(n,i,!0),Y.access(e,r,(t||0)+1)},teardown:function(){var e=this.ownerDocument||this,t=Y.access(e,r)-1;t?Y.access(e,r,t):(e.removeEventListener(n,i,!0),Y.remove(e,r))}}});var xt=C.location,bt=Date.now(),wt=/\\?/;k.parseXML=function(e){var t;if(!e||\"string\"!=typeof e)return null;try{t=(new C.DOMParser).parseFromString(e,\"text/xml\")}catch(e){t=void 0}return t&&!t.getElementsByTagName(\"parsererror\").length||k.error(\"Invalid XML: \"+e),t};var Tt=/\\[\\]$/,Ct=/\\r?\\n/g,Et=/^(?:submit|button|image|reset|file)$/i,kt=/^(?:input|select|textarea|keygen)/i;function St(n,e,r,i){var t;if(Array.isArray(e))k.each(e,function(e,t){r||Tt.test(n)?i(n,t):St(n+\"[\"+(\"object\"==typeof t&&null!=t?e:\"\")+\"]\",t,r,i)});else if(r||\"object\"!==w(e))i(n,e);else for(t in e)St(n+\"[\"+t+\"]\",e[t],r,i)}k.param=function(e,t){var n,r=[],i=function(e,t){var n=m(t)?t():t;r[r.length]=encodeURIComponent(e)+\"=\"+encodeURIComponent(null==n?\"\":n)};if(Array.isArray(e)||e.jquery&&!k.isPlainObject(e))k.each(e,function(){i(this.name,this.value)});else for(n in e)St(n,e[n],t,i);return r.join(\"&\")},k.fn.extend({serialize:function(){return k.param(this.serializeArray())},serializeArray:function(){return this.map(function(){var e=k.prop(this,\"elements\");return e?k.makeArray(e):this}).filter(function(){var e=this.type;return this.name&&!k(this).is(\":disabled\")&&kt.test(this.nodeName)&&!Et.test(e)&&(this.checked||!ue.test(e))}).map(function(e,t){var n=k(this).val();return null==n?null:Array.isArray(n)?k.map(n,function(e){return{name:t.name,value:e.replace(Ct,\"\\r\\n\")}}):{name:t.name,value:n.replace(Ct,\"\\r\\n\")}}).get()}});var Dt=/%20/g,Nt=/#.*$/,At=/([?&])_=[^&]*/,jt=/^(.*?):[ \\t]*([^\\r\\n]*)$/gm,qt=/^(?:GET|HEAD)$/,Lt=/^\\/\\//,Ht={},Ot={},Pt=\"*/\".concat(\"*\"),Mt=E.createElement(\"a\");function Rt(o){return function(e,t){\"string\"!=typeof e&&(t=e,e=\"*\");var n,r=0,i=e.toLowerCase().match(P)||[];if(m(t))for(;n=i[r++];)\"+\"===n[0]?(n=n.slice(1)||\"*\",(o[n]=o[n]||[]).unshift(t)):(o[n]=o[n]||[]).push(t)}}function It(t,i,o,a){var s={},u=t===Ot;function l(e){var r;return s[e]=!0,k.each(t[e]||[],function(e,t){var n=t(i,o,a);return\"string\"!=typeof n||u||s[n]?u?!(r=n):void 0:(i.dataTypes.unshift(n),l(n),!1)}),r}return l(i.dataTypes[0])||!s[\"*\"]&&l(\"*\")}function Wt(e,t){var n,r,i=k.ajaxSettings.flatOptions||{};for(n in t)void 0!==t[n]&&((i[n]?e:r||(r={}))[n]=t[n]);return r&&k.extend(!0,e,r),e}Mt.href=xt.href,k.extend({active:0,lastModified:{},etag:{},ajaxSettings:{url:xt.href,type:\"GET\",isLocal:/^(?:about|app|app-storage|.+-extension|file|res|widget):$/.test(xt.protocol),global:!0,processData:!0,async:!0,contentType:\"application/x-www-form-urlencoded; charset=UTF-8\",accepts:{\"*\":Pt,text:\"text/plain\",html:\"text/html\",xml:\"application/xml, text/xml\",json:\"application/json, text/javascript\"},contents:{xml:/\\bxml\\b/,html:/\\bhtml/,json:/\\bjson\\b/},responseFields:{xml:\"responseXML\",text:\"responseText\",json:\"responseJSON\"},converters:{\"* text\":String,\"text html\":!0,\"text json\":JSON.parse,\"text xml\":k.parseXML},flatOptions:{url:!0,context:!0}},ajaxSetup:function(e,t){return t?Wt(Wt(e,k.ajaxSettings),t):Wt(k.ajaxSettings,e)},ajaxPrefilter:Rt(Ht),ajaxTransport:Rt(Ot),ajax:function(e,t){\"object\"==typeof e&&(t=e,e=void 0),t=t||{};var c,f,p,n,d,r,h,g,i,o,v=k.ajaxSetup({},t),y=v.context||v,m=v.context&&(y.nodeType||y.jquery)?k(y):k.event,x=k.Deferred(),b=k.Callbacks(\"once memory\"),w=v.statusCode||{},a={},s={},u=\"canceled\",T={readyState:0,getResponseHeader:function(e){var t;if(h){if(!n)for(n={};t=jt.exec(p);)n[t[1].toLowerCase()]=t[2];t=n[e.toLowerCase()]}return null==t?null:t},getAllResponseHeaders:function(){return h?p:null},setRequestHeader:function(e,t){return null==h&&(e=s[e.toLowerCase()]=s[e.toLowerCase()]||e,a[e]=t),this},overrideMimeType:function(e){return null==h&&(v.mimeType=e),this},statusCode:function(e){var t;if(e)if(h)T.always(e[T.status]);else for(t in e)w[t]=[w[t],e[t]];return this},abort:function(e){var t=e||u;return c&&c.abort(t),l(0,t),this}};if(x.promise(T),v.url=((e||v.url||xt.href)+\"\").replace(Lt,xt.protocol+\"//\"),v.type=t.method||t.type||v.method||v.type,v.dataTypes=(v.dataType||\"*\").toLowerCase().match(P)||[\"\"],null==v.crossDomain){r=E.createElement(\"a\");try{r.href=v.url,r.href=r.href,v.crossDomain=Mt.protocol+\"//\"+Mt.host!=r.protocol+\"//\"+r.host}catch(e){v.crossDomain=!0}}if(v.data&&v.processData&&\"string\"!=typeof v.data&&(v.data=k.param(v.data,v.traditional)),It(Ht,v,t,T),h)return T;for(i in(g=k.event&&v.global)&&0==k.active++&&k.event.trigger(\"ajaxStart\"),v.type=v.type.toUpperCase(),v.hasContent=!qt.test(v.type),f=v.url.replace(Nt,\"\"),v.hasContent?v.data&&v.processData&&0===(v.contentType||\"\").indexOf(\"application/x-www-form-urlencoded\")&&(v.data=v.data.replace(Dt,\"+\")):(o=v.url.slice(f.length),v.data&&(v.processData||\"string\"==typeof v.data)&&(f+=(wt.test(f)?\"&\":\"?\")+v.data,delete v.data),!1===v.cache&&(f=f.replace(At,\"$1\"),o=(wt.test(f)?\"&\":\"?\")+\"_=\"+bt+++o),v.url=f+o),v.ifModified&&(k.lastModified[f]&&T.setRequestHeader(\"If-Modified-Since\",k.lastModified[f]),k.etag[f]&&T.setRequestHeader(\"If-None-Match\",k.etag[f])),(v.data&&v.hasContent&&!1!==v.contentType||t.contentType)&&T.setRequestHeader(\"Content-Type\",v.contentType),T.setRequestHeader(\"Accept\",v.dataTypes[0]&&v.accepts[v.dataTypes[0]]?v.accepts[v.dataTypes[0]]+(\"*\"!==v.dataTypes[0]?\", \"+Pt+\"; q=0.01\":\"\"):v.accepts[\"*\"]),v.headers)T.setRequestHeader(i,v.headers[i]);if(v.beforeSend&&(!1===v.beforeSend.call(y,T,v)||h))return T.abort();if(u=\"abort\",b.add(v.complete),T.done(v.success),T.fail(v.error),c=It(Ot,v,t,T)){if(T.readyState=1,g&&m.trigger(\"ajaxSend\",[T,v]),h)return T;v.async&&0<v.timeout&&(d=C.setTimeout(function(){T.abort(\"timeout\")},v.timeout));try{h=!1,c.send(a,l)}catch(e){if(h)throw e;l(-1,e)}}else l(-1,\"No Transport\");function l(e,t,n,r){var i,o,a,s,u,l=t;h||(h=!0,d&&C.clearTimeout(d),c=void 0,p=r||\"\",T.readyState=0<e?4:0,i=200<=e&&e<300||304===e,n&&(s=function(e,t,n){for(var r,i,o,a,s=e.contents,u=e.dataTypes;\"*\"===u[0];)u.shift(),void 0===r&&(r=e.mimeType||t.getResponseHeader(\"Content-Type\"));if(r)for(i in s)if(s[i]&&s[i].test(r)){u.unshift(i);break}if(u[0]in n)o=u[0];else{for(i in n){if(!u[0]||e.converters[i+\" \"+u[0]]){o=i;break}a||(a=i)}o=o||a}if(o)return o!==u[0]&&u.unshift(o),n[o]}(v,T,n)),s=function(e,t,n,r){var i,o,a,s,u,l={},c=e.dataTypes.slice();if(c[1])for(a in e.converters)l[a.toLowerCase()]=e.converters[a];for(o=c.shift();o;)if(e.responseFields[o]&&(n[e.responseFields[o]]=t),!u&&r&&e.dataFilter&&(t=e.dataFilter(t,e.dataType)),u=o,o=c.shift())if(\"*\"===o)o=u;else if(\"*\"!==u&&u!==o){if(!(a=l[u+\" \"+o]||l[\"* \"+o]))for(i in l)if((s=i.split(\" \"))[1]===o&&(a=l[u+\" \"+s[0]]||l[\"* \"+s[0]])){!0===a?a=l[i]:!0!==l[i]&&(o=s[0],c.unshift(s[1]));break}if(!0!==a)if(a&&e.throws)t=a(t);else try{t=a(t)}catch(e){return{state:\"parsererror\",error:a?e:\"No conversion from \"+u+\" to \"+o}}}return{state:\"success\",data:t}}(v,s,T,i),i?(v.ifModified&&((u=T.getResponseHeader(\"Last-Modified\"))&&(k.lastModified[f]=u),(u=T.getResponseHeader(\"etag\"))&&(k.etag[f]=u)),204===e||\"HEAD\"===v.type?l=\"nocontent\":304===e?l=\"notmodified\":(l=s.state,o=s.data,i=!(a=s.error))):(a=l,!e&&l||(l=\"error\",e<0&&(e=0))),T.status=e,T.statusText=(t||l)+\"\",i?x.resolveWith(y,[o,l,T]):x.rejectWith(y,[T,l,a]),T.statusCode(w),w=void 0,g&&m.trigger(i?\"ajaxSuccess\":\"ajaxError\",[T,v,i?o:a]),b.fireWith(y,[T,l]),g&&(m.trigger(\"ajaxComplete\",[T,v]),--k.active||k.event.trigger(\"ajaxStop\")))}return T},getJSON:function(e,t,n){return k.get(e,t,n,\"json\")},getScript:function(e,t){return k.get(e,void 0,t,\"script\")}}),k.each([\"get\",\"post\"],function(e,i){k[i]=function(e,t,n,r){return m(t)&&(r=r||n,n=t,t=void 0),k.ajax(k.extend({url:e,type:i,dataType:r,data:t,success:n},k.isPlainObject(e)&&e))}}),k._evalUrl=function(e){return k.ajax({url:e,type:\"GET\",dataType:\"script\",cache:!0,async:!1,global:!1,throws:!0})},k.fn.extend({wrapAll:function(e){var t;return this[0]&&(m(e)&&(e=e.call(this[0])),t=k(e,this[0].ownerDocument).eq(0).clone(!0),this[0].parentNode&&t.insertBefore(this[0]),t.map(function(){for(var e=this;e.firstElementChild;)e=e.firstElementChild;return e}).append(this)),this},wrapInner:function(n){return m(n)?this.each(function(e){k(this).wrapInner(n.call(this,e))}):this.each(function(){var e=k(this),t=e.contents();t.length?t.wrapAll(n):e.append(n)})},wrap:function(t){var n=m(t);return this.each(function(e){k(this).wrapAll(n?t.call(this,e):t)})},unwrap:function(e){return this.parent(e).not(\"body\").each(function(){k(this).replaceWith(this.childNodes)}),this}}),k.expr.pseudos.hidden=function(e){return!k.expr.pseudos.visible(e)},k.expr.pseudos.visible=function(e){return!!(e.offsetWidth||e.offsetHeight||e.getClientRects().length)},k.ajaxSettings.xhr=function(){try{return new C.XMLHttpRequest}catch(e){}};var $t={0:200,1223:204},Bt=k.ajaxSettings.xhr();y.cors=!!Bt&&\"withCredentials\"in Bt,y.ajax=Bt=!!Bt,k.ajaxTransport(function(i){var o,a;if(y.cors||Bt&&!i.crossDomain)return{send:function(e,t){var n,r=i.xhr();if(r.open(i.type,i.url,i.async,i.username,i.password),i.xhrFields)for(n in i.xhrFields)r[n]=i.xhrFields[n];for(n in i.mimeType&&r.overrideMimeType&&r.overrideMimeType(i.mimeType),i.crossDomain||e[\"X-Requested-With\"]||(e[\"X-Requested-With\"]=\"XMLHttpRequest\"),e)r.setRequestHeader(n,e[n]);o=function(e){return function(){o&&(o=a=r.onload=r.onerror=r.onabort=r.ontimeout=r.onreadystatechange=null,\"abort\"===e?r.abort():\"error\"===e?\"number\"!=typeof r.status?t(0,\"error\"):t(r.status,r.statusText):t($t[r.status]||r.status,r.statusText,\"text\"!==(r.responseType||\"text\")||\"string\"!=typeof r.responseText?{binary:r.response}:{text:r.responseText},r.getAllResponseHeaders()))}},r.onload=o(),a=r.onerror=r.ontimeout=o(\"error\"),void 0!==r.onabort?r.onabort=a:r.onreadystatechange=function(){4===r.readyState&&C.setTimeout(function(){o&&a()})},o=o(\"abort\");try{r.send(i.hasContent&&i.data||null)}catch(e){if(o)throw e}},abort:function(){o&&o()}}}),k.ajaxPrefilter(function(e){e.crossDomain&&(e.contents.script=!1)}),k.ajaxSetup({accepts:{script:\"text/javascript, application/javascript, application/ecmascript, application/x-ecmascript\"},contents:{script:/\\b(?:java|ecma)script\\b/},converters:{\"text script\":function(e){return k.globalEval(e),e}}}),k.ajaxPrefilter(\"script\",function(e){void 0===e.cache&&(e.cache=!1),e.crossDomain&&(e.type=\"GET\")}),k.ajaxTransport(\"script\",function(n){var r,i;if(n.crossDomain)return{send:function(e,t){r=k(\"<script>\").prop({charset:n.scriptCharset,src:n.url}).on(\"load error\",i=function(e){r.remove(),i=null,e&&t(\"error\"===e.type?404:200,e.type)}),E.head.appendChild(r[0])},abort:function(){i&&i()}}});var Ft,_t=[],zt=/(=)\\?(?=&|$)|\\?\\?/;k.ajaxSetup({jsonp:\"callback\",jsonpCallback:function(){var e=_t.pop()||k.expando+\"_\"+bt++;return this[e]=!0,e}}),k.ajaxPrefilter(\"json jsonp\",function(e,t,n){var r,i,o,a=!1!==e.jsonp&&(zt.test(e.url)?\"url\":\"string\"==typeof e.data&&0===(e.contentType||\"\").indexOf(\"application/x-www-form-urlencoded\")&&zt.test(e.data)&&\"data\");if(a||\"jsonp\"===e.dataTypes[0])return r=e.jsonpCallback=m(e.jsonpCallback)?e.jsonpCallback():e.jsonpCallback,a?e[a]=e[a].replace(zt,\"$1\"+r):!1!==e.jsonp&&(e.url+=(wt.test(e.url)?\"&\":\"?\")+e.jsonp+\"=\"+r),e.converters[\"script json\"]=function(){return o||k.error(r+\" was not called\"),o[0]},e.dataTypes[0]=\"json\",i=C[r],C[r]=function(){o=arguments},n.always(function(){void 0===i?k(C).removeProp(r):C[r]=i,e[r]&&(e.jsonpCallback=t.jsonpCallback,_t.push(r)),o&&m(i)&&i(o[0]),o=i=void 0}),\"script\"}),y.createHTMLDocument=((Ft=E.implementation.createHTMLDocument(\"\").body).innerHTML=\"<form></form><form></form>\",2===Ft.childNodes.length),k.parseHTML=function(e,t,n){return\"string\"!=typeof e?[]:(\"boolean\"==typeof t&&(n=t,t=!1),t||(y.createHTMLDocument?((r=(t=E.implementation.createHTMLDocument(\"\")).createElement(\"base\")).href=E.location.href,t.head.appendChild(r)):t=E),o=!n&&[],(i=N.exec(e))?[t.createElement(i[1])]:(i=ye([e],t,o),o&&o.length&&k(o).remove(),k.merge([],i.childNodes)));var r,i,o},k.fn.load=function(e,t,n){var r,i,o,a=this,s=e.indexOf(\" \");return-1<s&&(r=dt(e.slice(s)),e=e.slice(0,s)),m(t)?(n=t,t=void 0):t&&\"object\"==typeof t&&(i=\"POST\"),0<a.length&&k.ajax({url:e,type:i||\"GET\",dataType:\"html\",data:t}).done(function(e){o=arguments,a.html(r?k(\"<div>\").append(k.parseHTML(e)).find(r):e)}).always(n&&function(e,t){a.each(function(){n.apply(this,o||[e.responseText,t,e])})}),this},k.each([\"ajaxStart\",\"ajaxStop\",\"ajaxComplete\",\"ajaxError\",\"ajaxSuccess\",\"ajaxSend\"],function(e,t){k.fn[t]=function(e){return this.on(t,e)}}),k.expr.pseudos.animated=function(t){return k.grep(k.timers,function(e){return t===e.elem}).length},k.offset={setOffset:function(e,t,n){var r,i,o,a,s,u,l=k.css(e,\"position\"),c=k(e),f={};\"static\"===l&&(e.style.position=\"relative\"),s=c.offset(),o=k.css(e,\"top\"),u=k.css(e,\"left\"),i=(\"absolute\"===l||\"fixed\"===l)&&-1<(o+u).indexOf(\"auto\")?(a=(r=c.position()).top,r.left):(a=parseFloat(o)||0,parseFloat(u)||0),m(t)&&(t=t.call(e,n,k.extend({},s))),null!=t.top&&(f.top=t.top-s.top+a),null!=t.left&&(f.left=t.left-s.left+i),\"using\"in t?t.using.call(e,f):c.css(f)}},k.fn.extend({offset:function(t){if(arguments.length)return void 0===t?this:this.each(function(e){k.offset.setOffset(this,t,e)});var e,n,r=this[0];return r?r.getClientRects().length?(e=r.getBoundingClientRect(),n=r.ownerDocument.defaultView,{top:e.top+n.pageYOffset,left:e.left+n.pageXOffset}):{top:0,left:0}:void 0},position:function(){if(this[0]){var e,t,n,r=this[0],i={top:0,left:0};if(\"fixed\"===k.css(r,\"position\"))t=r.getBoundingClientRect();else{for(t=this.offset(),n=r.ownerDocument,e=r.offsetParent||n.documentElement;e&&(e===n.body||e===n.documentElement)&&\"static\"===k.css(e,\"position\");)e=e.parentNode;e&&e!==r&&1===e.nodeType&&((i=k(e).offset()).top+=k.css(e,\"borderTopWidth\",!0),i.left+=k.css(e,\"borderLeftWidth\",!0))}return{top:t.top-i.top-k.css(r,\"marginTop\",!0),left:t.left-i.left-k.css(r,\"marginLeft\",!0)}}},offsetParent:function(){return this.map(function(){for(var e=this.offsetParent;e&&\"static\"===k.css(e,\"position\");)e=e.offsetParent;return e||me})}}),k.each({scrollLeft:\"pageXOffset\",scrollTop:\"pageYOffset\"},function(t,i){var o=\"pageYOffset\"===i;k.fn[t]=function(e){return F(this,function(e,t,n){var r;if(x(e)?r=e:9===e.nodeType&&(r=e.defaultView),void 0===n)return r?r[i]:e[t];r?r.scrollTo(o?r.pageXOffset:n,o?n:r.pageYOffset):e[t]=n},t,e,arguments.length)}}),k.each([\"top\",\"left\"],function(e,n){k.cssHooks[n]=$e(y.pixelPosition,function(e,t){if(t)return t=We(e,n),Me.test(t)?k(e).position()[n]+\"px\":t})}),k.each({Height:\"height\",Width:\"width\"},function(a,s){k.each({padding:\"inner\"+a,content:s,\"\":\"outer\"+a},function(r,o){k.fn[o]=function(e,t){var n=arguments.length&&(r||\"boolean\"!=typeof e),i=r||(!0===e||!0===t?\"margin\":\"border\");return F(this,function(e,t,n){var r;return x(e)?0===o.indexOf(\"outer\")?e[\"inner\"+a]:e.document.documentElement[\"client\"+a]:9===e.nodeType?(r=e.documentElement,Math.max(e.body[\"scroll\"+a],r[\"scroll\"+a],e.body[\"offset\"+a],r[\"offset\"+a],r[\"client\"+a])):void 0===n?k.css(e,t,i):k.style(e,t,n,i)},s,n?e:void 0,n)}})}),k.each(\"blur focus focusin focusout resize scroll click dblclick mousedown mouseup mousemove mouseover mouseout mouseenter mouseleave change select submit keydown keypress keyup contextmenu\".split(\" \"),function(e,n){k.fn[n]=function(e,t){return 0<arguments.length?this.on(n,null,e,t):this.trigger(n)}}),k.fn.extend({hover:function(e,t){return this.mouseenter(e).mouseleave(t||e)}}),k.fn.extend({bind:function(e,t,n){return this.on(e,null,t,n)},unbind:function(e,t){return this.off(e,null,t)},delegate:function(e,t,n,r){return this.on(t,e,n,r)},undelegate:function(e,t,n){return 1===arguments.length?this.off(e,\"**\"):this.off(t,e||\"**\",n)}}),k.proxy=function(e,t){var n,r,i;if(\"string\"==typeof t&&(n=e[t],t=e,e=n),m(e))return r=s.call(arguments,2),(i=function(){return e.apply(t||this,r.concat(s.call(arguments)))}).guid=e.guid=e.guid||k.guid++,i},k.holdReady=function(e){e?k.readyWait++:k.ready(!0)},k.isArray=Array.isArray,k.parseJSON=JSON.parse,k.nodeName=D,k.isFunction=m,k.isWindow=x,k.camelCase=U,k.type=w,k.now=Date.now,k.isNumeric=function(e){var t=k.type(e);return(\"number\"===t||\"string\"===t)&&!isNaN(e-parseFloat(e))},\"function\"==typeof define&&define.amd&&define(\"jquery\",[],function(){return k});var Xt=C.jQuery,Ut=C.$;return k.noConflict=function(e){return C.$===k&&(C.$=Ut),e&&C.jQuery===k&&(C.jQuery=Xt),k},e||(C.jQuery=C.$=k),k});</script>\n",
      "<script>\n",
      "    adjustImageLeft();\n",
      "    $(window).resize(function (){\n",
      "        adjustImageLeft();\n",
      "    });\n",
      "    function adjustImageLeft() {\n",
      "        //get screen width\n",
      "        let width = $(window).width();\n",
      "        //(width - image size)/2\n",
      "        let awidth = (width - 141)/2.0;\n",
      "        $('.image').css('left', (awidth - 1) + 'px');\n",
      "    }\n",
      "</script>\n",
      "</body>\n",
      "</html>\n"
     ]
    }
   ],
   "source": [
    "\n",
    "# get the data\n",
    "data = requests.get('https://umggaming.com/leaderboards?__cf_chl_jschl_tk__=352ecbe82f05f973ea50ef0d8ed02ca7f4329481-1597140584-0-AWH76_5gjbHP5WH9s4iuEnEAUYeR1zTkhRGOPQEi0UpRzJ8_B1o32stUo5gyvPOydkMpdV-XcRV0diR-c57Y9niWOImdGyX1JsrEw3_WlmaHeiK7ETf8t-cPtDplxVWbRGRSmZXahqYm-OnASf_jnlTa9S5IaOud_A0srrWA9z510N4HobnEXDwnhDe1topH141KnxARWLl86-OXa9lXwCyqCn94PZ4-oI-KgHCkAvIMrMfH60uIJGpfBnYOZD2ARUpjqq8ynG4H8N-SSeos60q1U6j-v6Pvc0w7IX7x_MxJ')\n",
    "\n",
    "soup = BeautifulSoup(data.content)\n",
    "\n",
    "print(soup)"
   ]
  },
  {
   "cell_type": "code",
   "execution_count": 17,
   "metadata": {},
   "outputs": [
    {
     "name": "stdout",
     "output_type": "stream",
     "text": [
      "None\n"
     ]
    }
   ],
   "source": [
    "#--\n",
    "\n",
    "leaderboard = soup.find('div', class_ = 'table-responsive')\n",
    "# try:\n",
    "#     lead = leaderboard.find('tbody')\n",
    "# except:\n",
    "#     None\n",
    "print(leaderboard)\n",
    "# for data in leaderboard.find_all('tr'):\n",
    "    \n",
    "#     rank = data.find_all('td')[0].text.strip()\n",
    "    \n",
    "#     name = data.find_all('td')[1].find_all('a')[0].text.strip()\n",
    "    \n",
    "#     score = data.find_all('td')[3].text.strip()\n",
    "    \n",
    "#     print(rank, name, score)"
   ]
  },
  {
   "cell_type": "code",
   "execution_count": null,
   "metadata": {},
   "outputs": [],
   "source": [
    "# in the above example their is something issue so just ignore that except this our code is perfect "
   ]
  },
  {
   "cell_type": "markdown",
   "metadata": {},
   "source": [
    "## Scraping of Images  --"
   ]
  },
  {
   "cell_type": "code",
   "execution_count": 2,
   "metadata": {},
   "outputs": [],
   "source": [
    "#\n",
    "import requests\n",
    "from bs4 import BeautifulSoup\n",
    "import urllib.request\n"
   ]
  },
  {
   "cell_type": "code",
   "execution_count": 3,
   "metadata": {},
   "outputs": [
    {
     "name": "stdout",
     "output_type": "stream",
     "text": [
      "502\n",
      "Status: 502 — Try rerunning the code\n",
      "\n"
     ]
    }
   ],
   "source": [
    "# name the output file to write to local disk\n",
    "\n",
    "# out_filename = \"image_Yoda.csv\"\n",
    "# f = open(out_filename, 'w')\n",
    "\n",
    "\n",
    "# -- \n",
    "url = 'https://www.reddit.com/r/BabyYoda'\n",
    "\n",
    "response = requests.get(url)\n",
    "\n",
    "print(response.status_code)\n",
    "\n",
    "# checking response.status_code (if you get 502, try rerunning the code)\n",
    "if response.status_code != 200:\n",
    "    print(f\"Status: {response.status_code} — Try rerunning the code\\n\")\n",
    "else:\n",
    "    print(f\"Status: {response.status_code}\\n\")\n",
    "\n",
    "    \n",
    "    \n",
    "soup = BeautifulSoup(response.content, 'html.parser')\n",
    "# print(soup.prettify())\n",
    "\n",
    "\n",
    "images = soup.find_all('img',{'alt' : 'Post image'})\n",
    "\n",
    "number = 0\n",
    "\n",
    "for image in images:\n",
    "    img_src = image['src']\n",
    "    print(img_src)\n",
    "    urllib.request.urlretrieve(img_src, str(number))\n",
    "    number = number + 1\n",
    "    \n",
    "#     f.write(img_src)\n",
    "    \n",
    "# f.close()"
   ]
  },
  {
   "cell_type": "code",
   "execution_count": null,
   "metadata": {},
   "outputs": [],
   "source": [
    "#  new  --"
   ]
  },
  {
   "cell_type": "markdown",
   "metadata": {},
   "source": [
    "## Another but useful  --"
   ]
  },
  {
   "cell_type": "code",
   "execution_count": 20,
   "metadata": {},
   "outputs": [
    {
     "name": "stdout",
     "output_type": "stream",
     "text": [
      "              day         nature         temp\n",
      "0       Overnight   Mostly Clear   Low: 60 °F\n",
      "1         Tuesday          Sunny  High: 83 °F\n",
      "2    TuesdayNight          Clear   Low: 61 °F\n",
      "3       Wednesday          Sunny  High: 85 °F\n",
      "4  WednesdayNight   Mostly Clear   Low: 64 °F\n",
      "5        Thursday   Mostly Sunny  High: 87 °F\n",
      "6   ThursdayNight  Partly Cloudy   Low: 70 °F\n",
      "7          Friday          Sunny  High: 92 °F\n",
      "8     FridayNight   Mostly Clear   Low: 73 °F\n"
     ]
    }
   ],
   "source": [
    "# --\n",
    "import pandas as pd\n",
    "import requests\n",
    "from bs4 import BeautifulSoup\n",
    "\n",
    "\n",
    "url = \"https://forecast.weather.gov/MapClick.php?lat=34.05361000000005&lon=-118.24549999999999#.XzJlbIgzbIU\"\n",
    "data = requests.get(url)\n",
    "soup = BeautifulSoup(data.content, 'html.parser')\n",
    "\n",
    "week = soup.find(id = 'seven-day-forecast-body')\n",
    "\n",
    "month = week.find_all(class_ = 'tombstone-container')\n",
    "\n",
    "day = [item.find(class_ = 'period-name').get_text() for item in month]\n",
    "\n",
    "nature = [item.find(class_ = 'short-desc').get_text() for item in month]\n",
    "\n",
    "temp = [item.find(class_ = 'temp').get_text() for item in month]\n",
    "\n",
    "# for forecast in month:\n",
    "#     day = forecast.find(class_ = 'period-name').get_text()\n",
    "#     nature = forecast.find(class_ = 'short-desc').get_text()\n",
    "#     temp = forecast.find(class_ = 'temp').get_text()\n",
    "    \n",
    "# save into csv file  -- -- - - -  -    \n",
    "    \n",
    "weature =  pd.DataFrame(\n",
    "        {'day' : day,\n",
    "        'nature' : nature,\n",
    "         'temp' : temp,\n",
    "        }\n",
    "        )\n",
    "print(weature)\n",
    "\n",
    "weature.to_csv('weature_for.csv')"
   ]
  },
  {
   "cell_type": "code",
   "execution_count": 4,
   "metadata": {},
   "outputs": [],
   "source": [
    "# new  ---"
   ]
  },
  {
   "cell_type": "markdown",
   "metadata": {},
   "source": [
    "## White house breifings  Sracping  --"
   ]
  },
  {
   "cell_type": "code",
   "execution_count": 7,
   "metadata": {},
   "outputs": [
    {
     "name": "stdout",
     "output_type": "stream",
     "text": [
      "['https://www.whitehouse.gov/briefings-statements/remarks-president-trump-press-briefing-august-11-2020/', 'https://www.whitehouse.gov/briefings-statements/president-donald-j-trump-using-every-available-resource-deliver-safe-effective-vaccine-american-people/', 'https://www.whitehouse.gov/briefings-statements/second-lady-karen-pence-highlights-suicide-prevention-visits-military-spouse-owned-business-charlotte-nc/', 'https://www.whitehouse.gov/briefings-statements/remarks-president-trump-press-briefing-august-10-2020/', 'https://www.whitehouse.gov/briefings-statements/statement-national-security-advisor-robert-c-obrien/', 'https://www.whitehouse.gov/briefings-statements/readout-vice-presidents-governors-briefing-covid-19-response-best-practices-081020/', 'https://www.whitehouse.gov/briefings-statements/statement-press-secretary-081020/', 'https://www.whitehouse.gov/briefings-statements/president-donald-j-trump-unleashing-americas-5g-potential/', 'https://www.whitehouse.gov/briefings-statements/press-briefing-press-secretary-kayleigh-mcenany-8-10-2020/', 'https://www.whitehouse.gov/briefings-statements/ondcp-newly-awards-15-9-million-high-intensity-drug-trafficking-areas-expanding-overdose-response-strategy-50-states/']\n"
     ]
    }
   ],
   "source": [
    "#\n",
    "import pandas as pd\n",
    "import requests\n",
    "from bs4 import BeautifulSoup\n",
    "\n",
    "\n",
    "url = \"https://www.whitehouse.gov/briefings-statements/\"\n",
    "data = requests.get(url)\n",
    "soup = BeautifulSoup(data.content, 'html.parser')\n",
    "\n",
    "\n",
    "urls = []\n",
    "for link in soup.find_all('h2'):\n",
    "    \n",
    "    links = link.find('a')\n",
    "    \n",
    "    urls.append(links.attrs['href'])\n",
    "    \n",
    "print(urls)\n"
   ]
  },
  {
   "cell_type": "code",
   "execution_count": null,
   "metadata": {},
   "outputs": [],
   "source": [
    "# new  --"
   ]
  },
  {
   "cell_type": "markdown",
   "metadata": {},
   "source": [
    "## E-bay scraping  ---"
   ]
  },
  {
   "cell_type": "code",
   "execution_count": 1,
   "metadata": {},
   "outputs": [],
   "source": [
    "#\n",
    "\n",
    "import requests\n",
    "from bs4 import BeautifulSoup\n",
    "import urllib.request\n"
   ]
  },
  {
   "cell_type": "code",
   "execution_count": 37,
   "metadata": {},
   "outputs": [
    {
     "name": "stdout",
     "output_type": "stream",
     "text": [
      "Microsoft Xbox One S All-Digital Edition 1TB White Console\n",
      "https://www.ebay.com/itm/Microsoft-Xbox-One-S-All-Digital-Edition-1TB-White-Console/313182575575?epid=8032589296&hash=item48eb22dbd7:g:j34AAOSwO~1fNcEU\n",
      "INR 11,498.13\n"
     ]
    }
   ],
   "source": [
    "\n",
    "url = 'https://www.ebay.com/sch/i.html?_from=R40&_nkw=xbox.one&_sacat=0&LH_TitleDesc=0&_pgn=1'\n",
    "# page_num = \"1\"\n",
    "# data = requests.get(url + page_num)\n",
    "\n",
    "data = requests.get(url)\n",
    "\n",
    "soup = BeautifulSoup(data.content , 'lxml')\n",
    "\n",
    "\n",
    "#  for   single   data  it  works  properly    - -  - ------------ ----------\n",
    "find = soup.find(\"li\", {'class' : 's-item'})\n",
    "link = soup.find('a', class_ = 's-item__link')['href']\n",
    "title = soup.find('h3', class_ = 's-item__title')\n",
    "price = soup.find('span', class_ = 's-item__price')\n",
    "print(title.text)\n",
    "print(link)\n",
    "print(price.text)\n",
    "#     #        #  ------- --------- -------- ----------- -------------\n",
    "\n",
    "# num = 1\n",
    "# for i in range(5):\n",
    "# soups = soup.find_all(\"li\", {'class' : 's-item'})\n",
    "\n",
    "# for sou in soups:\n",
    "    \n",
    "#     link = sou.find('a', class_ = 's-item__link')\n",
    "#     title = sou.find('h3', class_ = 's-item__title')\n",
    "#     price = sou.find('span', class_ = 's-item__price')\n",
    "#     print(title.text)\n",
    "#     print(link.get('href'))\n",
    "#     print(price.text)\n",
    "        \n",
    "    \n",
    "#     num = num + 1\n",
    "#     page_num = str(num)\n",
    "#     url = 'https://www.ebay.com/sch/i.html?_from=R40&_nkw=xbox.one&_sacat=0&LH_TitleDesc=0&_pgn='\n",
    "#     data = requests.get(url + page_num)\n",
    "#     soup = BeautifulSoup(data.content , 'lxml')\n",
    "\n",
    "\n",
    "\n",
    "# but for multiple products it didn't work properly   - - -  - - - \n"
   ]
  },
  {
   "cell_type": "code",
   "execution_count": null,
   "metadata": {},
   "outputs": [],
   "source": [
    "#  new  --"
   ]
  },
  {
   "cell_type": "markdown",
   "metadata": {},
   "source": [
    "## Amazon automated  - - - - - \n",
    "\n",
    "#### In the below code what we do -- if the price of product thta which we eanna buy is falls down by our prefered price then the code send us a email in our email id to chech that product  - -"
   ]
  },
  {
   "cell_type": "code",
   "execution_count": 4,
   "metadata": {},
   "outputs": [],
   "source": [
    "#\n",
    "import requests\n",
    "from bs4 import BeautifulSoup\n",
    "import smtplib\n",
    "\n",
    "url = \"https://www.amazon.in/U-S-Polo-Assn-Regular-I633-195-PL_Navy_Medium/dp/B0793HPJTG/ref=sr_1_63?dchild=1&keywords=mens+t-shirts&qid=1597311127&sr=8-63\"\n",
    "headers = {\n",
    "    \"User-Agent\" : 'Mozilla/5.0 (X11; Linux x86_64) AppleWebKit/537.36 (KHTML, like Gecko) Chrome/51.0.2704.103 Safari/537.36'\n",
    "    }\n"
   ]
  },
  {
   "cell_type": "code",
   "execution_count": 9,
   "metadata": {},
   "outputs": [
    {
     "ename": "AttributeError",
     "evalue": "'NoneType' object has no attribute 'text'",
     "output_type": "error",
     "traceback": [
      "\u001b[1;31m---------------------------------------------------------------------------\u001b[0m",
      "\u001b[1;31mAttributeError\u001b[0m                            Traceback (most recent call last)",
      "\u001b[1;32m<ipython-input-9-6f9346dae665>\u001b[0m in \u001b[0;36m<module>\u001b[1;34m\u001b[0m\n\u001b[0;32m     48\u001b[0m     \u001b[0mserver\u001b[0m\u001b[1;33m.\u001b[0m\u001b[0mquit\u001b[0m\u001b[1;33m(\u001b[0m\u001b[1;33m)\u001b[0m\u001b[1;33m\u001b[0m\u001b[1;33m\u001b[0m\u001b[0m\n\u001b[0;32m     49\u001b[0m \u001b[1;33m\u001b[0m\u001b[0m\n\u001b[1;32m---> 50\u001b[1;33m \u001b[0mcheck_price\u001b[0m\u001b[1;33m(\u001b[0m\u001b[1;33m)\u001b[0m\u001b[1;33m\u001b[0m\u001b[1;33m\u001b[0m\u001b[0m\n\u001b[0m",
      "\u001b[1;32m<ipython-input-9-6f9346dae665>\u001b[0m in \u001b[0;36mcheck_price\u001b[1;34m()\u001b[0m\n\u001b[0;32m     12\u001b[0m \u001b[1;31m# print(title.text.strip())\u001b[0m\u001b[1;33m\u001b[0m\u001b[1;33m\u001b[0m\u001b[1;33m\u001b[0m\u001b[0m\n\u001b[0;32m     13\u001b[0m \u001b[1;33m\u001b[0m\u001b[0m\n\u001b[1;32m---> 14\u001b[1;33m     \u001b[0mprice\u001b[0m \u001b[1;33m=\u001b[0m \u001b[0msoup\u001b[0m\u001b[1;33m.\u001b[0m\u001b[0mfind\u001b[0m\u001b[1;33m(\u001b[0m\u001b[0mid\u001b[0m \u001b[1;33m=\u001b[0m \u001b[1;34m'priceblock_ourprice'\u001b[0m\u001b[1;33m)\u001b[0m\u001b[1;33m.\u001b[0m\u001b[0mtext\u001b[0m\u001b[1;33m\u001b[0m\u001b[1;33m\u001b[0m\u001b[0m\n\u001b[0m\u001b[0;32m     15\u001b[0m \u001b[1;31m#     con_price = int(float(price[5:]))\u001b[0m\u001b[1;33m\u001b[0m\u001b[1;33m\u001b[0m\u001b[1;33m\u001b[0m\u001b[0m\n\u001b[0;32m     16\u001b[0m     \u001b[0mprint\u001b[0m\u001b[1;33m(\u001b[0m\u001b[0mprice\u001b[0m\u001b[1;33m)\u001b[0m\u001b[1;33m\u001b[0m\u001b[1;33m\u001b[0m\u001b[0m\n",
      "\u001b[1;31mAttributeError\u001b[0m: 'NoneType' object has no attribute 'text'"
     ]
    }
   ],
   "source": [
    "# =\n",
    "\n",
    "def check_price():  \n",
    "    \n",
    "    data = requests.get(url, headers = headers)\n",
    "# print(data.status_code)\n",
    "\n",
    "    soup = BeautifulSoup(data.content, 'lxml')\n",
    "# print(soup.prettify())\n",
    "\n",
    "    title = soup.find('span', id = 'productTitle')\n",
    "# print(title.text.strip())\n",
    "\n",
    "    price = soup.find(id = 'priceblock_ourprice').text\n",
    "#     con_price = int(float(price[5:]))\n",
    "    print(price)\n",
    "    \n",
    "    if price < '399.00':\n",
    "        send_email()\n",
    "\n",
    "        \n",
    "        #  Process Of Sending An Email   ---------------------------------------------------------------------------- -----\n",
    "# ( dou to some problem )\n",
    "        \n",
    "        \n",
    "def send_email():\n",
    "    \n",
    "    server = smtplib.SMTP('smtp.gmail.com', 587)\n",
    "    server.ehlo()\n",
    "    server.starttls()\n",
    "    server.ehlo()\n",
    "    \n",
    "    server.login('hemantsethiya91gmail.com', '123456@h')\n",
    "    \n",
    "    subject = 'Price Fell Down '\n",
    "    body = 'Check the amazon link : https://www.amazon.in/U-S-Polo-Assn-Regular-I633-195-PL_Navy_Medium/dp/B0793HPJTG/ref=sr_1_63?dchild=1&keywords=mens+t-shirts&qid=1597311127&sr=8-63'\n",
    "    \n",
    "    msg = f\"Subject: {subject}\\n\\n{body}\"\n",
    "    \n",
    "    server.send_email(\n",
    "        'hemantsethiya91@gmail.com',\n",
    "        'hemantsethiya600@gmail.com',\n",
    "        msg\n",
    "    )\n",
    "    \n",
    "    print('Hey email has been send!')\n",
    "    \n",
    "    server.quit()\n",
    "    \n",
    "check_price()"
   ]
  },
  {
   "cell_type": "code",
   "execution_count": null,
   "metadata": {},
   "outputs": [],
   "source": [
    "# new  - - - - -"
   ]
  },
  {
   "cell_type": "markdown",
   "metadata": {},
   "source": [
    "##  Image Download - -\n",
    "### one of the best code  - - -  -"
   ]
  },
  {
   "cell_type": "code",
   "execution_count": 8,
   "metadata": {},
   "outputs": [
    {
     "name": "stdout",
     "output_type": "stream",
     "text": [
      "Work - \n",
      "Work - \n",
      "Work - \n",
      "Work - \n",
      "Work - \n",
      "Work - \n",
      "Work - \n",
      "Work - \n",
      "Work - \n",
      "Work - \n",
      "Work - \n",
      "Work - \n",
      "Work - \n",
      "Work - \n",
      "Work - \n",
      "Work - \n",
      "Work - \n",
      "Work - \n",
      "Work - \n",
      "Work - \n",
      "Work - \n",
      "Work - \n",
      "Work - \n",
      "Work - \n",
      "Work - \n",
      "Work - \n",
      "Work - \n",
      "Work - \n",
      "Work - \n",
      "Work - \n",
      "Work - \n"
     ]
    }
   ],
   "source": [
    "#\n",
    "import pandas as pd\n",
    "import requests\n",
    "from bs4 import BeautifulSoup\n",
    "import urllib.request\n",
    "import random\n",
    "\n",
    "\n",
    "url = \"https://www.creativeshrimp.com/top-30-artworks-of-beeple.html\"\n",
    "data = requests.get(url)\n",
    "soup = BeautifulSoup(data.text, 'lxml')\n",
    "\n",
    "for img in soup.find_all('a', class_ = 'lightbox'):\n",
    "    \n",
    "    link = img.get('href')\n",
    "#     print(link)\n",
    "    img_name = random.randrange(1,500)\n",
    "    \n",
    "    full_name = str(img_name) + '.jpg'\n",
    "    \n",
    "    urllib.request.urlretrieve(link, full_name)   # for download images\n",
    "    \n",
    "    print('Work - ')\n",
    "    \n",
    "# -- - -\n",
    "\n",
    "# It download all the images into that directory where our anaconda is installed   - - - "
   ]
  },
  {
   "cell_type": "code",
   "execution_count": 38,
   "metadata": {},
   "outputs": [],
   "source": [
    "#  new  - - - - - \n",
    "#  without any help  from   youtube   -  - - - "
   ]
  },
  {
   "cell_type": "code",
   "execution_count": null,
   "metadata": {},
   "outputs": [],
   "source": []
  },
  {
   "cell_type": "code",
   "execution_count": 4,
   "metadata": {},
   "outputs": [
    {
     "ename": "TypeError",
     "evalue": "list indices must be integers or slices, not str",
     "output_type": "error",
     "traceback": [
      "\u001b[1;31m---------------------------------------------------------------------------\u001b[0m",
      "\u001b[1;31mTypeError\u001b[0m                                 Traceback (most recent call last)",
      "\u001b[1;32m<ipython-input-4-a9d0da70ec2d>\u001b[0m in \u001b[0;36m<module>\u001b[1;34m\u001b[0m\n\u001b[0;32m     11\u001b[0m \u001b[1;33m\u001b[0m\u001b[0m\n\u001b[0;32m     12\u001b[0m \u001b[1;31m# course = data.find('div', class_ = 'popover--popover--t3rNO popover--popover-hover--14ngr')\u001b[0m\u001b[1;33m\u001b[0m\u001b[1;33m\u001b[0m\u001b[1;33m\u001b[0m\u001b[0m\n\u001b[1;32m---> 13\u001b[1;33m \u001b[0mlink\u001b[0m \u001b[1;33m=\u001b[0m \u001b[0msoup\u001b[0m\u001b[1;33m.\u001b[0m\u001b[0mfind_all\u001b[0m\u001b[1;33m(\u001b[0m\u001b[1;34m'a'\u001b[0m\u001b[1;33m,\u001b[0m \u001b[0mid_\u001b[0m \u001b[1;33m=\u001b[0m \u001b[1;34m'u509-popover-trigger--611'\u001b[0m\u001b[1;33m)\u001b[0m\u001b[1;33m[\u001b[0m\u001b[1;34m'href'\u001b[0m\u001b[1;33m]\u001b[0m\u001b[1;33m\u001b[0m\u001b[1;33m\u001b[0m\u001b[0m\n\u001b[0m\u001b[0;32m     14\u001b[0m \u001b[0mprint\u001b[0m\u001b[1;33m(\u001b[0m\u001b[0mlink\u001b[0m\u001b[1;33m)\u001b[0m\u001b[1;33m\u001b[0m\u001b[1;33m\u001b[0m\u001b[0m\n\u001b[0;32m     15\u001b[0m \u001b[1;31m# for course in data.find_all('div', class_ = 'popover--popover--t3rNO popover--popover-hover--14ngr'):\u001b[0m\u001b[1;33m\u001b[0m\u001b[1;33m\u001b[0m\u001b[1;33m\u001b[0m\u001b[0m\n",
      "\u001b[1;31mTypeError\u001b[0m: list indices must be integers or slices, not str"
     ]
    }
   ],
   "source": [
    "\n",
    "import requests\n",
    "from bs4 import BeautifulSoup\n",
    "\n",
    "url = 'https://www.udemy.com/courses/search/?q=python'\n",
    "\n",
    "response = requests.get(url)\n",
    "# print(response.ok)\n",
    "soup = BeautifulSoup(response.text, 'lxml')\n",
    "\n",
    "# data = soup.find('div', class_ = 'filter-container--container--3A8k6')\n",
    "\n",
    "# course = data.find('div', class_ = 'popover--popover--t3rNO popover--popover-hover--14ngr')\n",
    "link = soup.find_all('a', id_ = 'u509-popover-trigger--611')\n",
    "print(link.get('href'))\n",
    "# for course in data.find_all('div', class_ = 'popover--popover--t3rNO popover--popover-hover--14ngr'):\n",
    "    \n",
    "#     link = course.find('a', id_ = 'u509-popover-trigger--611')['href']"
   ]
  },
  {
   "cell_type": "markdown",
   "metadata": {},
   "source": [
    "# Automation ( selenium )  --\n"
   ]
  },
  {
   "cell_type": "code",
   "execution_count": 1,
   "metadata": {},
   "outputs": [],
   "source": [
    "from selenium import webdriver"
   ]
  },
  {
   "cell_type": "code",
   "execution_count": 4,
   "metadata": {},
   "outputs": [],
   "source": [
    "import requests\n",
    "from bs4 import BeautifulSoup as soup"
   ]
  },
  {
   "cell_type": "code",
   "execution_count": 5,
   "metadata": {},
   "outputs": [
    {
     "ename": "AttributeError",
     "evalue": "'str' object has no attribute 'find_all'",
     "output_type": "error",
     "traceback": [
      "\u001b[1;31m---------------------------------------------------------------------------\u001b[0m",
      "\u001b[1;31mAttributeError\u001b[0m                            Traceback (most recent call last)",
      "\u001b[1;32m<ipython-input-5-60ab40c68d95>\u001b[0m in \u001b[0;36m<module>\u001b[1;34m\u001b[0m\n\u001b[0;32m      4\u001b[0m \u001b[1;33m\u001b[0m\u001b[0m\n\u001b[0;32m      5\u001b[0m \u001b[1;31m# searchbox = driver.find_element_by_xpath('//*[@id=\"search-container\"]').send_keys(\"Krish Naik\")\u001b[0m\u001b[1;33m\u001b[0m\u001b[1;33m\u001b[0m\u001b[1;33m\u001b[0m\u001b[0m\n\u001b[1;32m----> 6\u001b[1;33m \u001b[0msearchbox\u001b[0m \u001b[1;33m=\u001b[0m \u001b[0msoup\u001b[0m\u001b[1;33m.\u001b[0m\u001b[0mfind\u001b[0m\u001b[1;33m(\u001b[0m\u001b[1;34m'input'\u001b[0m\u001b[1;33m,\u001b[0m \u001b[0mid\u001b[0m \u001b[1;33m=\u001b[0m \u001b[1;34m'search'\u001b[0m\u001b[1;33m)\u001b[0m\u001b[1;33m\u001b[0m\u001b[1;33m\u001b[0m\u001b[0m\n\u001b[0m\u001b[0;32m      7\u001b[0m \u001b[0msearchbox\u001b[0m\u001b[1;33m.\u001b[0m\u001b[0msend_keys\u001b[0m\u001b[1;33m(\u001b[0m\u001b[1;34m'Krish Naik'\u001b[0m\u001b[1;33m)\u001b[0m\u001b[1;33m\u001b[0m\u001b[1;33m\u001b[0m\u001b[0m\n\u001b[0;32m      8\u001b[0m \u001b[1;33m\u001b[0m\u001b[0m\n",
      "\u001b[1;32mC:\\ProgramData\\Anaconda3\\lib\\site-packages\\bs4\\element.py\u001b[0m in \u001b[0;36mfind\u001b[1;34m(self, name, attrs, recursive, text, **kwargs)\u001b[0m\n\u001b[0;32m   1674\u001b[0m         \"\"\"\n\u001b[0;32m   1675\u001b[0m         \u001b[0mr\u001b[0m \u001b[1;33m=\u001b[0m \u001b[1;32mNone\u001b[0m\u001b[1;33m\u001b[0m\u001b[1;33m\u001b[0m\u001b[0m\n\u001b[1;32m-> 1676\u001b[1;33m         \u001b[0ml\u001b[0m \u001b[1;33m=\u001b[0m \u001b[0mself\u001b[0m\u001b[1;33m.\u001b[0m\u001b[0mfind_all\u001b[0m\u001b[1;33m(\u001b[0m\u001b[0mname\u001b[0m\u001b[1;33m,\u001b[0m \u001b[0mattrs\u001b[0m\u001b[1;33m,\u001b[0m \u001b[0mrecursive\u001b[0m\u001b[1;33m,\u001b[0m \u001b[0mtext\u001b[0m\u001b[1;33m,\u001b[0m \u001b[1;36m1\u001b[0m\u001b[1;33m,\u001b[0m \u001b[1;33m**\u001b[0m\u001b[0mkwargs\u001b[0m\u001b[1;33m)\u001b[0m\u001b[1;33m\u001b[0m\u001b[1;33m\u001b[0m\u001b[0m\n\u001b[0m\u001b[0;32m   1677\u001b[0m         \u001b[1;32mif\u001b[0m \u001b[0ml\u001b[0m\u001b[1;33m:\u001b[0m\u001b[1;33m\u001b[0m\u001b[1;33m\u001b[0m\u001b[0m\n\u001b[0;32m   1678\u001b[0m             \u001b[0mr\u001b[0m \u001b[1;33m=\u001b[0m \u001b[0ml\u001b[0m\u001b[1;33m[\u001b[0m\u001b[1;36m0\u001b[0m\u001b[1;33m]\u001b[0m\u001b[1;33m\u001b[0m\u001b[1;33m\u001b[0m\u001b[0m\n",
      "\u001b[1;31mAttributeError\u001b[0m: 'str' object has no attribute 'find_all'"
     ]
    }
   ],
   "source": [
    "driver = webdriver.Chrome()\n",
    "\n",
    "driver.get('https://www.youtube.com/')\n",
    "\n",
    "searchbox = driver.find_element_by_xpath('//*[@id=\"search-container\"]')\n",
    "searchbox.send_keys('Krish Naik')\n",
    "\n",
    "search = driver.find_element_by_xpath('//*[@id=\"search-icon-legacy\"]')\n",
    "search.click()\n"
   ]
  },
  {
   "cell_type": "code",
   "execution_count": null,
   "metadata": {},
   "outputs": [],
   "source": []
  }
 ],
 "metadata": {
  "kernelspec": {
   "display_name": "Python 3",
   "language": "python",
   "name": "python3"
  },
  "language_info": {
   "codemirror_mode": {
    "name": "ipython",
    "version": 3
   },
   "file_extension": ".py",
   "mimetype": "text/x-python",
   "name": "python",
   "nbconvert_exporter": "python",
   "pygments_lexer": "ipython3",
   "version": "3.7.6"
  }
 },
 "nbformat": 4,
 "nbformat_minor": 4
}
